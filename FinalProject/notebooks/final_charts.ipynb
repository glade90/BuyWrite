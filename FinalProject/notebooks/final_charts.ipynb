{
 "cells": [
  {
   "cell_type": "code",
   "execution_count": null,
   "id": "61839406",
   "metadata": {},
   "outputs": [],
   "source": []
  },
  {
   "cell_type": "code",
   "execution_count": null,
   "id": "c018d046",
   "metadata": {},
   "outputs": [],
   "source": [
    "import yfinance as yf\n",
    "vix = yf.download(\"^VIX\", start=\"2015-01-01\", end=\"2025-04-30\")"
   ]
  }
 ],
 "metadata": {
  "language_info": {
   "name": "python"
  }
 },
 "nbformat": 4,
 "nbformat_minor": 5
}
