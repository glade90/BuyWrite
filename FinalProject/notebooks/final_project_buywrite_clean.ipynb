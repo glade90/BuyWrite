{
 "cells": [
  {
   "cell_type": "markdown",
   "id": "90fb9303",
   "metadata": {},
   "source": [
    "## 🧠 Final Project: Buy-Write Strategy Optimization"
   ]
  },
  {
   "cell_type": "markdown",
   "id": "b3fad327",
   "metadata": {},
   "source": [
    "### 1. 📦 Setup and Imports"
   ]
  },
  {
   "cell_type": "code",
   "execution_count": 6,
   "metadata": {},
   "outputs": [],
   "source": [
    "# Core imports\n",
    "import os, sys, shutil\n",
    "import json\n",
    "import pandas as pd\n",
    "import numpy as np\n",
    "import matplotlib.pyplot as plt\n",
    "import seaborn as sns\n",
    "import yfinance as yf\n",
    "import datetime, time\n",
    "import seaborn as sns\n",
    "from datetime import datetime\n",
    "from collections import defaultdict\n",
    "\n",
    "\n",
    "\n",
    "from scipy.stats import norm\n",
    "\n",
    "# Basic settings\n",
    "%matplotlib inline\n",
    "sns.set(style=\"whitegrid\")\n",
    "\n",
    "# Project Dates\n",
    "START_DATE = '2015-01-01'\n",
    "END_DATE = '2025-04-30'\n",
    "\n",
    "# Risk-free rate assumption\n",
    "RISK_FREE_RATE = 0.02  # 2% annualized\n",
    "debug = False"
   ]
  },
  {
   "cell_type": "code",
   "execution_count": 7,
   "metadata": {},
   "outputs": [
    {
     "name": "stdout",
     "output_type": "stream",
     "text": [
      "['MMM', 'AOS', 'ABT', 'ABBV', 'ACN', 'ADBE', 'AMD', 'AES', 'AFL', 'A']\n",
      "Saved 503 tickers to ../data/sp500_tickers.csv\n"
     ]
    }
   ],
   "source": [
    "# Pull table from Wikipedia\n",
    "url = \"https://en.wikipedia.org/wiki/List_of_S%26P_500_companies\"\n",
    "tables = pd.read_html(url)\n",
    "\n",
    "# The first table contains the S&P 500 constituents\n",
    "sp500_table = tables[0]\n",
    "\n",
    "# Extract the 'Symbol' column\n",
    "sp500_tickers = sp500_table['Symbol'].tolist()\n",
    "\n",
    "# Some symbols have dots instead of dashes (e.g., BRK.B should be BRK-B for Yahoo)\n",
    "sp500_tickers = [ticker.replace('.', '-') for ticker in sp500_tickers]\n",
    "\n",
    "# Print first 10 tickers to check\n",
    "print(sp500_tickers[:10])\n",
    "\n",
    "# Save to CSV (optional but recommended)\n",
    "ticker_list_path = \"../data/sp500_tickers.csv\"\n",
    "pd.DataFrame(sp500_tickers, columns=[\"Ticker\"]).to_csv(ticker_list_path, index=False)\n",
    "\n",
    "print(f\"Saved {len(sp500_tickers)} tickers to {ticker_list_path}\")"
   ]
  },
  {
   "cell_type": "code",
   "execution_count": 8,
   "metadata": {},
   "outputs": [
    {
     "name": "stdout",
     "output_type": "stream",
     "text": [
      "Length of S&P500 Ticker list: 503\n"
     ]
    },
    {
     "data": {
      "text/plain": [
       "['MSI', 'KEY', 'ZBRA', 'LOW', 'CRM']"
      ]
     },
     "execution_count": 8,
     "metadata": {},
     "output_type": "execute_result"
    }
   ],
   "source": [
    "print(f\"Length of S&P500 Ticker list: {len(sp500_tickers)}\")\n",
    "import random\n",
    "random.sample(sp500_tickers, 5)"
   ]
  },
  {
   "cell_type": "markdown",
   "metadata": {},
   "source": [
    "## Batch Stock Downloader"
   ]
  },
  {
   "cell_type": "markdown",
   "id": "f8c728ed",
   "metadata": {},
   "source": [
    "### 2. 📈 Load Data"
   ]
  },
  {
   "cell_type": "code",
   "execution_count": null,
   "metadata": {},
   "outputs": [
    {
     "name": "stderr",
     "output_type": "stream",
     "text": [
      "[*****                 10%                       ]  2 of 20 completed"
     ]
    },
    {
     "name": "stdout",
     "output_type": "stream",
     "text": [
      "🧹 Cleared old data from ../data/stock_prices\n",
      "\n",
      "📦 Pulling batch 1: ['MMM', 'AOS', 'ABT', 'ABBV', 'ACN', 'ADBE', 'AMD', 'AES', 'AFL', 'A', 'APD', 'ABNB', 'AKAM', 'ALB', 'ARE', 'ALGN', 'ALLE', 'LNT', 'ALL', 'GOOGL']\n"
     ]
    },
    {
     "name": "stderr",
     "output_type": "stream",
     "text": [
      "[*********************100%***********************]  20 of 20 completed\n"
     ]
    },
    {
     "name": "stdout",
     "output_type": "stream",
     "text": [
      "✅ Saved MMM\n",
      "✅ Saved AOS\n",
      "✅ Saved ABT\n",
      "✅ Saved ABBV\n",
      "✅ Saved ACN\n",
      "✅ Saved ADBE\n",
      "✅ Saved AMD\n",
      "✅ Saved AES\n",
      "✅ Saved AFL\n",
      "✅ Saved A\n",
      "✅ Saved APD\n",
      "✅ Saved ABNB\n",
      "✅ Saved AKAM\n",
      "✅ Saved ALB\n",
      "✅ Saved ARE\n",
      "✅ Saved ALGN\n",
      "✅ Saved ALLE\n",
      "✅ Saved LNT\n",
      "✅ Saved ALL\n",
      "✅ Saved GOOGL\n"
     ]
    },
    {
     "name": "stderr",
     "output_type": "stream",
     "text": [
      "[                       0%                       ]"
     ]
    },
    {
     "name": "stdout",
     "output_type": "stream",
     "text": [
      "\n",
      "📦 Pulling batch 2: ['GOOG', 'MO', 'AMZN', 'AMCR', 'AEE', 'AEP', 'AXP', 'AIG', 'AMT', 'AWK', 'AMP', 'AME', 'AMGN', 'APH', 'ADI', 'ANSS', 'AON', 'APA', 'APO', 'AAPL']\n"
     ]
    },
    {
     "name": "stderr",
     "output_type": "stream",
     "text": [
      "[*********************100%***********************]  20 of 20 completed\n"
     ]
    },
    {
     "name": "stdout",
     "output_type": "stream",
     "text": [
      "✅ Saved GOOG\n",
      "✅ Saved MO\n",
      "✅ Saved AMZN\n",
      "✅ Saved AMCR\n",
      "✅ Saved AEE\n",
      "✅ Saved AEP\n",
      "✅ Saved AXP\n",
      "✅ Saved AIG\n",
      "✅ Saved AMT\n",
      "✅ Saved AWK\n",
      "✅ Saved AMP\n",
      "✅ Saved AME\n",
      "✅ Saved AMGN\n",
      "✅ Saved APH\n",
      "✅ Saved ADI\n",
      "✅ Saved ANSS\n",
      "✅ Saved AON\n",
      "✅ Saved APA\n",
      "✅ Saved APO\n",
      "✅ Saved AAPL\n",
      "\n",
      "📦 Pulling batch 3: ['AMAT', 'APTV', 'ACGL', 'ADM', 'ANET', 'AJG', 'AIZ', 'T', 'ATO', 'ADSK', 'ADP', 'AZO', 'AVB', 'AVY', 'AXON', 'BKR', 'BALL', 'BAC', 'BAX', 'BDX']\n"
     ]
    },
    {
     "name": "stderr",
     "output_type": "stream",
     "text": [
      "[*********************100%***********************]  20 of 20 completed\n"
     ]
    },
    {
     "name": "stdout",
     "output_type": "stream",
     "text": [
      "✅ Saved AMAT\n",
      "✅ Saved APTV\n",
      "✅ Saved ACGL\n",
      "✅ Saved ADM\n",
      "✅ Saved ANET\n",
      "✅ Saved AJG\n",
      "✅ Saved AIZ\n",
      "✅ Saved T\n",
      "✅ Saved ATO\n",
      "✅ Saved ADSK\n",
      "✅ Saved ADP\n",
      "✅ Saved AZO\n",
      "✅ Saved AVB\n",
      "✅ Saved AVY\n",
      "✅ Saved AXON\n",
      "✅ Saved BKR\n",
      "✅ Saved BALL\n",
      "✅ Saved BAC\n",
      "✅ Saved BAX\n",
      "✅ Saved BDX\n",
      "\n",
      "📦 Pulling batch 4: ['BRK-B', 'BBY', 'TECH', 'BIIB', 'BLK', 'BX', 'BK', 'BA', 'BKNG', 'BSX', 'BMY', 'AVGO', 'BR', 'BRO', 'BF-B', 'BLDR', 'BG', 'BXP', 'CHRW', 'CDNS']\n"
     ]
    },
    {
     "name": "stderr",
     "output_type": "stream",
     "text": [
      "[*********************100%***********************]  20 of 20 completed\n"
     ]
    },
    {
     "name": "stdout",
     "output_type": "stream",
     "text": [
      "✅ Saved BRK-B\n",
      "✅ Saved BBY\n",
      "✅ Saved TECH\n",
      "✅ Saved BIIB\n",
      "✅ Saved BLK\n",
      "✅ Saved BX\n",
      "✅ Saved BK\n",
      "✅ Saved BA\n",
      "✅ Saved BKNG\n",
      "✅ Saved BSX\n",
      "✅ Saved BMY\n",
      "✅ Saved AVGO\n",
      "✅ Saved BR\n",
      "✅ Saved BRO\n",
      "✅ Saved BF-B\n",
      "✅ Saved BLDR\n",
      "✅ Saved BG\n",
      "✅ Saved BXP\n",
      "✅ Saved CHRW\n",
      "✅ Saved CDNS\n",
      "\n",
      "📦 Pulling batch 5: ['CZR', 'CPT', 'CPB', 'COF', 'CAH', 'KMX', 'CCL', 'CARR', 'CAT', 'CBOE', 'CBRE', 'CDW', 'COR', 'CNC', 'CNP', 'CF', 'CRL', 'SCHW', 'CHTR', 'CVX']\n"
     ]
    },
    {
     "name": "stderr",
     "output_type": "stream",
     "text": [
      "[*********************100%***********************]  20 of 20 completed\n"
     ]
    },
    {
     "name": "stdout",
     "output_type": "stream",
     "text": [
      "✅ Saved CZR\n",
      "✅ Saved CPT\n",
      "✅ Saved CPB\n",
      "✅ Saved COF\n",
      "✅ Saved CAH\n",
      "✅ Saved KMX\n",
      "✅ Saved CCL\n",
      "✅ Saved CARR\n",
      "✅ Saved CAT\n",
      "✅ Saved CBOE\n",
      "✅ Saved CBRE\n",
      "✅ Saved CDW\n",
      "✅ Saved COR\n",
      "✅ Saved CNC\n",
      "✅ Saved CNP\n",
      "✅ Saved CF\n",
      "✅ Saved CRL\n",
      "✅ Saved SCHW\n",
      "✅ Saved CHTR\n",
      "✅ Saved CVX\n",
      "\n",
      "📦 Pulling batch 6: ['CMG', 'CB', 'CHD', 'CI', 'CINF', 'CTAS', 'CSCO', 'C', 'CFG', 'CLX', 'CME', 'CMS', 'KO', 'CTSH', 'CL', 'CMCSA', 'CAG', 'COP', 'ED', 'STZ']\n"
     ]
    },
    {
     "name": "stderr",
     "output_type": "stream",
     "text": [
      "[*********************100%***********************]  20 of 20 completed\n"
     ]
    },
    {
     "name": "stdout",
     "output_type": "stream",
     "text": [
      "✅ Saved CMG\n",
      "✅ Saved CB\n",
      "✅ Saved CHD\n",
      "✅ Saved CI\n",
      "✅ Saved CINF\n",
      "✅ Saved CTAS\n",
      "✅ Saved CSCO\n",
      "✅ Saved C\n",
      "✅ Saved CFG\n",
      "✅ Saved CLX\n",
      "✅ Saved CME\n",
      "✅ Saved CMS\n",
      "✅ Saved KO\n",
      "✅ Saved CTSH\n",
      "✅ Saved CL\n",
      "✅ Saved CMCSA\n",
      "✅ Saved CAG\n",
      "✅ Saved COP\n",
      "✅ Saved ED\n",
      "✅ Saved STZ\n",
      "\n",
      "📦 Pulling batch 7: ['CEG', 'COO', 'CPRT', 'GLW', 'CPAY', 'CTVA', 'CSGP', 'COST', 'CTRA', 'CRWD', 'CCI', 'CSX', 'CMI', 'CVS', 'DHR', 'DRI', 'DVA', 'DAY', 'DECK', 'DE']\n"
     ]
    },
    {
     "name": "stderr",
     "output_type": "stream",
     "text": [
      "[*********************100%***********************]  20 of 20 completed\n"
     ]
    },
    {
     "name": "stdout",
     "output_type": "stream",
     "text": [
      "✅ Saved CEG\n",
      "✅ Saved COO\n",
      "✅ Saved CPRT\n",
      "✅ Saved GLW\n",
      "✅ Saved CPAY\n",
      "✅ Saved CTVA\n",
      "✅ Saved CSGP\n",
      "✅ Saved COST\n",
      "✅ Saved CTRA\n",
      "✅ Saved CRWD\n",
      "✅ Saved CCI\n",
      "✅ Saved CSX\n",
      "✅ Saved CMI\n",
      "✅ Saved CVS\n",
      "✅ Saved DHR\n",
      "✅ Saved DRI\n",
      "✅ Saved DVA\n",
      "✅ Saved DAY\n",
      "✅ Saved DECK\n",
      "✅ Saved DE\n",
      "\n",
      "📦 Pulling batch 8: ['DELL', 'DAL', 'DVN', 'DXCM', 'FANG', 'DLR', 'DFS', 'DG', 'DLTR', 'D', 'DPZ', 'DASH', 'DOV', 'DOW', 'DHI', 'DTE', 'DUK', 'DD', 'EMN', 'ETN']\n"
     ]
    },
    {
     "name": "stderr",
     "output_type": "stream",
     "text": [
      "[*********************100%***********************]  20 of 20 completed\n"
     ]
    },
    {
     "name": "stdout",
     "output_type": "stream",
     "text": [
      "✅ Saved DELL\n",
      "✅ Saved DAL\n",
      "✅ Saved DVN\n",
      "✅ Saved DXCM\n",
      "✅ Saved FANG\n",
      "✅ Saved DLR\n",
      "✅ Saved DFS\n",
      "✅ Saved DG\n",
      "✅ Saved DLTR\n",
      "✅ Saved D\n",
      "✅ Saved DPZ\n",
      "✅ Saved DASH\n",
      "✅ Saved DOV\n",
      "✅ Saved DOW\n",
      "✅ Saved DHI\n",
      "✅ Saved DTE\n",
      "✅ Saved DUK\n",
      "✅ Saved DD\n",
      "✅ Saved EMN\n",
      "✅ Saved ETN\n",
      "\n",
      "📦 Pulling batch 9: ['EBAY', 'ECL', 'EIX', 'EW', 'EA', 'ELV', 'EMR', 'ENPH', 'ETR', 'EOG', 'EPAM', 'EQT', 'EFX', 'EQIX', 'EQR', 'ERIE', 'ESS', 'EL', 'EG', 'EVRG']\n"
     ]
    },
    {
     "name": "stderr",
     "output_type": "stream",
     "text": [
      "[*********************100%***********************]  20 of 20 completed\n"
     ]
    },
    {
     "name": "stdout",
     "output_type": "stream",
     "text": [
      "✅ Saved EBAY\n",
      "✅ Saved ECL\n",
      "✅ Saved EIX\n",
      "✅ Saved EW\n",
      "✅ Saved EA\n",
      "✅ Saved ELV\n",
      "✅ Saved EMR\n",
      "✅ Saved ENPH\n",
      "✅ Saved ETR\n",
      "✅ Saved EOG\n",
      "✅ Saved EPAM\n",
      "✅ Saved EQT\n",
      "✅ Saved EFX\n",
      "✅ Saved EQIX\n",
      "✅ Saved EQR\n",
      "✅ Saved ERIE\n",
      "✅ Saved ESS\n",
      "✅ Saved EL\n",
      "✅ Saved EG\n",
      "✅ Saved EVRG\n",
      "\n",
      "📦 Pulling batch 10: ['ES', 'EXC', 'EXE', 'EXPE', 'EXPD', 'EXR', 'XOM', 'FFIV', 'FDS', 'FICO', 'FAST', 'FRT', 'FDX', 'FIS', 'FITB', 'FSLR', 'FE', 'FI', 'F', 'FTNT']\n"
     ]
    },
    {
     "name": "stderr",
     "output_type": "stream",
     "text": [
      "[*********************100%***********************]  20 of 20 completed\n"
     ]
    },
    {
     "name": "stdout",
     "output_type": "stream",
     "text": [
      "✅ Saved ES\n",
      "✅ Saved EXC\n",
      "✅ Saved EXE\n",
      "✅ Saved EXPE\n",
      "✅ Saved EXPD\n",
      "✅ Saved EXR\n",
      "✅ Saved XOM\n",
      "✅ Saved FFIV\n",
      "✅ Saved FDS\n",
      "✅ Saved FICO\n",
      "✅ Saved FAST\n",
      "✅ Saved FRT\n",
      "✅ Saved FDX\n",
      "✅ Saved FIS\n",
      "✅ Saved FITB\n",
      "✅ Saved FSLR\n",
      "✅ Saved FE\n",
      "✅ Saved FI\n",
      "✅ Saved F\n",
      "✅ Saved FTNT\n",
      "\n",
      "📦 Pulling batch 11: ['FTV', 'FOXA', 'FOX', 'BEN', 'FCX', 'GRMN', 'IT', 'GE', 'GEHC', 'GEV', 'GEN', 'GNRC', 'GD', 'GIS', 'GM', 'GPC', 'GILD', 'GPN', 'GL', 'GDDY']\n"
     ]
    },
    {
     "name": "stderr",
     "output_type": "stream",
     "text": [
      "[*********************100%***********************]  20 of 20 completed\n"
     ]
    },
    {
     "name": "stdout",
     "output_type": "stream",
     "text": [
      "✅ Saved FTV\n",
      "✅ Saved FOXA\n",
      "✅ Saved FOX\n",
      "✅ Saved BEN\n",
      "✅ Saved FCX\n",
      "✅ Saved GRMN\n",
      "✅ Saved IT\n",
      "✅ Saved GE\n",
      "✅ Saved GEHC\n",
      "✅ Saved GEV\n",
      "✅ Saved GEN\n",
      "✅ Saved GNRC\n",
      "✅ Saved GD\n",
      "✅ Saved GIS\n",
      "✅ Saved GM\n",
      "✅ Saved GPC\n",
      "✅ Saved GILD\n",
      "✅ Saved GPN\n",
      "✅ Saved GL\n",
      "✅ Saved GDDY\n",
      "\n",
      "📦 Pulling batch 12: ['GS', 'HAL', 'HIG', 'HAS', 'HCA', 'DOC', 'HSIC', 'HSY', 'HES', 'HPE', 'HLT', 'HOLX', 'HD', 'HON', 'HRL', 'HST', 'HWM', 'HPQ', 'HUBB', 'HUM']\n"
     ]
    },
    {
     "name": "stderr",
     "output_type": "stream",
     "text": [
      "[*********************100%***********************]  20 of 20 completed\n"
     ]
    },
    {
     "name": "stdout",
     "output_type": "stream",
     "text": [
      "✅ Saved GS\n",
      "✅ Saved HAL\n",
      "✅ Saved HIG\n",
      "✅ Saved HAS\n",
      "✅ Saved HCA\n",
      "✅ Saved DOC\n",
      "✅ Saved HSIC\n",
      "✅ Saved HSY\n",
      "✅ Saved HES\n",
      "✅ Saved HPE\n",
      "✅ Saved HLT\n",
      "✅ Saved HOLX\n",
      "✅ Saved HD\n",
      "✅ Saved HON\n",
      "✅ Saved HRL\n",
      "✅ Saved HST\n",
      "✅ Saved HWM\n",
      "✅ Saved HPQ\n",
      "✅ Saved HUBB\n",
      "✅ Saved HUM\n",
      "\n",
      "📦 Pulling batch 13: ['HBAN', 'HII', 'IBM', 'IEX', 'IDXX', 'ITW', 'INCY', 'IR', 'PODD', 'INTC', 'ICE', 'IFF', 'IP', 'IPG', 'INTU', 'ISRG', 'IVZ', 'INVH', 'IQV', 'IRM']\n"
     ]
    },
    {
     "name": "stderr",
     "output_type": "stream",
     "text": [
      "[*********************100%***********************]  20 of 20 completed\n"
     ]
    },
    {
     "name": "stdout",
     "output_type": "stream",
     "text": [
      "✅ Saved HBAN\n",
      "✅ Saved HII\n",
      "✅ Saved IBM\n",
      "✅ Saved IEX\n",
      "✅ Saved IDXX\n",
      "✅ Saved ITW\n",
      "✅ Saved INCY\n",
      "✅ Saved IR\n",
      "✅ Saved PODD\n",
      "✅ Saved INTC\n",
      "✅ Saved ICE\n",
      "✅ Saved IFF\n",
      "✅ Saved IP\n",
      "✅ Saved IPG\n",
      "✅ Saved INTU\n",
      "✅ Saved ISRG\n",
      "✅ Saved IVZ\n",
      "✅ Saved INVH\n",
      "✅ Saved IQV\n",
      "✅ Saved IRM\n",
      "\n",
      "📦 Pulling batch 14: ['JBHT', 'JBL', 'JKHY', 'J', 'JNJ', 'JCI', 'JPM', 'JNPR', 'K', 'KVUE', 'KDP', 'KEY', 'KEYS', 'KMB', 'KIM', 'KMI', 'KKR', 'KLAC', 'KHC', 'KR']\n"
     ]
    },
    {
     "name": "stderr",
     "output_type": "stream",
     "text": [
      "[*********************100%***********************]  20 of 20 completed\n"
     ]
    },
    {
     "name": "stdout",
     "output_type": "stream",
     "text": [
      "✅ Saved JBHT\n",
      "✅ Saved JBL\n",
      "✅ Saved JKHY\n",
      "✅ Saved J\n",
      "✅ Saved JNJ\n",
      "✅ Saved JCI\n",
      "✅ Saved JPM\n",
      "✅ Saved JNPR\n",
      "✅ Saved K\n",
      "✅ Saved KVUE\n",
      "✅ Saved KDP\n",
      "✅ Saved KEY\n",
      "✅ Saved KEYS\n",
      "✅ Saved KMB\n",
      "✅ Saved KIM\n",
      "✅ Saved KMI\n",
      "✅ Saved KKR\n",
      "✅ Saved KLAC\n",
      "✅ Saved KHC\n",
      "✅ Saved KR\n",
      "\n",
      "📦 Pulling batch 15: ['LHX', 'LH', 'LRCX', 'LW', 'LVS', 'LDOS', 'LEN', 'LII', 'LLY', 'LIN', 'LYV', 'LKQ', 'LMT', 'L', 'LOW', 'LULU', 'LYB', 'MTB', 'MPC', 'MKTX']\n"
     ]
    },
    {
     "name": "stderr",
     "output_type": "stream",
     "text": [
      "[*********************100%***********************]  20 of 20 completed\n"
     ]
    },
    {
     "name": "stdout",
     "output_type": "stream",
     "text": [
      "✅ Saved LHX\n",
      "✅ Saved LH\n",
      "✅ Saved LRCX\n",
      "✅ Saved LW\n",
      "✅ Saved LVS\n",
      "✅ Saved LDOS\n",
      "✅ Saved LEN\n",
      "✅ Saved LII\n",
      "✅ Saved LLY\n",
      "✅ Saved LIN\n",
      "✅ Saved LYV\n",
      "✅ Saved LKQ\n",
      "✅ Saved LMT\n",
      "✅ Saved L\n",
      "✅ Saved LOW\n",
      "✅ Saved LULU\n",
      "✅ Saved LYB\n",
      "✅ Saved MTB\n",
      "✅ Saved MPC\n",
      "✅ Saved MKTX\n",
      "\n",
      "📦 Pulling batch 16: ['MAR', 'MMC', 'MLM', 'MAS', 'MA', 'MTCH', 'MKC', 'MCD', 'MCK', 'MDT', 'MRK', 'META', 'MET', 'MTD', 'MGM', 'MCHP', 'MU', 'MSFT', 'MAA', 'MRNA']\n"
     ]
    },
    {
     "name": "stderr",
     "output_type": "stream",
     "text": [
      "[*********************100%***********************]  20 of 20 completed\n"
     ]
    },
    {
     "name": "stdout",
     "output_type": "stream",
     "text": [
      "✅ Saved MAR\n",
      "✅ Saved MMC\n",
      "✅ Saved MLM\n",
      "✅ Saved MAS\n",
      "✅ Saved MA\n",
      "✅ Saved MTCH\n",
      "✅ Saved MKC\n",
      "✅ Saved MCD\n",
      "✅ Saved MCK\n",
      "✅ Saved MDT\n",
      "✅ Saved MRK\n",
      "✅ Saved META\n",
      "✅ Saved MET\n",
      "✅ Saved MTD\n",
      "✅ Saved MGM\n",
      "✅ Saved MCHP\n",
      "✅ Saved MU\n",
      "✅ Saved MSFT\n",
      "✅ Saved MAA\n",
      "✅ Saved MRNA\n",
      "\n",
      "📦 Pulling batch 17: ['MHK', 'MOH', 'TAP', 'MDLZ', 'MPWR', 'MNST', 'MCO', 'MS', 'MOS', 'MSI', 'MSCI', 'NDAQ', 'NTAP', 'NFLX', 'NEM', 'NWSA', 'NWS', 'NEE', 'NKE', 'NI']\n"
     ]
    },
    {
     "name": "stderr",
     "output_type": "stream",
     "text": [
      "[*********************100%***********************]  20 of 20 completed\n"
     ]
    },
    {
     "name": "stdout",
     "output_type": "stream",
     "text": [
      "✅ Saved MHK\n",
      "✅ Saved MOH\n",
      "✅ Saved TAP\n",
      "✅ Saved MDLZ\n",
      "✅ Saved MPWR\n",
      "✅ Saved MNST\n",
      "✅ Saved MCO\n",
      "✅ Saved MS\n",
      "✅ Saved MOS\n",
      "✅ Saved MSI\n",
      "✅ Saved MSCI\n",
      "✅ Saved NDAQ\n",
      "✅ Saved NTAP\n",
      "✅ Saved NFLX\n",
      "✅ Saved NEM\n",
      "✅ Saved NWSA\n",
      "✅ Saved NWS\n",
      "✅ Saved NEE\n",
      "✅ Saved NKE\n",
      "✅ Saved NI\n",
      "\n",
      "📦 Pulling batch 18: ['NDSN', 'NSC', 'NTRS', 'NOC', 'NCLH', 'NRG', 'NUE', 'NVDA', 'NVR', 'NXPI', 'ORLY', 'OXY', 'ODFL', 'OMC', 'ON', 'OKE', 'ORCL', 'OTIS', 'PCAR', 'PKG']\n"
     ]
    },
    {
     "name": "stderr",
     "output_type": "stream",
     "text": [
      "[*********************100%***********************]  20 of 20 completed\n"
     ]
    },
    {
     "name": "stdout",
     "output_type": "stream",
     "text": [
      "✅ Saved NDSN\n",
      "✅ Saved NSC\n",
      "✅ Saved NTRS\n",
      "✅ Saved NOC\n",
      "✅ Saved NCLH\n",
      "✅ Saved NRG\n",
      "✅ Saved NUE\n",
      "✅ Saved NVDA\n",
      "✅ Saved NVR\n",
      "✅ Saved NXPI\n",
      "✅ Saved ORLY\n",
      "✅ Saved OXY\n",
      "✅ Saved ODFL\n",
      "✅ Saved OMC\n",
      "✅ Saved ON\n",
      "✅ Saved OKE\n",
      "✅ Saved ORCL\n",
      "✅ Saved OTIS\n",
      "✅ Saved PCAR\n",
      "✅ Saved PKG\n",
      "\n",
      "📦 Pulling batch 19: ['PLTR', 'PANW', 'PARA', 'PH', 'PAYX', 'PAYC', 'PYPL', 'PNR', 'PEP', 'PFE', 'PCG', 'PM', 'PSX', 'PNW', 'PNC', 'POOL', 'PPG', 'PPL', 'PFG', 'PG']\n"
     ]
    },
    {
     "name": "stderr",
     "output_type": "stream",
     "text": [
      "[*********************100%***********************]  20 of 20 completed\n"
     ]
    },
    {
     "name": "stdout",
     "output_type": "stream",
     "text": [
      "✅ Saved PLTR\n",
      "✅ Saved PANW\n",
      "✅ Saved PARA\n",
      "✅ Saved PH\n",
      "✅ Saved PAYX\n",
      "✅ Saved PAYC\n",
      "✅ Saved PYPL\n",
      "✅ Saved PNR\n",
      "✅ Saved PEP\n",
      "✅ Saved PFE\n",
      "✅ Saved PCG\n",
      "✅ Saved PM\n",
      "✅ Saved PSX\n",
      "✅ Saved PNW\n",
      "✅ Saved PNC\n",
      "✅ Saved POOL\n",
      "✅ Saved PPG\n",
      "✅ Saved PPL\n",
      "✅ Saved PFG\n",
      "✅ Saved PG\n",
      "\n",
      "📦 Pulling batch 20: ['PGR', 'PLD', 'PRU', 'PEG', 'PTC', 'PSA', 'PHM', 'PWR', 'QCOM', 'DGX', 'RL', 'RJF', 'RTX', 'O', 'REG', 'REGN', 'RF', 'RSG', 'RMD', 'RVTY']\n"
     ]
    },
    {
     "name": "stderr",
     "output_type": "stream",
     "text": [
      "[*********************100%***********************]  20 of 20 completed\n"
     ]
    },
    {
     "name": "stdout",
     "output_type": "stream",
     "text": [
      "✅ Saved PGR\n",
      "✅ Saved PLD\n",
      "✅ Saved PRU\n",
      "✅ Saved PEG\n",
      "✅ Saved PTC\n",
      "✅ Saved PSA\n",
      "✅ Saved PHM\n",
      "✅ Saved PWR\n",
      "✅ Saved QCOM\n",
      "✅ Saved DGX\n",
      "✅ Saved RL\n",
      "✅ Saved RJF\n",
      "✅ Saved RTX\n",
      "✅ Saved O\n",
      "✅ Saved REG\n",
      "✅ Saved REGN\n",
      "✅ Saved RF\n",
      "✅ Saved RSG\n",
      "✅ Saved RMD\n",
      "✅ Saved RVTY\n",
      "\n",
      "📦 Pulling batch 21: ['ROK', 'ROL', 'ROP', 'ROST', 'RCL', 'SPGI', 'CRM', 'SBAC', 'SLB', 'STX', 'SRE', 'NOW', 'SHW', 'SPG', 'SWKS', 'SJM', 'SW', 'SNA', 'SOLV', 'SO']\n"
     ]
    },
    {
     "name": "stderr",
     "output_type": "stream",
     "text": [
      "[*********************100%***********************]  19 of 20 completed\n",
      "\n",
      "1 Failed download:\n",
      "[*********************100%***********************]  19 of 20 completed['SW']: YFPricesMissingError('possibly delisted; no price data found  (1d 2015-01-01 -> 2024-04-30) (Yahoo error = \"Data doesn\\'t exist for startDate = 1420088400, endDate = 1714449600\")')\n"
     ]
    },
    {
     "name": "stdout",
     "output_type": "stream",
     "text": [
      "✅ Saved ROK\n",
      "✅ Saved ROL\n",
      "✅ Saved ROP\n",
      "✅ Saved ROST\n",
      "✅ Saved RCL\n",
      "✅ Saved SPGI\n",
      "✅ Saved CRM\n",
      "✅ Saved SBAC\n",
      "✅ Saved SLB\n",
      "✅ Saved STX\n",
      "✅ Saved SRE\n",
      "✅ Saved NOW\n",
      "✅ Saved SHW\n",
      "✅ Saved SPG\n",
      "✅ Saved SWKS\n",
      "✅ Saved SJM\n",
      "⚠️ SW returned an empty DataFrame.\n",
      "✅ Saved SNA\n",
      "✅ Saved SOLV\n",
      "✅ Saved SO\n",
      "\n",
      "📦 Pulling batch 22: ['LUV', 'SWK', 'SBUX', 'STT', 'STLD', 'STE', 'SYK', 'SMCI', 'SYF', 'SNPS', 'SYY', 'TMUS', 'TROW', 'TTWO', 'TPR', 'TRGP', 'TGT', 'TEL', 'TDY', 'TER']\n"
     ]
    },
    {
     "name": "stderr",
     "output_type": "stream",
     "text": [
      "[*********************100%***********************]  20 of 20 completed\n"
     ]
    },
    {
     "name": "stdout",
     "output_type": "stream",
     "text": [
      "✅ Saved LUV\n",
      "✅ Saved SWK\n",
      "✅ Saved SBUX\n",
      "✅ Saved STT\n",
      "✅ Saved STLD\n",
      "✅ Saved STE\n",
      "✅ Saved SYK\n",
      "✅ Saved SMCI\n",
      "✅ Saved SYF\n",
      "✅ Saved SNPS\n",
      "✅ Saved SYY\n",
      "✅ Saved TMUS\n",
      "✅ Saved TROW\n",
      "✅ Saved TTWO\n",
      "✅ Saved TPR\n",
      "✅ Saved TRGP\n",
      "✅ Saved TGT\n",
      "✅ Saved TEL\n",
      "✅ Saved TDY\n",
      "✅ Saved TER\n",
      "\n",
      "📦 Pulling batch 23: ['TSLA', 'TXN', 'TPL', 'TXT', 'TMO', 'TJX', 'TKO', 'TSCO', 'TT', 'TDG', 'TRV', 'TRMB', 'TFC', 'TYL', 'TSN', 'USB', 'UBER', 'UDR', 'ULTA', 'UNP']\n"
     ]
    },
    {
     "name": "stderr",
     "output_type": "stream",
     "text": [
      "[*********************100%***********************]  20 of 20 completed\n"
     ]
    },
    {
     "name": "stdout",
     "output_type": "stream",
     "text": [
      "✅ Saved TSLA\n",
      "✅ Saved TXN\n",
      "✅ Saved TPL\n",
      "✅ Saved TXT\n",
      "✅ Saved TMO\n",
      "✅ Saved TJX\n",
      "✅ Saved TKO\n",
      "✅ Saved TSCO\n",
      "✅ Saved TT\n",
      "✅ Saved TDG\n",
      "✅ Saved TRV\n",
      "✅ Saved TRMB\n",
      "✅ Saved TFC\n",
      "✅ Saved TYL\n",
      "✅ Saved TSN\n",
      "✅ Saved USB\n",
      "✅ Saved UBER\n",
      "✅ Saved UDR\n",
      "✅ Saved ULTA\n",
      "✅ Saved UNP\n",
      "\n",
      "📦 Pulling batch 24: ['UAL', 'UPS', 'URI', 'UNH', 'UHS', 'VLO', 'VTR', 'VLTO', 'VRSN', 'VRSK', 'VZ', 'VRTX', 'VTRS', 'VICI', 'V', 'VST', 'VMC', 'WRB', 'GWW', 'WAB']\n"
     ]
    },
    {
     "name": "stderr",
     "output_type": "stream",
     "text": [
      "[*********************100%***********************]  20 of 20 completed\n"
     ]
    },
    {
     "name": "stdout",
     "output_type": "stream",
     "text": [
      "✅ Saved UAL\n",
      "✅ Saved UPS\n",
      "✅ Saved URI\n",
      "✅ Saved UNH\n",
      "✅ Saved UHS\n",
      "✅ Saved VLO\n",
      "✅ Saved VTR\n",
      "✅ Saved VLTO\n",
      "✅ Saved VRSN\n",
      "✅ Saved VRSK\n",
      "✅ Saved VZ\n",
      "✅ Saved VRTX\n",
      "✅ Saved VTRS\n",
      "✅ Saved VICI\n",
      "✅ Saved V\n",
      "✅ Saved VST\n",
      "✅ Saved VMC\n",
      "✅ Saved WRB\n",
      "✅ Saved GWW\n",
      "✅ Saved WAB\n",
      "\n",
      "📦 Pulling batch 25: ['WBA', 'WMT', 'DIS', 'WBD', 'WM', 'WAT', 'WEC', 'WFC', 'WELL', 'WST', 'WDC', 'WY', 'WSM', 'WMB', 'WTW', 'WDAY', 'WYNN', 'XEL', 'XYL', 'YUM']\n"
     ]
    },
    {
     "name": "stderr",
     "output_type": "stream",
     "text": [
      "[*********************100%***********************]  20 of 20 completed\n"
     ]
    },
    {
     "name": "stdout",
     "output_type": "stream",
     "text": [
      "✅ Saved WBA\n",
      "✅ Saved WMT\n",
      "✅ Saved DIS\n",
      "✅ Saved WBD\n",
      "✅ Saved WM\n",
      "✅ Saved WAT\n",
      "✅ Saved WEC\n",
      "✅ Saved WFC\n",
      "✅ Saved WELL\n",
      "✅ Saved WST\n",
      "✅ Saved WDC\n",
      "✅ Saved WY\n",
      "✅ Saved WSM\n",
      "✅ Saved WMB\n",
      "✅ Saved WTW\n",
      "✅ Saved WDAY\n",
      "✅ Saved WYNN\n",
      "✅ Saved XEL\n",
      "✅ Saved XYL\n",
      "✅ Saved YUM\n",
      "\n",
      "📦 Pulling batch 26: ['ZBRA', 'ZBH', 'ZTS']\n"
     ]
    },
    {
     "name": "stderr",
     "output_type": "stream",
     "text": [
      "[*********************100%***********************]  3 of 3 completed\n"
     ]
    },
    {
     "name": "stdout",
     "output_type": "stream",
     "text": [
      "✅ Saved ZBRA\n",
      "✅ Saved ZBH\n",
      "✅ Saved ZTS\n",
      "\n",
      "✅ Done downloading prices and sectors!\n"
     ]
    }
   ],
   "source": [
    "def download_sp500_with_sectors(ticker_csv_path=\"../data/sp500_tickers.csv\",\n",
    "                                 data_dir=\"../data/stock_prices\",\n",
    "                                 sector_output_path=\"../data/sector_map.json\",\n",
    "                                 missing_log_path=\"../data/missing_tickers.txt\",\n",
    "                                 start_date=\"2015-01-01\",\n",
    "                                 end_date=\"2024-04-30\",\n",
    "                                 batch_size=20,\n",
    "                                 wait_time=5):\n",
    "    \"\"\"\n",
    "    Downloads historical stock prices and sector info for tickers in sp500_tickers.csv.\n",
    "    Saves each ticker's price data to CSV and writes sector info to JSON.\n",
    "    \"\"\"\n",
    "\n",
    "    # Clean output directory\n",
    "    if os.path.exists(data_dir):\n",
    "        confirm = input(f\"⚠️ WARNING: This will delete ALL existing files in {data_dir}. Continue? (yes/no): \").lower()\n",
    "        if confirm != \"yes\":\n",
    "            raise SystemExit(\"❌ Aborting to protect existing files.\")\n",
    "        shutil.rmtree(data_dir)\n",
    "        print(f\"🧹 Cleared old data from {data_dir}\")\n",
    "\n",
    "    os.makedirs(data_dir, exist_ok=True)\n",
    "\n",
    "    # Load tickers\n",
    "    sp500_tickers = pd.read_csv(ticker_csv_path)['Ticker'].tolist()\n",
    "\n",
    "    # Sector map & missing ticker log\n",
    "    sector_map = {}\n",
    "    missing_log = open(missing_log_path, \"w\")\n",
    "\n",
    "    # Download data in batches\n",
    "    for i in range(0, len(sp500_tickers), batch_size):\n",
    "        batch = sp500_tickers[i:i + batch_size]\n",
    "        print(f\"\\n📦 Pulling batch {i // batch_size + 1}: {batch}\")\n",
    "\n",
    "        try:\n",
    "            data = yf.download(batch, start=start_date, end=end_date, group_by='ticker', threads=True)\n",
    "        except Exception as e:\n",
    "            print(f\"❌ Error pulling batch: {e}\")\n",
    "            continue\n",
    "\n",
    "        for ticker in batch:\n",
    "            try:\n",
    "                if ticker not in data.columns.levels[0]:\n",
    "                    print(f\"❌ No data for {ticker}, skipping.\")\n",
    "                    missing_log.write(ticker + \"\\n\")\n",
    "                    continue\n",
    "\n",
    "                df = data[ticker].dropna()\n",
    "                if df.empty:\n",
    "                    print(f\"⚠️ {ticker} returned an empty DataFrame.\")\n",
    "                    missing_log.write(ticker + \"\\n\")\n",
    "                    continue\n",
    "\n",
    "                df.to_csv(os.path.join(data_dir, f\"{ticker}.csv\"))\n",
    "                print(f\"✅ Saved {ticker}\")yes\n",
    "\n",
    "                # Grab sector info\n",
    "                try:\n",
    "                    info = yf.Ticker(ticker).info\n",
    "                    sector = info.get(\"sector\", \"Unknown\")\n",
    "                    sector_map[ticker] = sector\n",
    "                except Exception as e:\n",
    "                    print(f\"⚠️ Could not fetch sector for {ticker}: {e}\")\n",
    "                    sector_map[ticker] = \"Unknown\"\n",
    "\n",
    "                time.sleep(0.2)  # Gentle delay\n",
    "            except Exception as e:\n",
    "                print(f\"❌ Error saving {ticker}: {e}\")\n",
    "\n",
    "        time.sleep(wait_time)\n",
    "\n",
    "    # Wrap-up\n",
    "    missing_log.close()\n",
    "    with open(sector_output_path, \"w\") as f:\n",
    "        json.dump(sector_map, f, indent=2)\n",
    "    print(\"\\n✅ Done downloading prices and sectors!\")\n",
    "\n",
    "download_data = False  # set to True to re-download from Yahoo\n",
    "\n",
    "if download_data:\n",
    "    download_sp500_with_sectors()\n",
    "else:\n",
    "    print(\"📂 Skipping download — using local files in ../data/stock_prices\")"
   ]
  },
  {
   "cell_type": "code",
   "execution_count": 10,
   "metadata": {},
   "outputs": [
    {
     "name": "stdout",
     "output_type": "stream",
     "text": [
      "✅ Downloaded 502 out of 503 tickers successfully.\n",
      "❌ Missing 1 tickers.\n",
      "Missing tickers: ['SW']\n"
     ]
    },
    {
     "name": "stderr",
     "output_type": "stream",
     "text": [
      "<>:1: SyntaxWarning: invalid escape sequence '\\s'\n",
      "<>:1: SyntaxWarning: invalid escape sequence '\\s'\n",
      "C:\\Users\\glade\\AppData\\Local\\Temp\\ipykernel_45020\\1091815335.py:1: SyntaxWarning: invalid escape sequence '\\s'\n",
      "  DATA_DIR = '..\\\\data\\stock_prices'\n"
     ]
    }
   ],
   "source": [
    "DATA_DIR = '..\\\\data\\stock_prices'\n",
    "# Get list of saved files\n",
    "saved_files = os.listdir(DATA_DIR)\n",
    "saved_tickers = [filename.replace('.csv', '') for filename in saved_files if filename.endswith('.csv')]\n",
    "\n",
    "# Compare to your master list\n",
    "expected_tickers = pd.read_csv(\"../data/sp500_tickers.csv\")['Ticker'].tolist()\n",
    "\n",
    "# Find missing tickers\n",
    "missing_tickers = set(expected_tickers) - set(saved_tickers)\n",
    "\n",
    "# Print report\n",
    "print(f\"✅ Downloaded {len(saved_tickers)} out of {len(expected_tickers)} tickers successfully.\")\n",
    "print(f\"❌ Missing {len(missing_tickers)} tickers.\")\n",
    "\n",
    "if missing_tickers:\n",
    "    print(f\"Missing tickers: {sorted(missing_tickers)}\")\n",
    "else:\n",
    "    print(\"🎉 No missing tickers! Full success.\")"
   ]
  },
  {
   "cell_type": "markdown",
   "metadata": {},
   "source": [
    "## Rolling Volatility Calculator"
   ]
  },
  {
   "cell_type": "markdown",
   "metadata": {},
   "source": [
    "## Volatility Summary"
   ]
  },
  {
   "cell_type": "markdown",
   "id": "37d32b68",
   "metadata": {},
   "source": [
    "### 3. 🔍 Volatility Screening and Ranking"
   ]
  },
  {
   "cell_type": "code",
   "execution_count": 136,
   "metadata": {},
   "outputs": [
    {
     "name": "stdout",
     "output_type": "stream",
     "text": [
      "✅ Saved volatility summary with breakout scores.\n"
     ]
    }
   ],
   "source": [
    "def createVolDf(vol_window=30, zscore_window=60):\n",
    "    vol_list = []\n",
    "\n",
    "    for file in os.listdir(DATA_DIR):\n",
    "        if not file.endswith(\".csv\"):\n",
    "            continue\n",
    "\n",
    "        ticker = file.replace(\".csv\", \"\")\n",
    "        path = os.path.join(DATA_DIR, file)\n",
    "\n",
    "        try:\n",
    "            df = pd.read_csv(path, parse_dates=[\"Date\"], index_col=\"Date\")\n",
    "\n",
    "            # Daily log returns\n",
    "            df[\"LogReturn\"] = np.log(df[\"Close\"] / df[\"Close\"].shift(1))\n",
    "\n",
    "            # Rolling vol\n",
    "            df[\"RollingVol\"] = df[\"LogReturn\"].rolling(window=vol_window).std() * np.sqrt(252)\n",
    "\n",
    "            # Drop NaNs\n",
    "            temp = df[[\"RollingVol\"]].dropna().copy()\n",
    "            temp[\"Ticker\"] = ticker\n",
    "            temp.reset_index(inplace=True)\n",
    "\n",
    "            vol_list.append(temp)\n",
    "\n",
    "        except Exception as e:\n",
    "            print(f\"⚠️ Error processing {ticker}: {e}\")\n",
    "\n",
    "    # Combine all tickers\n",
    "    vol_df = pd.concat(vol_list, ignore_index=True)\n",
    "\n",
    "    # Calculate Z-scores across time within each ticker\n",
    "    vol_df[\"Vol_ZScore\"] = (\n",
    "        vol_df.groupby(\"Ticker\")[\"RollingVol\"]\n",
    "        .transform(lambda x: (x - x.rolling(zscore_window).mean()) / x.rolling(zscore_window).std())\n",
    "    )\n",
    "\n",
    "    # Save for use in screening\n",
    "    vol_df.to_csv(\"../data/volatility_summary.csv\", index=False)\n",
    "    print(\"✅ Saved volatility summary with breakout scores.\")\n",
    "createVolDf()\n"
   ]
  },
  {
   "cell_type": "markdown",
   "id": "eee6ddd2",
   "metadata": {},
   "source": [
    "### 8. 📘 Summary and Observations"
   ]
  },
  {
   "cell_type": "markdown",
   "metadata": {},
   "source": [
    "### Check"
   ]
  },
  {
   "cell_type": "code",
   "execution_count": 12,
   "metadata": {},
   "outputs": [
    {
     "name": "stdout",
     "output_type": "stream",
     "text": [
      "#Test 1 - File exists\n",
      "\n",
      "#Test 2 - Inspection\n",
      "Shape of file: (1128473, 4)\n"
     ]
    },
    {
     "data": {
      "application/vnd.microsoft.datawrangler.viewer.v0+json": {
       "columns": [
        {
         "name": "index",
         "rawType": "int64",
         "type": "integer"
        },
        {
         "name": "Date",
         "rawType": "object",
         "type": "string"
        },
        {
         "name": "RollingVol",
         "rawType": "float64",
         "type": "float"
        },
        {
         "name": "Ticker",
         "rawType": "object",
         "type": "string"
        },
        {
         "name": "Vol_ZScore",
         "rawType": "float64",
         "type": "float"
        }
       ],
       "conversionMethod": "pd.DataFrame",
       "ref": "fc76c15c-d3ee-4da3-ad17-375e5e3a73b8",
       "rows": [
        [
         "0",
         "2015-02-17",
         "0.2683143528035914",
         "A",
         null
        ],
        [
         "1",
         "2015-02-18",
         "0.2715214415589657",
         "A",
         null
        ],
        [
         "2",
         "2015-02-19",
         "0.2686789181435027",
         "A",
         null
        ],
        [
         "3",
         "2015-02-20",
         "0.2715072689401009",
         "A",
         null
        ],
        [
         "4",
         "2015-02-23",
         "0.2591080373848894",
         "A",
         null
        ]
       ],
       "shape": {
        "columns": 4,
        "rows": 5
       }
      },
      "text/html": [
       "<div>\n",
       "<style scoped>\n",
       "    .dataframe tbody tr th:only-of-type {\n",
       "        vertical-align: middle;\n",
       "    }\n",
       "\n",
       "    .dataframe tbody tr th {\n",
       "        vertical-align: top;\n",
       "    }\n",
       "\n",
       "    .dataframe thead th {\n",
       "        text-align: right;\n",
       "    }\n",
       "</style>\n",
       "<table border=\"1\" class=\"dataframe\">\n",
       "  <thead>\n",
       "    <tr style=\"text-align: right;\">\n",
       "      <th></th>\n",
       "      <th>Date</th>\n",
       "      <th>RollingVol</th>\n",
       "      <th>Ticker</th>\n",
       "      <th>Vol_ZScore</th>\n",
       "    </tr>\n",
       "  </thead>\n",
       "  <tbody>\n",
       "    <tr>\n",
       "      <th>0</th>\n",
       "      <td>2015-02-17</td>\n",
       "      <td>0.268314</td>\n",
       "      <td>A</td>\n",
       "      <td>NaN</td>\n",
       "    </tr>\n",
       "    <tr>\n",
       "      <th>1</th>\n",
       "      <td>2015-02-18</td>\n",
       "      <td>0.271521</td>\n",
       "      <td>A</td>\n",
       "      <td>NaN</td>\n",
       "    </tr>\n",
       "    <tr>\n",
       "      <th>2</th>\n",
       "      <td>2015-02-19</td>\n",
       "      <td>0.268679</td>\n",
       "      <td>A</td>\n",
       "      <td>NaN</td>\n",
       "    </tr>\n",
       "    <tr>\n",
       "      <th>3</th>\n",
       "      <td>2015-02-20</td>\n",
       "      <td>0.271507</td>\n",
       "      <td>A</td>\n",
       "      <td>NaN</td>\n",
       "    </tr>\n",
       "    <tr>\n",
       "      <th>4</th>\n",
       "      <td>2015-02-23</td>\n",
       "      <td>0.259108</td>\n",
       "      <td>A</td>\n",
       "      <td>NaN</td>\n",
       "    </tr>\n",
       "  </tbody>\n",
       "</table>\n",
       "</div>"
      ],
      "text/plain": [
       "         Date  RollingVol Ticker  Vol_ZScore\n",
       "0  2015-02-17    0.268314      A         NaN\n",
       "1  2015-02-18    0.271521      A         NaN\n",
       "2  2015-02-19    0.268679      A         NaN\n",
       "3  2015-02-20    0.271507      A         NaN\n",
       "4  2015-02-23    0.259108      A         NaN"
      ]
     },
     "metadata": {},
     "output_type": "display_data"
    },
    {
     "name": "stdout",
     "output_type": "stream",
     "text": [
      "\n",
      "#Test 3 - Corrupt rows:\n",
      "NaNs:\n",
      "Date              0\n",
      "RollingVol        0\n",
      "Ticker            0\n",
      "Vol_ZScore    29500\n",
      "dtype: int64\n",
      "\n",
      "#Test 4 - Sanity check on Rolling vols\n"
     ]
    },
    {
     "data": {
      "text/plain": [
       "count    1.128473e+06\n",
       "mean     2.831808e-01\n",
       "std      1.679169e-01\n",
       "min      0.000000e+00\n",
       "25%      1.831801e-01\n",
       "50%      2.438987e-01\n",
       "75%      3.290690e-01\n",
       "max      3.180735e+00\n",
       "Name: RollingVol, dtype: float64"
      ]
     },
     "metadata": {},
     "output_type": "display_data"
    },
    {
     "name": "stdout",
     "output_type": "stream",
     "text": [
      "\n",
      "#Test 5 - spot Check\n"
     ]
    },
    {
     "data": {
      "application/vnd.microsoft.datawrangler.viewer.v0+json": {
       "columns": [
        {
         "name": "index",
         "rawType": "int64",
         "type": "integer"
        },
        {
         "name": "Date",
         "rawType": "object",
         "type": "string"
        },
        {
         "name": "RollingVol",
         "rawType": "float64",
         "type": "float"
        },
        {
         "name": "Ticker",
         "rawType": "object",
         "type": "string"
        },
        {
         "name": "Vol_ZScore",
         "rawType": "float64",
         "type": "float"
        }
       ],
       "conversionMethod": "pd.DataFrame",
       "ref": "909f277e-503f-4aa5-926a-832a0e546420",
       "rows": [
        [
         "924524",
         "2024-04-23",
         "1.0477888809797726",
         "SMCI",
         "-0.6778898529948849"
        ],
        [
         "924525",
         "2024-04-24",
         "1.0160747163544464",
         "SMCI",
         "-0.7936394677806979"
        ],
        [
         "924526",
         "2024-04-25",
         "1.0243130124270126",
         "SMCI",
         "-0.7634912229576886"
        ],
        [
         "924527",
         "2024-04-26",
         "1.0571228090062337",
         "SMCI",
         "-0.6452906357918061"
        ],
        [
         "924528",
         "2024-04-29",
         "1.0560500165462512",
         "SMCI",
         "-0.6510830661795873"
        ]
       ],
       "shape": {
        "columns": 4,
        "rows": 5
       }
      },
      "text/html": [
       "<div>\n",
       "<style scoped>\n",
       "    .dataframe tbody tr th:only-of-type {\n",
       "        vertical-align: middle;\n",
       "    }\n",
       "\n",
       "    .dataframe tbody tr th {\n",
       "        vertical-align: top;\n",
       "    }\n",
       "\n",
       "    .dataframe thead th {\n",
       "        text-align: right;\n",
       "    }\n",
       "</style>\n",
       "<table border=\"1\" class=\"dataframe\">\n",
       "  <thead>\n",
       "    <tr style=\"text-align: right;\">\n",
       "      <th></th>\n",
       "      <th>Date</th>\n",
       "      <th>RollingVol</th>\n",
       "      <th>Ticker</th>\n",
       "      <th>Vol_ZScore</th>\n",
       "    </tr>\n",
       "  </thead>\n",
       "  <tbody>\n",
       "    <tr>\n",
       "      <th>924524</th>\n",
       "      <td>2024-04-23</td>\n",
       "      <td>1.047789</td>\n",
       "      <td>SMCI</td>\n",
       "      <td>-0.677890</td>\n",
       "    </tr>\n",
       "    <tr>\n",
       "      <th>924525</th>\n",
       "      <td>2024-04-24</td>\n",
       "      <td>1.016075</td>\n",
       "      <td>SMCI</td>\n",
       "      <td>-0.793639</td>\n",
       "    </tr>\n",
       "    <tr>\n",
       "      <th>924526</th>\n",
       "      <td>2024-04-25</td>\n",
       "      <td>1.024313</td>\n",
       "      <td>SMCI</td>\n",
       "      <td>-0.763491</td>\n",
       "    </tr>\n",
       "    <tr>\n",
       "      <th>924527</th>\n",
       "      <td>2024-04-26</td>\n",
       "      <td>1.057123</td>\n",
       "      <td>SMCI</td>\n",
       "      <td>-0.645291</td>\n",
       "    </tr>\n",
       "    <tr>\n",
       "      <th>924528</th>\n",
       "      <td>2024-04-29</td>\n",
       "      <td>1.056050</td>\n",
       "      <td>SMCI</td>\n",
       "      <td>-0.651083</td>\n",
       "    </tr>\n",
       "  </tbody>\n",
       "</table>\n",
       "</div>"
      ],
      "text/plain": [
       "              Date  RollingVol Ticker  Vol_ZScore\n",
       "924524  2024-04-23    1.047789   SMCI   -0.677890\n",
       "924525  2024-04-24    1.016075   SMCI   -0.793639\n",
       "924526  2024-04-25    1.024313   SMCI   -0.763491\n",
       "924527  2024-04-26    1.057123   SMCI   -0.645291\n",
       "924528  2024-04-29    1.056050   SMCI   -0.651083"
      ]
     },
     "metadata": {},
     "output_type": "display_data"
    },
    {
     "name": "stdout",
     "output_type": "stream",
     "text": [
      "\n",
      "#Test 6 - Number of Uniques\n"
     ]
    },
    {
     "data": {
      "text/plain": [
       "500"
      ]
     },
     "metadata": {},
     "output_type": "display_data"
    }
   ],
   "source": [
    "VOL_FILEPATH = \"../data/volatility_summary.csv\"\n",
    "print(\"#Test 1 - File exists\")\n",
    "assert os.path.exists(VOL_FILEPATH)\n",
    "\n",
    "print(\"\\n#Test 2 - Inspection\")\n",
    "vol_df = pd.read_csv(VOL_FILEPATH)\n",
    "print(f\"Shape of file: {vol_df.shape}\")\n",
    "display(vol_df.head())\n",
    "\n",
    "print(\"\\n#Test 3 - Corrupt rows:\")\n",
    "print(f\"NaNs:\\n{vol_df.isna().sum()}\")\n",
    "\n",
    "print(\"\\n#Test 4 - Sanity check on Rolling vols\")\n",
    "display(vol_df[\"RollingVol\"].describe())\n",
    "\n",
    "print(\"\\n#Test 5 - spot Check\")\n",
    "display(vol_df[vol_df[\"Ticker\"] == \"SMCI\"].tail())\n",
    "\n",
    "print(\"\\n#Test 6 - Number of Uniques\")\n",
    "display(vol_df[\"Ticker\"].nunique())\n",
    "\n"
   ]
  },
  {
   "cell_type": "code",
   "execution_count": 13,
   "metadata": {},
   "outputs": [
    {
     "data": {
      "application/vnd.microsoft.datawrangler.viewer.v0+json": {
       "columns": [
        {
         "name": "index",
         "rawType": "int64",
         "type": "integer"
        },
        {
         "name": "Date",
         "rawType": "datetime64[ns]",
         "type": "datetime"
        },
        {
         "name": "RollingVol",
         "rawType": "float64",
         "type": "float"
        },
        {
         "name": "Ticker",
         "rawType": "object",
         "type": "string"
        },
        {
         "name": "Vol_ZScore",
         "rawType": "float64",
         "type": "float"
        }
       ],
       "conversionMethod": "pd.DataFrame",
       "ref": "690321ad-c9df-4745-83ce-e4d1907bc795",
       "rows": [
        [
         "0",
         "2015-02-17 00:00:00",
         "0.2683143528035914",
         "A",
         null
        ],
        [
         "1",
         "2015-02-18 00:00:00",
         "0.2715214415589657",
         "A",
         null
        ],
        [
         "2",
         "2015-02-19 00:00:00",
         "0.2686789181435027",
         "A",
         null
        ],
        [
         "3",
         "2015-02-20 00:00:00",
         "0.2715072689401009",
         "A",
         null
        ],
        [
         "4",
         "2015-02-23 00:00:00",
         "0.2591080373848894",
         "A",
         null
        ]
       ],
       "shape": {
        "columns": 4,
        "rows": 5
       }
      },
      "text/html": [
       "<div>\n",
       "<style scoped>\n",
       "    .dataframe tbody tr th:only-of-type {\n",
       "        vertical-align: middle;\n",
       "    }\n",
       "\n",
       "    .dataframe tbody tr th {\n",
       "        vertical-align: top;\n",
       "    }\n",
       "\n",
       "    .dataframe thead th {\n",
       "        text-align: right;\n",
       "    }\n",
       "</style>\n",
       "<table border=\"1\" class=\"dataframe\">\n",
       "  <thead>\n",
       "    <tr style=\"text-align: right;\">\n",
       "      <th></th>\n",
       "      <th>Date</th>\n",
       "      <th>RollingVol</th>\n",
       "      <th>Ticker</th>\n",
       "      <th>Vol_ZScore</th>\n",
       "    </tr>\n",
       "  </thead>\n",
       "  <tbody>\n",
       "    <tr>\n",
       "      <th>0</th>\n",
       "      <td>2015-02-17</td>\n",
       "      <td>0.268314</td>\n",
       "      <td>A</td>\n",
       "      <td>NaN</td>\n",
       "    </tr>\n",
       "    <tr>\n",
       "      <th>1</th>\n",
       "      <td>2015-02-18</td>\n",
       "      <td>0.271521</td>\n",
       "      <td>A</td>\n",
       "      <td>NaN</td>\n",
       "    </tr>\n",
       "    <tr>\n",
       "      <th>2</th>\n",
       "      <td>2015-02-19</td>\n",
       "      <td>0.268679</td>\n",
       "      <td>A</td>\n",
       "      <td>NaN</td>\n",
       "    </tr>\n",
       "    <tr>\n",
       "      <th>3</th>\n",
       "      <td>2015-02-20</td>\n",
       "      <td>0.271507</td>\n",
       "      <td>A</td>\n",
       "      <td>NaN</td>\n",
       "    </tr>\n",
       "    <tr>\n",
       "      <th>4</th>\n",
       "      <td>2015-02-23</td>\n",
       "      <td>0.259108</td>\n",
       "      <td>A</td>\n",
       "      <td>NaN</td>\n",
       "    </tr>\n",
       "  </tbody>\n",
       "</table>\n",
       "</div>"
      ],
      "text/plain": [
       "        Date  RollingVol Ticker  Vol_ZScore\n",
       "0 2015-02-17    0.268314      A         NaN\n",
       "1 2015-02-18    0.271521      A         NaN\n",
       "2 2015-02-19    0.268679      A         NaN\n",
       "3 2015-02-20    0.271507      A         NaN\n",
       "4 2015-02-23    0.259108      A         NaN"
      ]
     },
     "execution_count": 13,
     "metadata": {},
     "output_type": "execute_result"
    }
   ],
   "source": [
    "# Load rolling volatility summary\n",
    "vol_df = pd.read_csv(\"../data/volatility_summary.csv\")\n",
    "vol_df[\"Date\"] = pd.to_datetime(vol_df[\"Date\"])\n",
    "\n",
    "# Preview\n",
    "vol_df.head()"
   ]
  },
  {
   "cell_type": "markdown",
   "metadata": {},
   "source": [
    "### Latest Vol"
   ]
  },
  {
   "cell_type": "code",
   "execution_count": 14,
   "metadata": {},
   "outputs": [
    {
     "name": "stdout",
     "output_type": "stream",
     "text": [
      "Retrieved latest vol for 500 tickers.\n"
     ]
    },
    {
     "data": {
      "application/vnd.microsoft.datawrangler.viewer.v0+json": {
       "columns": [
        {
         "name": "index",
         "rawType": "int64",
         "type": "integer"
        },
        {
         "name": "Date",
         "rawType": "datetime64[ns]",
         "type": "datetime"
        },
        {
         "name": "RollingVol",
         "rawType": "float64",
         "type": "float"
        },
        {
         "name": "Ticker",
         "rawType": "object",
         "type": "string"
        },
        {
         "name": "Vol_ZScore",
         "rawType": "float64",
         "type": "float"
        }
       ],
       "conversionMethod": "pd.DataFrame",
       "ref": "1e4447de-e9ae-4d96-b445-a143e1d1a472",
       "rows": [
        [
         "1082152",
         "2024-04-29 00:00:00",
         "0.1417319021418643",
         "WDAY",
         "-1.7565672282502782"
        ],
        [
         "817248",
         "2024-04-29 00:00:00",
         "0.1923650247108056",
         "PCG",
         "-0.8344047158247906"
        ],
        [
         "7767",
         "2024-04-29 00:00:00",
         "0.2604053675114966",
         "ABNB",
         "-1.1680669058122886"
        ],
        [
         "451146",
         "2024-04-29 00:00:00",
         "0.155377031719788",
         "GILD",
         "-0.8371526463758747"
        ],
        [
         "65667",
         "2024-04-29 00:00:00",
         "0.1904226960962363",
         "AMGN",
         "-0.8104771821399"
        ]
       ],
       "shape": {
        "columns": 4,
        "rows": 5
       }
      },
      "text/html": [
       "<div>\n",
       "<style scoped>\n",
       "    .dataframe tbody tr th:only-of-type {\n",
       "        vertical-align: middle;\n",
       "    }\n",
       "\n",
       "    .dataframe tbody tr th {\n",
       "        vertical-align: top;\n",
       "    }\n",
       "\n",
       "    .dataframe thead th {\n",
       "        text-align: right;\n",
       "    }\n",
       "</style>\n",
       "<table border=\"1\" class=\"dataframe\">\n",
       "  <thead>\n",
       "    <tr style=\"text-align: right;\">\n",
       "      <th></th>\n",
       "      <th>Date</th>\n",
       "      <th>RollingVol</th>\n",
       "      <th>Ticker</th>\n",
       "      <th>Vol_ZScore</th>\n",
       "    </tr>\n",
       "  </thead>\n",
       "  <tbody>\n",
       "    <tr>\n",
       "      <th>1082152</th>\n",
       "      <td>2024-04-29</td>\n",
       "      <td>0.141732</td>\n",
       "      <td>WDAY</td>\n",
       "      <td>-1.756567</td>\n",
       "    </tr>\n",
       "    <tr>\n",
       "      <th>817248</th>\n",
       "      <td>2024-04-29</td>\n",
       "      <td>0.192365</td>\n",
       "      <td>PCG</td>\n",
       "      <td>-0.834405</td>\n",
       "    </tr>\n",
       "    <tr>\n",
       "      <th>7767</th>\n",
       "      <td>2024-04-29</td>\n",
       "      <td>0.260405</td>\n",
       "      <td>ABNB</td>\n",
       "      <td>-1.168067</td>\n",
       "    </tr>\n",
       "    <tr>\n",
       "      <th>451146</th>\n",
       "      <td>2024-04-29</td>\n",
       "      <td>0.155377</td>\n",
       "      <td>GILD</td>\n",
       "      <td>-0.837153</td>\n",
       "    </tr>\n",
       "    <tr>\n",
       "      <th>65667</th>\n",
       "      <td>2024-04-29</td>\n",
       "      <td>0.190423</td>\n",
       "      <td>AMGN</td>\n",
       "      <td>-0.810477</td>\n",
       "    </tr>\n",
       "  </tbody>\n",
       "</table>\n",
       "</div>"
      ],
      "text/plain": [
       "              Date  RollingVol Ticker  Vol_ZScore\n",
       "1082152 2024-04-29    0.141732   WDAY   -1.756567\n",
       "817248  2024-04-29    0.192365    PCG   -0.834405\n",
       "7767    2024-04-29    0.260405   ABNB   -1.168067\n",
       "451146  2024-04-29    0.155377   GILD   -0.837153\n",
       "65667   2024-04-29    0.190423   AMGN   -0.810477"
      ]
     },
     "execution_count": 14,
     "metadata": {},
     "output_type": "execute_result"
    }
   ],
   "source": [
    "# Get the latest date for each ticker\n",
    "latest_vol = vol_df.sort_values(\"Date\").groupby(\"Ticker\").tail(1)\n",
    "# Sanity check\n",
    "print(f\"Retrieved latest vol for {latest_vol.shape[0]} tickers.\")\n",
    "latest_vol.head()"
   ]
  },
  {
   "cell_type": "markdown",
   "metadata": {},
   "source": [
    "### Selection"
   ]
  },
  {
   "cell_type": "code",
   "execution_count": 15,
   "metadata": {},
   "outputs": [
    {
     "name": "stdout",
     "output_type": "stream",
     "text": [
      "Selected top 50 most volatile stocks.\n"
     ]
    },
    {
     "data": {
      "application/vnd.microsoft.datawrangler.viewer.v0+json": {
       "columns": [
        {
         "name": "index",
         "rawType": "int64",
         "type": "integer"
        },
        {
         "name": "Date",
         "rawType": "datetime64[ns]",
         "type": "datetime"
        },
        {
         "name": "RollingVol",
         "rawType": "float64",
         "type": "float"
        },
        {
         "name": "Ticker",
         "rawType": "object",
         "type": "string"
        },
        {
         "name": "Vol_ZScore",
         "rawType": "float64",
         "type": "float"
        }
       ],
       "conversionMethod": "pd.DataFrame",
       "ref": "4706fa9c-aab4-4c75-b5ed-c637870f9e6f",
       "rows": [
        [
         "455778",
         "2024-04-29 00:00:00",
         "2.357481542402013",
         "GL",
         "1.9382252111249985"
        ],
        [
         "924528",
         "2024-04-29 00:00:00",
         "1.0560500165462512",
         "SMCI",
         "-0.6510830661795873"
        ],
        [
         "807984",
         "2024-04-29 00:00:00",
         "0.8572648416660332",
         "PARA",
         "1.7794401498488404"
        ],
        [
         "1010220",
         "2024-04-29 00:00:00",
         "0.705466510789345",
         "TSLA",
         "4.3964027893718285"
        ],
        [
         "652797",
         "2024-04-29 00:00:00",
         "0.6750508258673455",
         "LW",
         "1.5468073463750018"
        ]
       ],
       "shape": {
        "columns": 4,
        "rows": 5
       }
      },
      "text/html": [
       "<div>\n",
       "<style scoped>\n",
       "    .dataframe tbody tr th:only-of-type {\n",
       "        vertical-align: middle;\n",
       "    }\n",
       "\n",
       "    .dataframe tbody tr th {\n",
       "        vertical-align: top;\n",
       "    }\n",
       "\n",
       "    .dataframe thead th {\n",
       "        text-align: right;\n",
       "    }\n",
       "</style>\n",
       "<table border=\"1\" class=\"dataframe\">\n",
       "  <thead>\n",
       "    <tr style=\"text-align: right;\">\n",
       "      <th></th>\n",
       "      <th>Date</th>\n",
       "      <th>RollingVol</th>\n",
       "      <th>Ticker</th>\n",
       "      <th>Vol_ZScore</th>\n",
       "    </tr>\n",
       "  </thead>\n",
       "  <tbody>\n",
       "    <tr>\n",
       "      <th>455778</th>\n",
       "      <td>2024-04-29</td>\n",
       "      <td>2.357482</td>\n",
       "      <td>GL</td>\n",
       "      <td>1.938225</td>\n",
       "    </tr>\n",
       "    <tr>\n",
       "      <th>924528</th>\n",
       "      <td>2024-04-29</td>\n",
       "      <td>1.056050</td>\n",
       "      <td>SMCI</td>\n",
       "      <td>-0.651083</td>\n",
       "    </tr>\n",
       "    <tr>\n",
       "      <th>807984</th>\n",
       "      <td>2024-04-29</td>\n",
       "      <td>0.857265</td>\n",
       "      <td>PARA</td>\n",
       "      <td>1.779440</td>\n",
       "    </tr>\n",
       "    <tr>\n",
       "      <th>1010220</th>\n",
       "      <td>2024-04-29</td>\n",
       "      <td>0.705467</td>\n",
       "      <td>TSLA</td>\n",
       "      <td>4.396403</td>\n",
       "    </tr>\n",
       "    <tr>\n",
       "      <th>652797</th>\n",
       "      <td>2024-04-29</td>\n",
       "      <td>0.675051</td>\n",
       "      <td>LW</td>\n",
       "      <td>1.546807</td>\n",
       "    </tr>\n",
       "  </tbody>\n",
       "</table>\n",
       "</div>"
      ],
      "text/plain": [
       "              Date  RollingVol Ticker  Vol_ZScore\n",
       "455778  2024-04-29    2.357482     GL    1.938225\n",
       "924528  2024-04-29    1.056050   SMCI   -0.651083\n",
       "807984  2024-04-29    0.857265   PARA    1.779440\n",
       "1010220 2024-04-29    0.705467   TSLA    4.396403\n",
       "652797  2024-04-29    0.675051     LW    1.546807"
      ]
     },
     "metadata": {},
     "output_type": "display_data"
    },
    {
     "name": "stdout",
     "output_type": "stream",
     "text": [
      "✅ Saved top 10% high-volatility tickers to high_vol_stocks.csv\n"
     ]
    }
   ],
   "source": [
    "## TODO: we will change this to Vol Breakouts...\n",
    "\n",
    "top_10pct = latest_vol.sort_values(\"RollingVol\", ascending=False)\n",
    "cutoff = int(0.10 * len(top_10pct))\n",
    "\n",
    "top_vol_stocks = top_10pct.head(cutoff)\n",
    "print(f\"Selected top {cutoff} most volatile stocks.\")\n",
    "display(top_vol_stocks.head())\n",
    "\n",
    "top_vol_stocks[[\"Ticker\", \"Date\", \"RollingVol\"]].to_csv(\n",
    "    \"../data/high_vol_stocks.csv\", index=False\n",
    ")\n",
    "\n",
    "print(\"✅ Saved top 10% high-volatility tickers to high_vol_stocks.csv\")"
   ]
  },
  {
   "cell_type": "markdown",
   "metadata": {},
   "source": [
    "## Visualisations"
   ]
  },
  {
   "cell_type": "markdown",
   "id": "3c18351c",
   "metadata": {},
   "source": [
    "### 7. 📊 Visualizations"
   ]
  },
  {
   "cell_type": "code",
   "execution_count": 16,
   "metadata": {},
   "outputs": [
    {
     "data": {
      "image/png": "[encoded data removed]",
      "text/plain": [
       "<Figure size 1000x600 with 1 Axes>"
      ]
     },
     "metadata": {},
     "output_type": "display_data"
    }
   ],
   "source": [
    "\n",
    "\n",
    "plt.figure(figsize=(10, 6))\n",
    "sns.histplot(latest_vol[\"RollingVol\"], bins=50, kde=True)\n",
    "plt.title(\"Distribution of Latest 30-Day Rolling Volatility\")\n",
    "plt.xlabel(\"Annualized Volatility\")\n",
    "plt.ylabel(\"Number of Stocks\")\n",
    "plt.grid(True)\n",
    "plt.show()\n"
   ]
  },
  {
   "cell_type": "code",
   "execution_count": 17,
   "metadata": {},
   "outputs": [
    {
     "data": {
      "image/png": "[encoded data removed]",
      "text/plain": [
       "<Figure size 800x500 with 1 Axes>"
      ]
     },
     "metadata": {},
     "output_type": "display_data"
    }
   ],
   "source": [
    "plt.figure(figsize=(8, 5))\n",
    "sns.boxplot(x=latest_vol[\"RollingVol\"])\n",
    "plt.title(\"Boxplot of Latest 30-Day Rolling Volatility\")\n",
    "plt.xlabel(\"Annualized Volatility\")\n",
    "plt.grid(True)\n",
    "plt.show()"
   ]
  },
  {
   "cell_type": "code",
   "execution_count": 18,
   "metadata": {},
   "outputs": [
    {
     "data": {
      "image/png": "[encoded data removed]",
      "text/plain": [
       "<Figure size 1200x600 with 1 Axes>"
      ]
     },
     "metadata": {},
     "output_type": "display_data"
    }
   ],
   "source": [
    "ticker = \"AAPL\"\n",
    "df_plot = vol_df[vol_df[\"Ticker\"] == ticker]\n",
    "\n",
    "plt.figure(figsize=(12, 6))\n",
    "plt.plot(df_plot[\"Date\"], df_plot[\"RollingVol\"])\n",
    "plt.title(f\"30-Day Rolling Volatility Over Time for {ticker}\")\n",
    "plt.ylabel(\"Annualized Volatility\")\n",
    "plt.xlabel(\"Date\")\n",
    "plt.grid(True)\n",
    "plt.tight_layout()\n",
    "plt.show()"
   ]
  },
  {
   "cell_type": "code",
   "execution_count": 19,
   "metadata": {},
   "outputs": [
    {
     "name": "stderr",
     "output_type": "stream",
     "text": [
      "C:\\Users\\glade\\AppData\\Local\\Temp\\ipykernel_45020\\2904340361.py:4: FutureWarning: \n",
      "\n",
      "Passing `palette` without assigning `hue` is deprecated and will be removed in v0.14.0. Assign the `y` variable to `hue` and set `legend=False` for the same effect.\n",
      "\n",
      "  sns.barplot(data=top_25, x=\"RollingVol\", y=\"Ticker\", palette=\"rocket\")\n"
     ]
    },
    {
     "data": {
      "image/png": "[encoded data removed]",
      "text/plain": [
       "<Figure size 1000x600 with 1 Axes>"
      ]
     },
     "metadata": {},
     "output_type": "display_data"
    }
   ],
   "source": [
    "top_25 = latest_vol.sort_values(\"RollingVol\", ascending=False).head(25)\n",
    "\n",
    "plt.figure(figsize=(10, 6))\n",
    "sns.barplot(data=top_25, x=\"RollingVol\", y=\"Ticker\", palette=\"rocket\")\n",
    "plt.title(\"Top 25 Stocks by Latest 30-Day Volatility\")\n",
    "plt.xlabel(\"Annualized Volatility\")\n",
    "plt.ylabel(\"Ticker\")\n",
    "plt.grid(True)\n",
    "plt.tight_layout()\n",
    "plt.show()"
   ]
  },
  {
   "cell_type": "markdown",
   "metadata": {},
   "source": [
    "## Load High Vol Stocks"
   ]
  },
  {
   "cell_type": "code",
   "execution_count": 20,
   "metadata": {},
   "outputs": [
    {
     "name": "stdout",
     "output_type": "stream",
     "text": [
      "Simulating for: GL\n"
     ]
    },
    {
     "data": {
      "application/vnd.microsoft.datawrangler.viewer.v0+json": {
       "columns": [
        {
         "name": "Date",
         "rawType": "datetime64[ns]",
         "type": "datetime"
        },
        {
         "name": "Close",
         "rawType": "float64",
         "type": "float"
        }
       ],
       "conversionMethod": "pd.DataFrame",
       "ref": "cbdf9e9e-3d97-4782-aa44-0d93f3b54b33",
       "rows": [
        [
         "2015-01-02 00:00:00",
         "49.65333557128906"
        ],
        [
         "2015-01-05 00:00:00",
         "48.76405334472656"
        ],
        [
         "2015-01-06 00:00:00",
         "48.103946685791016"
        ],
        [
         "2015-01-07 00:00:00",
         "48.158958435058594"
        ],
        [
         "2015-01-08 00:00:00",
         "48.901554107666016"
        ]
       ],
       "shape": {
        "columns": 1,
        "rows": 5
       }
      },
      "text/html": [
       "<div>\n",
       "<style scoped>\n",
       "    .dataframe tbody tr th:only-of-type {\n",
       "        vertical-align: middle;\n",
       "    }\n",
       "\n",
       "    .dataframe tbody tr th {\n",
       "        vertical-align: top;\n",
       "    }\n",
       "\n",
       "    .dataframe thead th {\n",
       "        text-align: right;\n",
       "    }\n",
       "</style>\n",
       "<table border=\"1\" class=\"dataframe\">\n",
       "  <thead>\n",
       "    <tr style=\"text-align: right;\">\n",
       "      <th></th>\n",
       "      <th>Close</th>\n",
       "    </tr>\n",
       "    <tr>\n",
       "      <th>Date</th>\n",
       "      <th></th>\n",
       "    </tr>\n",
       "  </thead>\n",
       "  <tbody>\n",
       "    <tr>\n",
       "      <th>2015-01-02</th>\n",
       "      <td>49.653336</td>\n",
       "    </tr>\n",
       "    <tr>\n",
       "      <th>2015-01-05</th>\n",
       "      <td>48.764053</td>\n",
       "    </tr>\n",
       "    <tr>\n",
       "      <th>2015-01-06</th>\n",
       "      <td>48.103947</td>\n",
       "    </tr>\n",
       "    <tr>\n",
       "      <th>2015-01-07</th>\n",
       "      <td>48.158958</td>\n",
       "    </tr>\n",
       "    <tr>\n",
       "      <th>2015-01-08</th>\n",
       "      <td>48.901554</td>\n",
       "    </tr>\n",
       "  </tbody>\n",
       "</table>\n",
       "</div>"
      ],
      "text/plain": [
       "                Close\n",
       "Date                 \n",
       "2015-01-02  49.653336\n",
       "2015-01-05  48.764053\n",
       "2015-01-06  48.103947\n",
       "2015-01-07  48.158958\n",
       "2015-01-08  48.901554"
      ]
     },
     "execution_count": 20,
     "metadata": {},
     "output_type": "execute_result"
    }
   ],
   "source": [
    "import pandas as pd\n",
    "import os\n",
    "\n",
    "# Load screened high-vol stocks\n",
    "high_vol = pd.read_csv(\"../data/high_vol_stocks.csv\")\n",
    "\n",
    "# Pick one ticker to test\n",
    "ticker = high_vol[\"Ticker\"].iloc[0]\n",
    "print(f\"Simulating for: {ticker}\")\n",
    "\n",
    "#ticker= 'ACGL'\n",
    "\n",
    "# Load that stock's price data\n",
    "price_path = f\"../data/stock_prices/{ticker}.csv\"\n",
    "df = pd.read_csv(price_path, parse_dates=[\"Date\"])\n",
    "df = df.sort_values(\"Date\").set_index(\"Date\")\n",
    "\n",
    "df = df[[\"Close\"]]  # Keep it simple\n",
    "df.head()\n"
   ]
  },
  {
   "cell_type": "markdown",
   "metadata": {},
   "source": [
    "## Black Scholes"
   ]
  },
  {
   "cell_type": "code",
   "execution_count": 77,
   "metadata": {},
   "outputs": [],
   "source": [
    "from scipy.stats import norm\n",
    "import numpy as np\n",
    "\n",
    "def black_scholes_call_price(S, K, T, r, sigma):\n",
    "    \"\"\"\n",
    "    Black-Scholes formula for a European call option.\n",
    "\n",
    "    Parameters:\n",
    "    - S: Spot price (entry price of the stock)\n",
    "    - K: Strike price (OTM call)\n",
    "    - T: Time to maturity (in years)\n",
    "    - r: Risk-free rate (e.g., 0.02)\n",
    "    - sigma: Volatility (annualized)\n",
    "\n",
    "    Returns:\n",
    "    - Call option price (fair value)\n",
    "    \"\"\"\n",
    "    if T <= 0 or sigma <= 0:\n",
    "        return 0.0  # Handle edge cases\n",
    "    \n",
    "    d1 = (np.log(S / K) + (r + 0.5 * sigma**2) * T) / (sigma * np.sqrt(T))\n",
    "    d2 = d1 - sigma * np.sqrt(T)\n",
    "\n",
    "    call_price = S * norm.cdf(d1) - K * np.exp(-r * T) * norm.cdf(d2)\n",
    "    return call_price\n",
    "\n",
    "def black_scholes_put_price(S, K, T, r, sigma):\n",
    "    \"\"\"Calculates European put price using call price and put-call parity.\"\"\"\n",
    "    call_price = black_scholes_call_price(S, K, T, r, sigma)\n",
    "    return call_price + K * np.exp(-r * T) - S\n"
   ]
  },
  {
   "cell_type": "markdown",
   "metadata": {},
   "source": [
    "## Simulation"
   ]
  },
  {
   "cell_type": "code",
   "execution_count": null,
   "metadata": {},
   "outputs": [],
   "source": [
    "def simulate_buy_write(df, notional, call_otm_pct=0.02, option_days=21,vol_lookback_days=30,force_entry_date=None):\n",
    "    \"\"\"\n",
    "    Simulates a buy-write strategy on a single stock DataFrame.\n",
    "\n",
    "    Parameters:\n",
    "    - df: DataFrame with Date index and a 'Close' column\n",
    "    - call_otm_pct: Percentage above spot to set the strike price\n",
    "    - option_days: Holding period in trading days (approx 21 for 1 month)\n",
    "\n",
    "    Returns:\n",
    "    - DataFrame of trade-level results\n",
    "    \"\"\"\n",
    "\n",
    "    trades = []\n",
    "\n",
    "    df = df.sort_index()  # Ensure date order\n",
    "    returns = df[\"Close\"].pct_change().rolling(vol_lookback_days).std() * np.sqrt(252)\n",
    "\n",
    "    if force_entry_date is not None:\n",
    "        i = df.index.get_loc(force_entry_date)\n",
    "    else:\n",
    "        i = 0\n",
    "\n",
    "    while i < len(df) - option_days:\n",
    "        # Parameters\n",
    "        T = option_days / 252\n",
    "        r = 0.02  # risk-free rate\n",
    "        sigma = returns.iloc[i]  # historical vol proxy\n",
    "\n",
    "        entry_date = df.index[i]\n",
    "        expiry_date = df.index[i + option_days]\n",
    "\n",
    "        entry_price = df[\"Close\"].iloc[i]\n",
    "        spot_price_close = df[\"Close\"].iloc[i + option_days]\n",
    "        strike = entry_price * (1 + call_otm_pct)\n",
    "\n",
    "        # Defensive handling\n",
    "        if np.isnan(sigma) or sigma <= 0:\n",
    "            premium = 0.0\n",
    "        else:\n",
    "            premium = black_scholes_call_price(entry_price, strike, T, r, sigma)\n",
    "\n",
    "        if spot_price_close > strike:\n",
    "            # Option is in the money, stock is called away at strike\n",
    "            exit_price = strike\n",
    "            outcome = \"Called\"\n",
    "            pnl_stock = strike - entry_price\n",
    "            pnl_unrealized = 0\n",
    "            pnl_realized = pnl_stock + premium\n",
    "        else:\n",
    "            # Option expires OTM, you keep the stock\n",
    "            exit_price = spot_price_close\n",
    "            outcome = \"Not Called\"\n",
    "            pnl_stock = spot_price_close - entry_price\n",
    "            pnl_unrealized = pnl_stock\n",
    "            pnl_realized = premium\n",
    "\n",
    "        pnl_call = premium\n",
    "        pnl_total = pnl_call + pnl_stock\n",
    "        pnl_percent = pnl_total / notional\n",
    "        quantity = notional / entry_price\n",
    "\n",
    "        trades.append({\n",
    "            \"NumberShares\":quantity,\n",
    "            \"EntryDate\": entry_date,\n",
    "            \"EntryPrice\": entry_price,\n",
    "            \"ExpiryDate\": expiry_date,\n",
    "            \"ExitPrice\": exit_price,  # Actual exit execution price\n",
    "            \"SpotPrice_Close\": spot_price_close,\n",
    "            \"Strike\": strike,\n",
    "            \"Premium\": premium,\n",
    "            \"Outcome\": outcome,\n",
    "            \"PnL_Call\": pnl_call,\n",
    "            \"PnL_Stock\": pnl_stock,\n",
    "            \"PnL_Realized\": pnl_realized,\n",
    "            \"PnL_Unrealized\": pnl_unrealized,\n",
    "            \"PnL_Total\": pnl_total,\n",
    "            \"PnL_Percent\": pnl_percent,\n",
    "            \"PnL_Call_Position\": pnl_call * quantity,\n",
    "            \"PnL_Stock_Position\": pnl_stock * quantity,\n",
    "            \"PnL_Realized_Position\": pnl_realized * quantity,\n",
    "            \"PnL_Unrealized_Position\": pnl_unrealized * quantity,\n",
    "            \"PnL_Total_position\": pnl_total * quantity,\n",
    "        })\n",
    "\n",
    "        i += option_days  # Move to next round\n",
    "\n",
    "    return pd.DataFrame(trades)"
   ]
  },
  {
   "cell_type": "markdown",
   "id": "55051bc9",
   "metadata": {},
   "source": [
    "### 4. 🧮 Buy-Write Simulation"
   ]
  },
  {
   "cell_type": "code",
   "execution_count": 134,
   "metadata": {},
   "outputs": [
    {
     "name": "stdout",
     "output_type": "stream",
     "text": [
      "🚀 Starting simulation on 2015-05-12 (breakout mode)\n",
      "SCREEENING:  2015-05-12 00:00:00\n",
      "SELECTED\n"
     ]
    },
    {
     "data": {
      "text/plain": [
       "[Date              2015-05-12 00:00:00\n",
       " RollingVol                   0.272996\n",
       " Ticker                            NWS\n",
       " Vol_ZScore                   2.333187\n",
       " Momentum_1M                 -0.047679\n",
       " Direction                       short\n",
       " MaxCorrelation                   None\n",
       " Name: 776931, dtype: object]"
      ]
     },
     "metadata": {},
     "output_type": "display_data"
    },
    {
     "name": "stdout",
     "output_type": "stream",
     "text": [
      "SELECTED\n"
     ]
    },
    {
     "data": {
      "text/plain": [
       "[Date              2015-05-12 00:00:00\n",
       " RollingVol                   0.272996\n",
       " Ticker                            NWS\n",
       " Vol_ZScore                   2.333187\n",
       " Momentum_1M                 -0.047679\n",
       " Direction                       short\n",
       " MaxCorrelation                   None\n",
       " Name: 776931, dtype: object,\n",
       " Date              2015-05-12 00:00:00\n",
       " RollingVol                   0.255303\n",
       " Ticker                             IP\n",
       " Vol_ZScore                    2.21125\n",
       " Momentum_1M                 -0.062927\n",
       " Direction                       short\n",
       " MaxCorrelation                   None\n",
       " Name: 544976, dtype: object]"
      ]
     },
     "metadata": {},
     "output_type": "display_data"
    },
    {
     "name": "stdout",
     "output_type": "stream",
     "text": [
      "SELECTED\n"
     ]
    },
    {
     "data": {
      "text/plain": [
       "[Date              2015-05-12 00:00:00\n",
       " RollingVol                   0.272996\n",
       " Ticker                            NWS\n",
       " Vol_ZScore                   2.333187\n",
       " Momentum_1M                 -0.047679\n",
       " Direction                       short\n",
       " MaxCorrelation                   None\n",
       " Name: 776931, dtype: object,\n",
       " Date              2015-05-12 00:00:00\n",
       " RollingVol                   0.255303\n",
       " Ticker                             IP\n",
       " Vol_ZScore                    2.21125\n",
       " Momentum_1M                 -0.062927\n",
       " Direction                       short\n",
       " MaxCorrelation                   None\n",
       " Name: 544976, dtype: object,\n",
       " Date              2015-05-12 00:00:00\n",
       " RollingVol                   0.368131\n",
       " Ticker                            CNC\n",
       " Vol_ZScore                   2.209531\n",
       " Momentum_1M                 -0.041222\n",
       " Direction                       short\n",
       " MaxCorrelation                   None\n",
       " Name: 224762, dtype: object]"
      ]
     },
     "metadata": {},
     "output_type": "display_data"
    },
    {
     "name": "stdout",
     "output_type": "stream",
     "text": [
      "SELECTED\n"
     ]
    },
    {
     "data": {
      "text/plain": [
       "[Date              2015-05-12 00:00:00\n",
       " RollingVol                   0.272996\n",
       " Ticker                            NWS\n",
       " Vol_ZScore                   2.333187\n",
       " Momentum_1M                 -0.047679\n",
       " Direction                       short\n",
       " MaxCorrelation                   None\n",
       " Name: 776931, dtype: object,\n",
       " Date              2015-05-12 00:00:00\n",
       " RollingVol                   0.255303\n",
       " Ticker                             IP\n",
       " Vol_ZScore                    2.21125\n",
       " Momentum_1M                 -0.062927\n",
       " Direction                       short\n",
       " MaxCorrelation                   None\n",
       " Name: 544976, dtype: object,\n",
       " Date              2015-05-12 00:00:00\n",
       " RollingVol                   0.368131\n",
       " Ticker                            CNC\n",
       " Vol_ZScore                   2.209531\n",
       " Momentum_1M                 -0.041222\n",
       " Direction                       short\n",
       " MaxCorrelation                   None\n",
       " Name: 224762, dtype: object,\n",
       " Date              2015-05-12 00:00:00\n",
       " RollingVol                   0.272942\n",
       " Ticker                            YUM\n",
       " Vol_ZScore                   2.170411\n",
       " Momentum_1M                  0.119796\n",
       " Direction                        long\n",
       " MaxCorrelation                   None\n",
       " Name: 1119268, dtype: object]"
      ]
     },
     "metadata": {},
     "output_type": "display_data"
    },
    {
     "name": "stdout",
     "output_type": "stream",
     "text": [
      "📈 Entering NWS on 2015-05-12 (Dir=short, Corr=None)\n",
      "📎 Correlation of IP vs active: max=0.59\n",
      "📈 Entering IP on 2015-05-12 (Dir=short, Corr=0.5915089698505497)\n",
      "📎 Correlation of CNC vs active: max=0.63\n",
      "📈 Entering CNC on 2015-05-12 (Dir=short, Corr=0.6325717585225568)\n",
      "📎 Correlation of YUM vs active: max=0.85\n",
      "📈 Entering YUM on 2015-05-12 (Dir=long, Corr=0.8476515766810818)\n",
      "📎 Correlation of WYNN vs active: max=0.41\n",
      "📈 Entering WYNN on 2015-05-12 (Dir=short, Corr=0.4105397106044212)\n",
      "expiry_schedule[Timestamp('2015-02-03 00:00:00')]\n",
      "Active positions: [{'NumberShares': 755.2394223546622, 'Direction': 'short', 'EntryDate': Timestamp('2015-01-02 00:00:00'), 'EntryPrice': 13.24083423614502, 'ExpiryDate': Timestamp('2015-02-03 00:00:00'), 'ExitPrice': 13.373419761657717, 'SpotPrice_Close': 13.373419761657717, 'Strike': 12.97601755142212, 'Premium': 0.0, 'Outcome': 'PutExpired', 'OptionType': 'Put', 'PnL_Option': 0.0, 'PnL_Stock': -0.1325855255126971, 'PnL_Realized': 0.0, 'PnL_Unrealized': -0.1325855255126971, 'PnL_Total': -0.1325855255126971, 'PnL_Percent': -1.3258552551269709e-05, 'PnL_Option_Position': 0.0, 'PnL_Stock_Position': -100.13381570079868, 'PnL_Realized_Position': 0.0, 'PnL_Unrealized_Position': -100.13381570079868, 'PnL_Total_position': -100.13381570079868, 'Ticker': 'NWS', 'Volatility': np.float64(0.2729955235321557), 'Vol_ZScore': np.float64(2.333186936029334), 'MaxCorrelation': None}, {'NumberShares': 305.6845093409366, 'Direction': 'short', 'EntryDate': Timestamp('2015-01-02 00:00:00'), 'EntryPrice': 32.71346664428711, 'ExpiryDate': Timestamp('2015-02-03 00:00:00'), 'ExitPrice': 33.01454162597656, 'SpotPrice_Close': 33.01454162597656, 'Strike': 32.05919731140137, 'Premium': 0.0, 'Outcome': 'PutExpired', 'OptionType': 'Put', 'PnL_Option': 0.0, 'PnL_Stock': -0.3010749816894531, 'PnL_Realized': 0.0, 'PnL_Unrealized': -0.3010749816894531, 'PnL_Total': -0.3010749816894531, 'PnL_Percent': -3.0107498168945313e-05, 'PnL_Option_Position': 0.0, 'PnL_Stock_Position': -92.03395805257195, 'PnL_Realized_Position': 0.0, 'PnL_Unrealized_Position': -92.03395805257195, 'PnL_Total_position': -92.03395805257195, 'Ticker': 'IP', 'Volatility': np.float64(0.2553027035576778), 'Vol_ZScore': np.float64(2.2112499712609237), 'MaxCorrelation': np.float64(0.5915089698505497)}, {'NumberShares': 382.9950121117732, 'Direction': 'short', 'EntryDate': Timestamp('2015-01-02 00:00:00'), 'EntryPrice': 26.11000061035156, 'ExpiryDate': Timestamp('2015-02-03 00:00:00'), 'ExitPrice': 27.872499465942383, 'SpotPrice_Close': 27.872499465942383, 'Strike': 25.587800598144526, 'Premium': 0.0, 'Outcome': 'PutExpired', 'OptionType': 'Put', 'PnL_Option': 0.0, 'PnL_Stock': -1.7624988555908239, 'PnL_Realized': 0.0, 'PnL_Unrealized': -1.7624988555908239, 'PnL_Total': -1.7624988555908239, 'PnL_Percent': -0.00017624988555908238, 'PnL_Option_Position': 0.0, 'PnL_Stock_Position': -675.0282705439939, 'PnL_Realized_Position': 0.0, 'PnL_Unrealized_Position': -675.0282705439939, 'PnL_Total_position': -675.0282705439939, 'Ticker': 'CNC', 'Volatility': np.float64(0.3681312724216609), 'Vol_ZScore': np.float64(2.2095310827767194), 'MaxCorrelation': np.float64(0.6325717585225568)}, {'NumberShares': 233.4632706623954, 'Direction': 'long', 'EntryDate': Timestamp('2015-01-02 00:00:00'), 'EntryPrice': 42.833290100097656, 'ExpiryDate': Timestamp('2015-02-03 00:00:00'), 'ExitPrice': 43.68995590209961, 'SpotPrice_Close': 43.82672882080078, 'Strike': 43.68995590209961, 'Premium': 0.0, 'Outcome': 'Called', 'OptionType': 'Call', 'PnL_Option': 0.0, 'PnL_Stock': 0.856665802001956, 'PnL_Realized': 0.856665802001956, 'PnL_Unrealized': 0.0, 'PnL_Total': 0.856665802001956, 'PnL_Percent': 8.56665802001956e-05, 'PnL_Option_Position': 0.0, 'PnL_Stock_Position': 200.00000000000065, 'PnL_Realized_Position': 200.00000000000065, 'PnL_Unrealized_Position': 0.0, 'PnL_Total_position': 200.00000000000065, 'Ticker': 'YUM', 'Volatility': np.float64(0.2729418766855), 'Vol_ZScore': np.float64(2.170411287075036), 'MaxCorrelation': np.float64(0.8476515766810818)}, {'NumberShares': 78.8141605244432, 'Direction': 'short', 'EntryDate': Timestamp('2015-01-02 00:00:00'), 'EntryPrice': 126.88075256347656, 'ExpiryDate': Timestamp('2015-02-03 00:00:00'), 'ExitPrice': 134.57704162597656, 'SpotPrice_Close': 134.57704162597656, 'Strike': 124.34313751220702, 'Premium': 0.0, 'Outcome': 'PutExpired', 'OptionType': 'Put', 'PnL_Option': 0.0, 'PnL_Stock': -7.6962890625, 'PnL_Realized': 0.0, 'PnL_Unrealized': -7.6962890625, 'PnL_Total': -7.6962890625, 'PnL_Percent': -0.00076962890625, 'PnL_Option_Position': 0.0, 'PnL_Stock_Position': -606.5765616143914, 'PnL_Realized_Position': 0.0, 'PnL_Unrealized_Position': -606.5765616143914, 'PnL_Total_position': -606.5765616143914, 'Ticker': 'WYNN', 'Volatility': np.float64(0.646988271452636), 'Vol_ZScore': np.float64(2.16320411943859), 'MaxCorrelation': np.float64(0.4105397106044212)}]\n",
      "SCREEENING:  2015-02-03 00:00:00\n",
      "\n",
      "🔄 Processing expiry: 2015-02-03\n",
      "\n",
      "📭 No active positions at end of simulation.\n"
     ]
    },
    {
     "data": {
      "application/vnd.microsoft.datawrangler.viewer.v0+json": {
       "columns": [
        {
         "name": "EntryDate",
         "rawType": "datetime64[ns]",
         "type": "datetime"
        },
        {
         "name": "Ticker",
         "rawType": "int64",
         "type": "integer"
        },
        {
         "name": "ExpiryDate",
         "rawType": "int64",
         "type": "integer"
        }
       ],
       "conversionMethod": "pd.DataFrame",
       "ref": "c1604b6c-a21f-4a06-9eea-17ec2617f3f6",
       "rows": [
        [
         "2015-01-02 00:00:00",
         "5",
         "5"
        ]
       ],
       "shape": {
        "columns": 2,
        "rows": 1
       }
      },
      "text/html": [
       "<div>\n",
       "<style scoped>\n",
       "    .dataframe tbody tr th:only-of-type {\n",
       "        vertical-align: middle;\n",
       "    }\n",
       "\n",
       "    .dataframe tbody tr th {\n",
       "        vertical-align: top;\n",
       "    }\n",
       "\n",
       "    .dataframe thead th {\n",
       "        text-align: right;\n",
       "    }\n",
       "</style>\n",
       "<table border=\"1\" class=\"dataframe\">\n",
       "  <thead>\n",
       "    <tr style=\"text-align: right;\">\n",
       "      <th></th>\n",
       "      <th>Ticker</th>\n",
       "      <th>ExpiryDate</th>\n",
       "    </tr>\n",
       "    <tr>\n",
       "      <th>EntryDate</th>\n",
       "      <th></th>\n",
       "      <th></th>\n",
       "    </tr>\n",
       "  </thead>\n",
       "  <tbody>\n",
       "    <tr>\n",
       "      <th>2015-01-02</th>\n",
       "      <td>5</td>\n",
       "      <td>5</td>\n",
       "    </tr>\n",
       "  </tbody>\n",
       "</table>\n",
       "</div>"
      ],
      "text/plain": [
       "            Ticker  ExpiryDate\n",
       "EntryDate                     \n",
       "2015-01-02       5           5"
      ]
     },
     "execution_count": 134,
     "metadata": {},
     "output_type": "execute_result"
    }
   ],
   "source": [
    "class BuyWritePortfolioSimulator:\n",
    "    def __init__(self, \n",
    "                 vol_summary_df,\n",
    "                 price_dir,\n",
    "                 notional_per_trade=10000,\n",
    "                 num_positions=5,\n",
    "                 option_days=21,\n",
    "                 sector_limit=3,\n",
    "                 correlation_threshold=0.85,\n",
    "                 screen_mode='breakout',\n",
    "                 vol_zscore_threshold=0):\n",
    "        \n",
    "        os.makedirs(\"../logs\", exist_ok=True)\n",
    "        timestamp = datetime.now().strftime(\"%Y%m%d_%H%M%S\")\n",
    "        self.log_file_path = f\"../logs/buywrite_log_{timestamp}.txt\"\n",
    "\n",
    "        with open(\"../data/sector_map.json\") as f:\n",
    "            self.ticker_sector_map = json.load(f)\n",
    "\n",
    "        self.screen_mode = screen_mode\n",
    "        self.vol_summary_df = vol_summary_df.copy()\n",
    "        self.price_dir = price_dir\n",
    "        self.notional = notional_per_trade\n",
    "        self.num_positions = num_positions\n",
    "        self.option_days = option_days\n",
    "        self.sector_limit = sector_limit\n",
    "        self.correlation_threshold = correlation_threshold\n",
    "        self.vol_zscore_threshold = vol_zscore_threshold\n",
    "        self.sector_counts = defaultdict(int)\n",
    "        self.summary_log = []\n",
    "        self.active_positions = []  # list of dicts for each open position\n",
    "        self.trade_log = []         # stores all completed trades\n",
    "        self.date_index = sorted(vol_summary_df[\"Date\"].unique())\n",
    "\n",
    "    def _screen_and_rank_universe(self, current_date, exclude_tickers=None):\n",
    "        \"\"\"\n",
    "        Apply volatility rank, sector limit, and correlation filter.\n",
    "        Determine direction based on momentum and apply vol threshold.\n",
    "        \"\"\"\n",
    "        print(\"SCREEENING: \", current_date)\n",
    "        self._inject_momentum()\n",
    "        df = self.vol_summary_df\n",
    "        exclude = set(exclude_tickers or [])\n",
    "        day_df = df[df[\"Date\"] == current_date].copy()\n",
    "        day_df = day_df[~day_df[\"Ticker\"].isin(exclude)]\n",
    "\n",
    "        if self.screen_mode == \"breakout\":\n",
    "            ranked = day_df.sort_values(\"Vol_ZScore\", ascending=False)\n",
    "        else:\n",
    "            ranked = day_df.sort_values(\"RollingVol\", ascending=False)\n",
    "\n",
    "        sector_counts = defaultdict(int)\n",
    "        \n",
    "        selected = []\n",
    "\n",
    "        for _, row in ranked.iterrows():\n",
    "            ticker = row[\"Ticker\"]\n",
    "            sector = self.ticker_sector_map.get(ticker, \"Unknown\")\n",
    "            if sector_counts[sector] >= self.sector_limit:\n",
    "                continue\n",
    "\n",
    "            active_tickers = [p[\"Ticker\"] for p in self.active_positions]\n",
    "            if ticker in active_tickers:\n",
    "                continue\n",
    "\n",
    "            is_corr, max_corr = self._is_correlated(ticker)\n",
    "            if is_corr:\n",
    "                continue\n",
    "\n",
    "            momentum = row.get(\"Momentum_1M\")\n",
    "            zscore = row.get(\"Vol_ZScore\")\n",
    "            if zscore is None or abs(zscore) < self.vol_zscore_threshold:  # use threshold = 0 for now\n",
    "                continue\n",
    "\n",
    "            direction = \"long\" if momentum >= 0 else \"short\"\n",
    "            \n",
    "            row[\"Direction\"] = direction\n",
    "            row[\"MaxCorrelation\"] = max_corr\n",
    "            self.vol_summary_df.loc[\n",
    "                (self.vol_summary_df[\"Ticker\"] == ticker) &\n",
    "                (self.vol_summary_df[\"Date\"] == current_date),\n",
    "                \"Direction\"\n",
    "            ] = direction\n",
    "\n",
    "            selected.append(row)\n",
    "            if direction == \"short\":\n",
    "                sector_counts[sector] -= 1\n",
    "            else:\n",
    "                sector_counts[sector] += 1\n",
    "            if len(selected) >= self.num_positions:\n",
    "                break\n",
    "\n",
    "            print(\"SELECTED\")\n",
    "            display(selected)\n",
    "\n",
    "        return pd.DataFrame(selected)\n",
    "    \n",
    "    def _inject_momentum(self, lookback=21):\n",
    "        \"\"\"\n",
    "        Calculate 1M momentum and merge into self.vol_summary_df.\n",
    "        \"\"\"\n",
    "        all_momentum = []\n",
    "\n",
    "        for ticker in self.vol_summary_df[\"Ticker\"].unique():\n",
    "            try:\n",
    "                df = self._load_price_data(ticker)\n",
    "                if df is None or \"Close\" not in df:\n",
    "                    continue\n",
    "\n",
    "                df = df.sort_index()\n",
    "                df[\"Momentum_1M\"] = df[\"Close\"].pct_change(periods=lookback)\n",
    "\n",
    "                temp = df[[\"Momentum_1M\"]].copy()\n",
    "                temp[\"Ticker\"] = ticker\n",
    "                temp.reset_index(inplace=True)\n",
    "                all_momentum.append(temp)\n",
    "            except Exception as e:\n",
    "                print(f\"⚠️ Momentum calc failed for {ticker}: {e}\")\n",
    "\n",
    "        momentum_df = pd.concat(all_momentum, ignore_index=True)\n",
    "        self.vol_summary_df = self.vol_summary_df.merge(\n",
    "            momentum_df,\n",
    "            on=[\"Ticker\", \"Date\"],\n",
    "            how=\"left\"\n",
    "        )\n",
    "\n",
    "    def _is_correlated(self, candidate_ticker):\n",
    "        \"\"\"\n",
    "        Returns (is_too_correlated, max_correlation, avg_correlation).\n",
    "        \"\"\"\n",
    "        if not self.active_positions or self.correlation_threshold is None:\n",
    "            return False, None\n",
    "\n",
    "        active_tickers = [p[\"Ticker\"] for p in self.active_positions]\n",
    "\n",
    "        candidate_df = self._load_price_data(candidate_ticker)\n",
    "        if candidate_df is None or candidate_df.empty:\n",
    "            return True, None\n",
    "\n",
    "        candidate_series = pd.DataFrame() if candidate_ticker in active_tickers else candidate_df[\"Close\"].rename(candidate_ticker)\n",
    "\n",
    "        active_dfs = []\n",
    "        for ticker in active_tickers:\n",
    "            df = self._load_price_data(ticker)\n",
    "            if df is not None and not df.empty:\n",
    "                active_dfs.append(df[\"Close\"].rename(ticker))\n",
    "\n",
    "        combined_df = pd.concat([candidate_series] + active_dfs, axis=1).dropna()\n",
    "        if combined_df.shape[0] < 20:\n",
    "            return True, None\n",
    "\n",
    "        corr_matrix = combined_df.corr()\n",
    "\n",
    "        if len(active_tickers) == 1:\n",
    "            corr_val = corr_matrix.loc[candidate_ticker, active_tickers[0]]\n",
    "            max_corr = abs(corr_val)\n",
    "\n",
    "        else:\n",
    "            corr_vals = corr_matrix.loc[candidate_ticker, active_tickers]\n",
    "            max_corr = corr_vals.abs().max()\n",
    "\n",
    "\n",
    "        if debug:\n",
    "            print(f\"📎 Correlation of {candidate_ticker} vs active: max={max_corr:.2f}\")\n",
    "\n",
    "        return max_corr > self.correlation_threshold, max_corr\n",
    "\n",
    "    def _load_price_data(self, ticker):\n",
    "        try:\n",
    "            df = pd.read_csv(f\"{self.price_dir}/{ticker}.csv\", parse_dates=[\"Date\"])\n",
    "            df = df.set_index(\"Date\").sort_index()\n",
    "            return df\n",
    "        except Exception as e:\n",
    "            print(f\"❌ Failed to load data for {ticker}: {e}\")\n",
    "            return None\n",
    "\n",
    "    def _enter_position(self, ticker, entry_date):\n",
    "        df = self._load_price_data(ticker)\n",
    "        if df is None or entry_date not in df.index:\n",
    "            return None\n",
    "\n",
    "        if len(df[df.index >= entry_date]) < self.option_days:\n",
    "            return None\n",
    "\n",
    "        # Determine direction from vol_summary_df\n",
    "        direction_row = self.vol_summary_df[\n",
    "            (self.vol_summary_df[\"Ticker\"] == ticker) &\n",
    "            (self.vol_summary_df[\"Date\"] == pd.to_datetime(entry_date))\n",
    "        ]\n",
    "        if direction_row.empty or pd.isna(direction_row.iloc[0].get(\"Direction\")):\n",
    "            return None\n",
    "        direction = direction_row.iloc[0].get(\"Direction\")\n",
    "\n",
    "        trade_df = simulate_buy_write(\n",
    "            df,\n",
    "            notional=self.notional,\n",
    "            option_days=self.option_days,\n",
    "            direction=direction,\n",
    "        )\n",
    "\n",
    "        if trade_df.empty:\n",
    "            return None\n",
    "\n",
    "        trade = trade_df.iloc[0].to_dict()\n",
    "        trade[\"Ticker\"] = ticker\n",
    "\n",
    "        vol_row = self.vol_summary_df[\n",
    "            (self.vol_summary_df[\"Ticker\"] == ticker) &\n",
    "            (self.vol_summary_df[\"Date\"] == pd.to_datetime(entry_date))\n",
    "        ]\n",
    "\n",
    "        if not vol_row.empty:\n",
    "            trade[\"Volatility\"] = vol_row[\"RollingVol\"].values[0]\n",
    "            trade[\"Vol_ZScore\"] = vol_row[\"Vol_ZScore\"].values[0]\n",
    "        else:\n",
    "            trade[\"Volatility\"] = None\n",
    "            trade[\"Vol_ZScore\"] = None\n",
    "\n",
    "        _, max_corr = self._is_correlated(ticker)\n",
    "        trade[\"MaxCorrelation\"] = max_corr\n",
    "\n",
    "        if debug:\n",
    "            print(f\"📈 Entering {ticker} on {entry_date.date()} (Dir={direction}, Corr={max_corr})\")\n",
    "\n",
    "        self.active_positions.append(trade)\n",
    "\n",
    "    def _roll_or_replace(self, expiry_date):\n",
    "        new_positions = []\n",
    "        exited = []\n",
    "        rolled = []\n",
    "        replaced = []\n",
    "        new_buys = []\n",
    "        pnl_this_round = 0.0\n",
    "\n",
    "        for pos in self.active_positions:\n",
    "            if pd.to_datetime(pos[\"ExpiryDate\"]) != expiry_date:\n",
    "                new_positions.append(pos)\n",
    "                continue\n",
    "\n",
    "            pos[\"MaxCorrelation\"] = pos.get(\"MaxCorrelation\")  # Ensure correlation is tracked\n",
    "            self.trade_log.append(pos)\n",
    "            pnl_this_round += pos[\"PnL_Total_position\"]\n",
    "            exited.append(pos[\"Ticker\"])\n",
    "\n",
    "            if pos[\"Outcome\"] == \"Called\":\n",
    "                replaced.append(pos[\"Ticker\"])\n",
    "            else:\n",
    "                rolled.append(pos[\"Ticker\"])\n",
    "                self._enter_position(pos[\"Ticker\"], expiry_date)\n",
    "\n",
    "        self.active_positions = new_positions\n",
    "\n",
    "        used_tickers = {pos[\"Ticker\"] for pos in self.active_positions}\n",
    "        candidates_df = self._screen_and_rank_universe(expiry_date, exclude_tickers=used_tickers)\n",
    "\n",
    "        for _, row in candidates_df.iterrows():\n",
    "            ticker = row[\"Ticker\"]\n",
    "            if len(self.active_positions) >= self.num_positions:\n",
    "                break\n",
    "            self._enter_position(ticker, expiry_date)\n",
    "            new_buys.append(ticker)\n",
    "\n",
    "        from datetime import datetime\n",
    "        summary_lines = []\n",
    "        summary_lines.append(f\"[{datetime.now().strftime('%Y-%m-%d %H:%M:%S')}] 📆 Expiry Date: {expiry_date.date()}\")\n",
    "\n",
    "        if rolled:\n",
    "            summary_lines.append(\"🔁 Rolled Positions:\")\n",
    "            for ticker in rolled:\n",
    "                try:\n",
    "                    shares = next(p for p in self.active_positions if p[\"Ticker\"] == ticker)[\"NumberShares\"]\n",
    "                    summary_lines.append(f\"   - {ticker}: {shares:.4f} shares\")\n",
    "                except StopIteration:\n",
    "                    summary_lines.append(f\"   - {ticker}: N/A\")\n",
    "\n",
    "        if replaced:\n",
    "            summary_lines.append(\"✅ Called Away (Exited): \" + \", \".join(replaced))\n",
    "\n",
    "        if new_buys:\n",
    "            summary_lines.append(\"🛒 New Positions:\")\n",
    "            for ticker in new_buys:\n",
    "                try:\n",
    "                    shares = next(p for p in self.active_positions if p[\"Ticker\"] == ticker)[\"NumberShares\"]\n",
    "                    summary_lines.append(f\"   - {ticker}: {shares:.4f} shares\")\n",
    "                except StopIteration:\n",
    "                    summary_lines.append(f\"   - {ticker}: N/A\")\n",
    "\n",
    "        summary_lines.append(f\"💰 Period PnL: ${pnl_this_round:,.2f}\")\n",
    "\n",
    "        correlations = [p.get(\"MaxCorrelation\") for p in self.active_positions if p.get(\"MaxCorrelation\") is not None]\n",
    "        if correlations:\n",
    "            avg_corr = sum(correlations) / len(correlations)\n",
    "            summary_lines.append(f\"📊 Avg Correlation of Active Portfolio: {avg_corr:.2f}\")\n",
    "\n",
    "        summary_lines.append(\"─\" * 60)\n",
    "        summary_lines.append(f\"🏛 Sector Mix: {dict(self.sector_counts)}\")\n",
    "\n",
    "        with open(self.log_file_path, \"a\", encoding=\"utf-8\") as f:\n",
    "            f.write(\"\\n\".join(summary_lines) + \"\\n\\n\")\n",
    "\n",
    "    def run(self):\n",
    "        valid_dates = (\n",
    "            self.vol_summary_df\n",
    "            .dropna(subset=[\"Vol_ZScore\" if self.screen_mode == \"breakout\" else \"RollingVol\"])\n",
    "            .groupby(\"Date\").size()\n",
    "        )\n",
    "\n",
    "        first_valid_date = valid_dates[valid_dates >= self.num_positions].index[0]\n",
    "        if debug:\n",
    "            print(f\"🚀 Starting simulation on {first_valid_date.date()} ({self.screen_mode} mode)\")\n",
    "\n",
    "        candidates_df = self._screen_and_rank_universe(first_valid_date)\n",
    "        for _, row in candidates_df.head(self.num_positions).iterrows():\n",
    "            self._enter_position(row[\"Ticker\"], row[\"Date\"])\n",
    "\n",
    "\n",
    "        expiry_schedule = sorted({pd.to_datetime(p[\"ExpiryDate\"]) for p in self.active_positions})\n",
    "        \n",
    "        print(f\"expiry_schedule{expiry_schedule}\")\n",
    "        print(f\"Active positions: {self.active_positions}\")\n",
    "\n",
    "        while expiry_schedule:\n",
    "            next_expiry = expiry_schedule.pop(0)\n",
    "            self._roll_or_replace(next_expiry)\n",
    "\n",
    "            new_expiries = {pd.to_datetime(p[\"ExpiryDate\"]) for p in self.active_positions}\n",
    "            expiry_schedule = sorted(set(expiry_schedule).union(new_expiries))\n",
    "            if debug:\n",
    "                print(f\"\\n🔄 Processing expiry: {next_expiry.date()}\")\n",
    "\n",
    "        if debug:\n",
    "            if self.active_positions:\n",
    "                print(\"\\n📌 Final active positions:\")\n",
    "                for p in self.active_positions:\n",
    "                    print(f\"   - {p['Ticker']}: Entry={p['EntryDate']}, Expiry={p['ExpiryDate']}\")\n",
    "                first_expiry = min(pd.to_datetime(p[\"ExpiryDate\"]) for p in self.active_positions)\n",
    "                print(f\"🔔 First expiry scheduled: {first_expiry}\")\n",
    "            else:\n",
    "                print(\"\\n📭 No active positions at end of simulation.\")\n",
    "\n",
    "        for pos in self.trade_log:\n",
    "            pos[\"Sector\"] = self.ticker_sector_map.get(pos[\"Ticker\"], \"Unknown\")\n",
    "\n",
    "        return pd.DataFrame(self.trade_log)\n",
    "\n",
    "debug = True\n",
    "option_days = 21\n",
    "vol_summary = pd.read_csv(\"../data/volatility_summary.csv\", parse_dates=[\"Date\"])\n",
    "sim = BuyWritePortfolioSimulator(vol_summary_df=vol_summary,\n",
    "                                  price_dir=\"../data/stock_prices\",\n",
    "                                  notional_per_trade=10_000,\n",
    "                                  num_positions=5,\n",
    "                                  correlation_threshold = 0.65,\n",
    "                                  option_days=option_days)\n",
    "\n",
    "portfolio_results = sim.run()\n",
    "portfolio_results.to_csv(\"../data/rotating_trade_log.csv\", index=False)\n",
    "portfolio_results[[\"Ticker\", \"EntryDate\", \"ExpiryDate\"]].groupby(\"EntryDate\").count()"
   ]
  },
  {
   "cell_type": "code",
   "execution_count": 135,
   "metadata": {},
   "outputs": [
    {
     "data": {
      "application/vnd.microsoft.datawrangler.viewer.v0+json": {
       "columns": [
        {
         "name": "index",
         "rawType": "int64",
         "type": "integer"
        },
        {
         "name": "NumberShares",
         "rawType": "float64",
         "type": "float"
        },
        {
         "name": "Direction",
         "rawType": "object",
         "type": "string"
        },
        {
         "name": "EntryDate",
         "rawType": "datetime64[ns]",
         "type": "datetime"
        },
        {
         "name": "EntryPrice",
         "rawType": "float64",
         "type": "float"
        },
        {
         "name": "ExpiryDate",
         "rawType": "datetime64[ns]",
         "type": "datetime"
        },
        {
         "name": "ExitPrice",
         "rawType": "float64",
         "type": "float"
        },
        {
         "name": "SpotPrice_Close",
         "rawType": "float64",
         "type": "float"
        },
        {
         "name": "Strike",
         "rawType": "float64",
         "type": "float"
        },
        {
         "name": "Premium",
         "rawType": "float64",
         "type": "float"
        },
        {
         "name": "Outcome",
         "rawType": "object",
         "type": "string"
        },
        {
         "name": "OptionType",
         "rawType": "object",
         "type": "string"
        },
        {
         "name": "PnL_Option",
         "rawType": "float64",
         "type": "float"
        },
        {
         "name": "PnL_Stock",
         "rawType": "float64",
         "type": "float"
        },
        {
         "name": "PnL_Realized",
         "rawType": "float64",
         "type": "float"
        },
        {
         "name": "PnL_Unrealized",
         "rawType": "float64",
         "type": "float"
        },
        {
         "name": "PnL_Total",
         "rawType": "float64",
         "type": "float"
        },
        {
         "name": "PnL_Percent",
         "rawType": "float64",
         "type": "float"
        },
        {
         "name": "PnL_Option_Position",
         "rawType": "float64",
         "type": "float"
        },
        {
         "name": "PnL_Stock_Position",
         "rawType": "float64",
         "type": "float"
        },
        {
         "name": "PnL_Realized_Position",
         "rawType": "float64",
         "type": "float"
        },
        {
         "name": "PnL_Unrealized_Position",
         "rawType": "float64",
         "type": "float"
        },
        {
         "name": "PnL_Total_position",
         "rawType": "float64",
         "type": "float"
        },
        {
         "name": "Ticker",
         "rawType": "object",
         "type": "string"
        },
        {
         "name": "Volatility",
         "rawType": "float64",
         "type": "float"
        },
        {
         "name": "Vol_ZScore",
         "rawType": "float64",
         "type": "float"
        },
        {
         "name": "MaxCorrelation",
         "rawType": "float64",
         "type": "float"
        },
        {
         "name": "Sector",
         "rawType": "object",
         "type": "string"
        }
       ],
       "conversionMethod": "pd.DataFrame",
       "ref": "f8af22d4-700f-4b7c-8192-ee932b6c04d2",
       "rows": [
        [
         "0",
         "755.2394223546622",
         "short",
         "2015-01-02 00:00:00",
         "13.24083423614502",
         "2015-02-03 00:00:00",
         "13.373419761657717",
         "13.373419761657717",
         "12.97601755142212",
         "0.0",
         "PutExpired",
         "Put",
         "0.0",
         "-0.1325855255126971",
         "0.0",
         "-0.1325855255126971",
         "-0.1325855255126971",
         "-1.3258552551269709e-05",
         "0.0",
         "-100.13381570079868",
         "0.0",
         "-100.13381570079868",
         "-100.13381570079868",
         "NWS",
         "0.2729955235321557",
         "2.333186936029334",
         null,
         "Communication Services"
        ],
        [
         "1",
         "305.6845093409366",
         "short",
         "2015-01-02 00:00:00",
         "32.71346664428711",
         "2015-02-03 00:00:00",
         "33.01454162597656",
         "33.01454162597656",
         "32.05919731140137",
         "0.0",
         "PutExpired",
         "Put",
         "0.0",
         "-0.3010749816894531",
         "0.0",
         "-0.3010749816894531",
         "-0.3010749816894531",
         "-3.0107498168945313e-05",
         "0.0",
         "-92.03395805257195",
         "0.0",
         "-92.03395805257195",
         "-92.03395805257195",
         "IP",
         "0.2553027035576778",
         "2.2112499712609237",
         "0.5915089698505497",
         "Consumer Cyclical"
        ],
        [
         "2",
         "382.9950121117732",
         "short",
         "2015-01-02 00:00:00",
         "26.11000061035156",
         "2015-02-03 00:00:00",
         "27.872499465942383",
         "27.872499465942383",
         "25.587800598144526",
         "0.0",
         "PutExpired",
         "Put",
         "0.0",
         "-1.7624988555908239",
         "0.0",
         "-1.7624988555908239",
         "-1.7624988555908239",
         "-0.00017624988555908238",
         "0.0",
         "-675.0282705439939",
         "0.0",
         "-675.0282705439939",
         "-675.0282705439939",
         "CNC",
         "0.3681312724216609",
         "2.2095310827767194",
         "0.6325717585225568",
         "Healthcare"
        ],
        [
         "3",
         "233.4632706623954",
         "long",
         "2015-01-02 00:00:00",
         "42.833290100097656",
         "2015-02-03 00:00:00",
         "43.68995590209961",
         "43.82672882080078",
         "43.68995590209961",
         "0.0",
         "Called",
         "Call",
         "0.0",
         "0.856665802001956",
         "0.856665802001956",
         "0.0",
         "0.856665802001956",
         "8.56665802001956e-05",
         "0.0",
         "200.00000000000065",
         "200.00000000000065",
         "0.0",
         "200.00000000000065",
         "YUM",
         "0.2729418766855",
         "2.170411287075036",
         "0.8476515766810818",
         "Consumer Cyclical"
        ],
        [
         "4",
         "78.8141605244432",
         "short",
         "2015-01-02 00:00:00",
         "126.88075256347656",
         "2015-02-03 00:00:00",
         "134.57704162597656",
         "134.57704162597656",
         "124.34313751220702",
         "0.0",
         "PutExpired",
         "Put",
         "0.0",
         "-7.6962890625",
         "0.0",
         "-7.6962890625",
         "-7.6962890625",
         "-0.00076962890625",
         "0.0",
         "-606.5765616143914",
         "0.0",
         "-606.5765616143914",
         "-606.5765616143914",
         "WYNN",
         "0.646988271452636",
         "2.16320411943859",
         "0.4105397106044212",
         "Consumer Cyclical"
        ]
       ],
       "shape": {
        "columns": 27,
        "rows": 5
       }
      },
      "text/html": [
       "<div>\n",
       "<style scoped>\n",
       "    .dataframe tbody tr th:only-of-type {\n",
       "        vertical-align: middle;\n",
       "    }\n",
       "\n",
       "    .dataframe tbody tr th {\n",
       "        vertical-align: top;\n",
       "    }\n",
       "\n",
       "    .dataframe thead th {\n",
       "        text-align: right;\n",
       "    }\n",
       "</style>\n",
       "<table border=\"1\" class=\"dataframe\">\n",
       "  <thead>\n",
       "    <tr style=\"text-align: right;\">\n",
       "      <th></th>\n",
       "      <th>NumberShares</th>\n",
       "      <th>Direction</th>\n",
       "      <th>EntryDate</th>\n",
       "      <th>EntryPrice</th>\n",
       "      <th>ExpiryDate</th>\n",
       "      <th>ExitPrice</th>\n",
       "      <th>SpotPrice_Close</th>\n",
       "      <th>Strike</th>\n",
       "      <th>Premium</th>\n",
       "      <th>Outcome</th>\n",
       "      <th>...</th>\n",
       "      <th>PnL_Option_Position</th>\n",
       "      <th>PnL_Stock_Position</th>\n",
       "      <th>PnL_Realized_Position</th>\n",
       "      <th>PnL_Unrealized_Position</th>\n",
       "      <th>PnL_Total_position</th>\n",
       "      <th>Ticker</th>\n",
       "      <th>Volatility</th>\n",
       "      <th>Vol_ZScore</th>\n",
       "      <th>MaxCorrelation</th>\n",
       "      <th>Sector</th>\n",
       "    </tr>\n",
       "  </thead>\n",
       "  <tbody>\n",
       "    <tr>\n",
       "      <th>0</th>\n",
       "      <td>755.239422</td>\n",
       "      <td>short</td>\n",
       "      <td>2015-01-02</td>\n",
       "      <td>13.240834</td>\n",
       "      <td>2015-02-03</td>\n",
       "      <td>13.373420</td>\n",
       "      <td>13.373420</td>\n",
       "      <td>12.976018</td>\n",
       "      <td>0.0</td>\n",
       "      <td>PutExpired</td>\n",
       "      <td>...</td>\n",
       "      <td>0.0</td>\n",
       "      <td>-100.133816</td>\n",
       "      <td>0.0</td>\n",
       "      <td>-100.133816</td>\n",
       "      <td>-100.133816</td>\n",
       "      <td>NWS</td>\n",
       "      <td>0.272996</td>\n",
       "      <td>2.333187</td>\n",
       "      <td>NaN</td>\n",
       "      <td>Communication Services</td>\n",
       "    </tr>\n",
       "    <tr>\n",
       "      <th>1</th>\n",
       "      <td>305.684509</td>\n",
       "      <td>short</td>\n",
       "      <td>2015-01-02</td>\n",
       "      <td>32.713467</td>\n",
       "      <td>2015-02-03</td>\n",
       "      <td>33.014542</td>\n",
       "      <td>33.014542</td>\n",
       "      <td>32.059197</td>\n",
       "      <td>0.0</td>\n",
       "      <td>PutExpired</td>\n",
       "      <td>...</td>\n",
       "      <td>0.0</td>\n",
       "      <td>-92.033958</td>\n",
       "      <td>0.0</td>\n",
       "      <td>-92.033958</td>\n",
       "      <td>-92.033958</td>\n",
       "      <td>IP</td>\n",
       "      <td>0.255303</td>\n",
       "      <td>2.211250</td>\n",
       "      <td>0.591509</td>\n",
       "      <td>Consumer Cyclical</td>\n",
       "    </tr>\n",
       "    <tr>\n",
       "      <th>2</th>\n",
       "      <td>382.995012</td>\n",
       "      <td>short</td>\n",
       "      <td>2015-01-02</td>\n",
       "      <td>26.110001</td>\n",
       "      <td>2015-02-03</td>\n",
       "      <td>27.872499</td>\n",
       "      <td>27.872499</td>\n",
       "      <td>25.587801</td>\n",
       "      <td>0.0</td>\n",
       "      <td>PutExpired</td>\n",
       "      <td>...</td>\n",
       "      <td>0.0</td>\n",
       "      <td>-675.028271</td>\n",
       "      <td>0.0</td>\n",
       "      <td>-675.028271</td>\n",
       "      <td>-675.028271</td>\n",
       "      <td>CNC</td>\n",
       "      <td>0.368131</td>\n",
       "      <td>2.209531</td>\n",
       "      <td>0.632572</td>\n",
       "      <td>Healthcare</td>\n",
       "    </tr>\n",
       "    <tr>\n",
       "      <th>3</th>\n",
       "      <td>233.463271</td>\n",
       "      <td>long</td>\n",
       "      <td>2015-01-02</td>\n",
       "      <td>42.833290</td>\n",
       "      <td>2015-02-03</td>\n",
       "      <td>43.689956</td>\n",
       "      <td>43.826729</td>\n",
       "      <td>43.689956</td>\n",
       "      <td>0.0</td>\n",
       "      <td>Called</td>\n",
       "      <td>...</td>\n",
       "      <td>0.0</td>\n",
       "      <td>200.000000</td>\n",
       "      <td>200.0</td>\n",
       "      <td>0.000000</td>\n",
       "      <td>200.000000</td>\n",
       "      <td>YUM</td>\n",
       "      <td>0.272942</td>\n",
       "      <td>2.170411</td>\n",
       "      <td>0.847652</td>\n",
       "      <td>Consumer Cyclical</td>\n",
       "    </tr>\n",
       "    <tr>\n",
       "      <th>4</th>\n",
       "      <td>78.814161</td>\n",
       "      <td>short</td>\n",
       "      <td>2015-01-02</td>\n",
       "      <td>126.880753</td>\n",
       "      <td>2015-02-03</td>\n",
       "      <td>134.577042</td>\n",
       "      <td>134.577042</td>\n",
       "      <td>124.343138</td>\n",
       "      <td>0.0</td>\n",
       "      <td>PutExpired</td>\n",
       "      <td>...</td>\n",
       "      <td>0.0</td>\n",
       "      <td>-606.576562</td>\n",
       "      <td>0.0</td>\n",
       "      <td>-606.576562</td>\n",
       "      <td>-606.576562</td>\n",
       "      <td>WYNN</td>\n",
       "      <td>0.646988</td>\n",
       "      <td>2.163204</td>\n",
       "      <td>0.410540</td>\n",
       "      <td>Consumer Cyclical</td>\n",
       "    </tr>\n",
       "  </tbody>\n",
       "</table>\n",
       "<p>5 rows × 27 columns</p>\n",
       "</div>"
      ],
      "text/plain": [
       "   NumberShares Direction  EntryDate  EntryPrice ExpiryDate   ExitPrice  \\\n",
       "0    755.239422     short 2015-01-02   13.240834 2015-02-03   13.373420   \n",
       "1    305.684509     short 2015-01-02   32.713467 2015-02-03   33.014542   \n",
       "2    382.995012     short 2015-01-02   26.110001 2015-02-03   27.872499   \n",
       "3    233.463271      long 2015-01-02   42.833290 2015-02-03   43.689956   \n",
       "4     78.814161     short 2015-01-02  126.880753 2015-02-03  134.577042   \n",
       "\n",
       "   SpotPrice_Close      Strike  Premium     Outcome  ... PnL_Option_Position  \\\n",
       "0        13.373420   12.976018      0.0  PutExpired  ...                 0.0   \n",
       "1        33.014542   32.059197      0.0  PutExpired  ...                 0.0   \n",
       "2        27.872499   25.587801      0.0  PutExpired  ...                 0.0   \n",
       "3        43.826729   43.689956      0.0      Called  ...                 0.0   \n",
       "4       134.577042  124.343138      0.0  PutExpired  ...                 0.0   \n",
       "\n",
       "   PnL_Stock_Position  PnL_Realized_Position  PnL_Unrealized_Position  \\\n",
       "0         -100.133816                    0.0              -100.133816   \n",
       "1          -92.033958                    0.0               -92.033958   \n",
       "2         -675.028271                    0.0              -675.028271   \n",
       "3          200.000000                  200.0                 0.000000   \n",
       "4         -606.576562                    0.0              -606.576562   \n",
       "\n",
       "   PnL_Total_position  Ticker  Volatility  Vol_ZScore  MaxCorrelation  \\\n",
       "0         -100.133816     NWS    0.272996    2.333187             NaN   \n",
       "1          -92.033958      IP    0.255303    2.211250        0.591509   \n",
       "2         -675.028271     CNC    0.368131    2.209531        0.632572   \n",
       "3          200.000000     YUM    0.272942    2.170411        0.847652   \n",
       "4         -606.576562    WYNN    0.646988    2.163204        0.410540   \n",
       "\n",
       "                   Sector  \n",
       "0  Communication Services  \n",
       "1       Consumer Cyclical  \n",
       "2              Healthcare  \n",
       "3       Consumer Cyclical  \n",
       "4       Consumer Cyclical  \n",
       "\n",
       "[5 rows x 27 columns]"
      ]
     },
     "execution_count": 135,
     "metadata": {},
     "output_type": "execute_result"
    }
   ],
   "source": [
    "portfolio_results"
   ]
  },
  {
   "cell_type": "code",
   "execution_count": 117,
   "metadata": {},
   "outputs": [],
   "source": [
    "simulator = BuyWritePortfolioSimulator(\n",
    "    vol_summary_df=vol_summary,\n",
    "    price_dir=\"../data/stock_prices\",\n",
    "    vol_zscore_threshold=0  # or raise to 1 for more selective entries\n",
    ")"
   ]
  },
  {
   "cell_type": "code",
   "execution_count": 118,
   "metadata": {},
   "outputs": [
    {
     "name": "stdout",
     "output_type": "stream",
     "text": [
      "🚀 Starting simulation on 2015-05-12 (breakout mode)\n",
      "📈 Entering NWS on 2015-05-12 (Dir=short, Corr=None)\n",
      "📎 Correlation of IP vs active: max=0.59\n",
      "📈 Entering IP on 2015-05-12 (Dir=short, Corr=0.5915089698505497)\n",
      "📎 Correlation of CNC vs active: max=0.63\n",
      "📈 Entering CNC on 2015-05-12 (Dir=short, Corr=0.6325717585225568)\n",
      "📎 Correlation of YUM vs active: max=0.85\n",
      "📈 Entering YUM on 2015-05-12 (Dir=long, Corr=0.8476515766810818)\n",
      "📎 Correlation of WYNN vs active: max=0.41\n",
      "📈 Entering WYNN on 2015-05-12 (Dir=short, Corr=0.4105397106044212)\n",
      "\n",
      "🔄 Processing expiry: 2015-02-03\n",
      "\n",
      "📭 No active positions at end of simulation.\n"
     ]
    },
    {
     "data": {
      "application/vnd.microsoft.datawrangler.viewer.v0+json": {
       "columns": [
        {
         "name": "index",
         "rawType": "int64",
         "type": "integer"
        },
        {
         "name": "NumberShares",
         "rawType": "float64",
         "type": "float"
        },
        {
         "name": "Direction",
         "rawType": "object",
         "type": "string"
        },
        {
         "name": "EntryDate",
         "rawType": "datetime64[ns]",
         "type": "datetime"
        },
        {
         "name": "EntryPrice",
         "rawType": "float64",
         "type": "float"
        },
        {
         "name": "ExpiryDate",
         "rawType": "datetime64[ns]",
         "type": "datetime"
        },
        {
         "name": "ExitPrice",
         "rawType": "float64",
         "type": "float"
        },
        {
         "name": "SpotPrice_Close",
         "rawType": "float64",
         "type": "float"
        },
        {
         "name": "Strike",
         "rawType": "float64",
         "type": "float"
        },
        {
         "name": "Premium",
         "rawType": "float64",
         "type": "float"
        },
        {
         "name": "Outcome",
         "rawType": "object",
         "type": "string"
        },
        {
         "name": "OptionType",
         "rawType": "object",
         "type": "string"
        },
        {
         "name": "PnL_Option",
         "rawType": "float64",
         "type": "float"
        },
        {
         "name": "PnL_Stock",
         "rawType": "float64",
         "type": "float"
        },
        {
         "name": "PnL_Realized",
         "rawType": "float64",
         "type": "float"
        },
        {
         "name": "PnL_Unrealized",
         "rawType": "float64",
         "type": "float"
        },
        {
         "name": "PnL_Total",
         "rawType": "float64",
         "type": "float"
        },
        {
         "name": "PnL_Percent",
         "rawType": "float64",
         "type": "float"
        },
        {
         "name": "PnL_Option_Position",
         "rawType": "float64",
         "type": "float"
        },
        {
         "name": "PnL_Stock_Position",
         "rawType": "float64",
         "type": "float"
        },
        {
         "name": "PnL_Realized_Position",
         "rawType": "float64",
         "type": "float"
        },
        {
         "name": "PnL_Unrealized_Position",
         "rawType": "float64",
         "type": "float"
        },
        {
         "name": "PnL_Total_position",
         "rawType": "float64",
         "type": "float"
        },
        {
         "name": "Ticker",
         "rawType": "object",
         "type": "string"
        },
        {
         "name": "Volatility",
         "rawType": "float64",
         "type": "float"
        },
        {
         "name": "Vol_ZScore",
         "rawType": "float64",
         "type": "float"
        },
        {
         "name": "MaxCorrelation",
         "rawType": "float64",
         "type": "float"
        },
        {
         "name": "Sector",
         "rawType": "object",
         "type": "string"
        }
       ],
       "conversionMethod": "pd.DataFrame",
       "ref": "2825b7b5-1fc1-467d-88b1-c29f2f39fd3f",
       "rows": [
        [
         "0",
         "755.2394223546622",
         "short",
         "2015-01-02 00:00:00",
         "13.24083423614502",
         "2015-02-03 00:00:00",
         "13.373419761657717",
         "13.373419761657717",
         "12.97601755142212",
         "0.0",
         "PutExpired",
         "Put",
         "0.0",
         "-0.1325855255126971",
         "0.0",
         "-0.1325855255126971",
         "-0.1325855255126971",
         "-1.3258552551269709e-05",
         "0.0",
         "-100.13381570079868",
         "0.0",
         "-100.13381570079868",
         "-100.13381570079868",
         "NWS",
         "0.2729955235321557",
         "2.333186936029334",
         null,
         "Communication Services"
        ],
        [
         "1",
         "305.6845093409366",
         "short",
         "2015-01-02 00:00:00",
         "32.71346664428711",
         "2015-02-03 00:00:00",
         "33.01454162597656",
         "33.01454162597656",
         "32.05919731140137",
         "0.0",
         "PutExpired",
         "Put",
         "0.0",
         "-0.3010749816894531",
         "0.0",
         "-0.3010749816894531",
         "-0.3010749816894531",
         "-3.0107498168945313e-05",
         "0.0",
         "-92.03395805257195",
         "0.0",
         "-92.03395805257195",
         "-92.03395805257195",
         "IP",
         "0.2553027035576778",
         "2.2112499712609237",
         "0.5915089698505497",
         "Consumer Cyclical"
        ],
        [
         "2",
         "382.9950121117732",
         "short",
         "2015-01-02 00:00:00",
         "26.11000061035156",
         "2015-02-03 00:00:00",
         "27.872499465942383",
         "27.872499465942383",
         "25.587800598144526",
         "0.0",
         "PutExpired",
         "Put",
         "0.0",
         "-1.7624988555908239",
         "0.0",
         "-1.7624988555908239",
         "-1.7624988555908239",
         "-0.00017624988555908238",
         "0.0",
         "-675.0282705439939",
         "0.0",
         "-675.0282705439939",
         "-675.0282705439939",
         "CNC",
         "0.3681312724216609",
         "2.2095310827767194",
         "0.6325717585225568",
         "Healthcare"
        ],
        [
         "4",
         "78.8141605244432",
         "short",
         "2015-01-02 00:00:00",
         "126.88075256347656",
         "2015-02-03 00:00:00",
         "134.57704162597656",
         "134.57704162597656",
         "124.34313751220702",
         "0.0",
         "PutExpired",
         "Put",
         "0.0",
         "-7.6962890625",
         "0.0",
         "-7.6962890625",
         "-7.6962890625",
         "-0.00076962890625",
         "0.0",
         "-606.5765616143914",
         "0.0",
         "-606.5765616143914",
         "-606.5765616143914",
         "WYNN",
         "0.646988271452636",
         "2.16320411943859",
         "0.4105397106044212",
         "Consumer Cyclical"
        ]
       ],
       "shape": {
        "columns": 27,
        "rows": 4
       }
      },
      "text/html": [
       "<div>\n",
       "<style scoped>\n",
       "    .dataframe tbody tr th:only-of-type {\n",
       "        vertical-align: middle;\n",
       "    }\n",
       "\n",
       "    .dataframe tbody tr th {\n",
       "        vertical-align: top;\n",
       "    }\n",
       "\n",
       "    .dataframe thead th {\n",
       "        text-align: right;\n",
       "    }\n",
       "</style>\n",
       "<table border=\"1\" class=\"dataframe\">\n",
       "  <thead>\n",
       "    <tr style=\"text-align: right;\">\n",
       "      <th></th>\n",
       "      <th>NumberShares</th>\n",
       "      <th>Direction</th>\n",
       "      <th>EntryDate</th>\n",
       "      <th>EntryPrice</th>\n",
       "      <th>ExpiryDate</th>\n",
       "      <th>ExitPrice</th>\n",
       "      <th>SpotPrice_Close</th>\n",
       "      <th>Strike</th>\n",
       "      <th>Premium</th>\n",
       "      <th>Outcome</th>\n",
       "      <th>...</th>\n",
       "      <th>PnL_Option_Position</th>\n",
       "      <th>PnL_Stock_Position</th>\n",
       "      <th>PnL_Realized_Position</th>\n",
       "      <th>PnL_Unrealized_Position</th>\n",
       "      <th>PnL_Total_position</th>\n",
       "      <th>Ticker</th>\n",
       "      <th>Volatility</th>\n",
       "      <th>Vol_ZScore</th>\n",
       "      <th>MaxCorrelation</th>\n",
       "      <th>Sector</th>\n",
       "    </tr>\n",
       "  </thead>\n",
       "  <tbody>\n",
       "    <tr>\n",
       "      <th>0</th>\n",
       "      <td>755.239422</td>\n",
       "      <td>short</td>\n",
       "      <td>2015-01-02</td>\n",
       "      <td>13.240834</td>\n",
       "      <td>2015-02-03</td>\n",
       "      <td>13.373420</td>\n",
       "      <td>13.373420</td>\n",
       "      <td>12.976018</td>\n",
       "      <td>0.0</td>\n",
       "      <td>PutExpired</td>\n",
       "      <td>...</td>\n",
       "      <td>0.0</td>\n",
       "      <td>-100.133816</td>\n",
       "      <td>0.0</td>\n",
       "      <td>-100.133816</td>\n",
       "      <td>-100.133816</td>\n",
       "      <td>NWS</td>\n",
       "      <td>0.272996</td>\n",
       "      <td>2.333187</td>\n",
       "      <td>NaN</td>\n",
       "      <td>Communication Services</td>\n",
       "    </tr>\n",
       "    <tr>\n",
       "      <th>1</th>\n",
       "      <td>305.684509</td>\n",
       "      <td>short</td>\n",
       "      <td>2015-01-02</td>\n",
       "      <td>32.713467</td>\n",
       "      <td>2015-02-03</td>\n",
       "      <td>33.014542</td>\n",
       "      <td>33.014542</td>\n",
       "      <td>32.059197</td>\n",
       "      <td>0.0</td>\n",
       "      <td>PutExpired</td>\n",
       "      <td>...</td>\n",
       "      <td>0.0</td>\n",
       "      <td>-92.033958</td>\n",
       "      <td>0.0</td>\n",
       "      <td>-92.033958</td>\n",
       "      <td>-92.033958</td>\n",
       "      <td>IP</td>\n",
       "      <td>0.255303</td>\n",
       "      <td>2.211250</td>\n",
       "      <td>0.591509</td>\n",
       "      <td>Consumer Cyclical</td>\n",
       "    </tr>\n",
       "    <tr>\n",
       "      <th>2</th>\n",
       "      <td>382.995012</td>\n",
       "      <td>short</td>\n",
       "      <td>2015-01-02</td>\n",
       "      <td>26.110001</td>\n",
       "      <td>2015-02-03</td>\n",
       "      <td>27.872499</td>\n",
       "      <td>27.872499</td>\n",
       "      <td>25.587801</td>\n",
       "      <td>0.0</td>\n",
       "      <td>PutExpired</td>\n",
       "      <td>...</td>\n",
       "      <td>0.0</td>\n",
       "      <td>-675.028271</td>\n",
       "      <td>0.0</td>\n",
       "      <td>-675.028271</td>\n",
       "      <td>-675.028271</td>\n",
       "      <td>CNC</td>\n",
       "      <td>0.368131</td>\n",
       "      <td>2.209531</td>\n",
       "      <td>0.632572</td>\n",
       "      <td>Healthcare</td>\n",
       "    </tr>\n",
       "    <tr>\n",
       "      <th>4</th>\n",
       "      <td>78.814161</td>\n",
       "      <td>short</td>\n",
       "      <td>2015-01-02</td>\n",
       "      <td>126.880753</td>\n",
       "      <td>2015-02-03</td>\n",
       "      <td>134.577042</td>\n",
       "      <td>134.577042</td>\n",
       "      <td>124.343138</td>\n",
       "      <td>0.0</td>\n",
       "      <td>PutExpired</td>\n",
       "      <td>...</td>\n",
       "      <td>0.0</td>\n",
       "      <td>-606.576562</td>\n",
       "      <td>0.0</td>\n",
       "      <td>-606.576562</td>\n",
       "      <td>-606.576562</td>\n",
       "      <td>WYNN</td>\n",
       "      <td>0.646988</td>\n",
       "      <td>2.163204</td>\n",
       "      <td>0.410540</td>\n",
       "      <td>Consumer Cyclical</td>\n",
       "    </tr>\n",
       "  </tbody>\n",
       "</table>\n",
       "<p>4 rows × 27 columns</p>\n",
       "</div>"
      ],
      "text/plain": [
       "   NumberShares Direction  EntryDate  EntryPrice ExpiryDate   ExitPrice  \\\n",
       "0    755.239422     short 2015-01-02   13.240834 2015-02-03   13.373420   \n",
       "1    305.684509     short 2015-01-02   32.713467 2015-02-03   33.014542   \n",
       "2    382.995012     short 2015-01-02   26.110001 2015-02-03   27.872499   \n",
       "4     78.814161     short 2015-01-02  126.880753 2015-02-03  134.577042   \n",
       "\n",
       "   SpotPrice_Close      Strike  Premium     Outcome  ... PnL_Option_Position  \\\n",
       "0        13.373420   12.976018      0.0  PutExpired  ...                 0.0   \n",
       "1        33.014542   32.059197      0.0  PutExpired  ...                 0.0   \n",
       "2        27.872499   25.587801      0.0  PutExpired  ...                 0.0   \n",
       "4       134.577042  124.343138      0.0  PutExpired  ...                 0.0   \n",
       "\n",
       "   PnL_Stock_Position  PnL_Realized_Position  PnL_Unrealized_Position  \\\n",
       "0         -100.133816                    0.0              -100.133816   \n",
       "1          -92.033958                    0.0               -92.033958   \n",
       "2         -675.028271                    0.0              -675.028271   \n",
       "4         -606.576562                    0.0              -606.576562   \n",
       "\n",
       "   PnL_Total_position  Ticker  Volatility  Vol_ZScore  MaxCorrelation  \\\n",
       "0         -100.133816     NWS    0.272996    2.333187             NaN   \n",
       "1          -92.033958      IP    0.255303    2.211250        0.591509   \n",
       "2         -675.028271     CNC    0.368131    2.209531        0.632572   \n",
       "4         -606.576562    WYNN    0.646988    2.163204        0.410540   \n",
       "\n",
       "                   Sector  \n",
       "0  Communication Services  \n",
       "1       Consumer Cyclical  \n",
       "2              Healthcare  \n",
       "4       Consumer Cyclical  \n",
       "\n",
       "[4 rows x 27 columns]"
      ]
     },
     "execution_count": 118,
     "metadata": {},
     "output_type": "execute_result"
    }
   ],
   "source": [
    "portfolio_results = simulator.run()\n",
    "portfolio_results[portfolio_results[\"Direction\"] == \"short\"].head()"
   ]
  },
  {
   "cell_type": "markdown",
   "metadata": {},
   "source": [
    "# Portfolio Simulator Class"
   ]
  },
  {
   "cell_type": "markdown",
   "metadata": {},
   "source": [
    "### Portfolio Run"
   ]
  },
  {
   "cell_type": "markdown",
   "id": "c749c529",
   "metadata": {},
   "source": [
    "### 5. 🧰 Portfolio Management Logic"
   ]
  },
  {
   "cell_type": "code",
   "execution_count": null,
   "metadata": {},
   "outputs": [
    {
     "name": "stdout",
     "output_type": "stream",
     "text": [
      "🚀 Starting simulation on 2015-05-12 (breakout mode)\n",
      "📈 Entering NWS on 2015-05-12 (Dir=short, Corr=None)\n",
      "📎 Correlation of IP vs active: max=0.59\n",
      "📈 Entering IP on 2015-05-12 (Dir=short, Corr=0.5915089698505497)\n",
      "📎 Correlation of CNC vs active: max=0.63\n",
      "📈 Entering CNC on 2015-05-12 (Dir=short, Corr=0.6325717585225568)\n",
      "📎 Correlation of YUM vs active: max=0.85\n",
      "📈 Entering YUM on 2015-05-12 (Dir=long, Corr=0.8476515766810818)\n",
      "📎 Correlation of WYNN vs active: max=0.41\n",
      "📈 Entering WYNN on 2015-05-12 (Dir=short, Corr=0.4105397106044212)\n",
      "\n",
      "🔄 Processing expiry: 2015-02-03\n",
      "\n",
      "📭 No active positions at end of simulation.\n"
     ]
    },
    {
     "data": {
      "application/vnd.microsoft.datawrangler.viewer.v0+json": {
       "columns": [
        {
         "name": "EntryDate",
         "rawType": "datetime64[ns]",
         "type": "datetime"
        },
        {
         "name": "Ticker",
         "rawType": "int64",
         "type": "integer"
        },
        {
         "name": "ExpiryDate",
         "rawType": "int64",
         "type": "integer"
        }
       ],
       "conversionMethod": "pd.DataFrame",
       "ref": "01b00988-8afb-4c3b-81c7-bdb176fc31eb",
       "rows": [
        [
         "2015-01-02 00:00:00",
         "5",
         "5"
        ]
       ],
       "shape": {
        "columns": 2,
        "rows": 1
       }
      },
      "text/html": [
       "<div>\n",
       "<style scoped>\n",
       "    .dataframe tbody tr th:only-of-type {\n",
       "        vertical-align: middle;\n",
       "    }\n",
       "\n",
       "    .dataframe tbody tr th {\n",
       "        vertical-align: top;\n",
       "    }\n",
       "\n",
       "    .dataframe thead th {\n",
       "        text-align: right;\n",
       "    }\n",
       "</style>\n",
       "<table border=\"1\" class=\"dataframe\">\n",
       "  <thead>\n",
       "    <tr style=\"text-align: right;\">\n",
       "      <th></th>\n",
       "      <th>Ticker</th>\n",
       "      <th>ExpiryDate</th>\n",
       "    </tr>\n",
       "    <tr>\n",
       "      <th>EntryDate</th>\n",
       "      <th></th>\n",
       "      <th></th>\n",
       "    </tr>\n",
       "  </thead>\n",
       "  <tbody>\n",
       "    <tr>\n",
       "      <th>2015-01-02</th>\n",
       "      <td>5</td>\n",
       "      <td>5</td>\n",
       "    </tr>\n",
       "  </tbody>\n",
       "</table>\n",
       "</div>"
      ],
      "text/plain": [
       "            Ticker  ExpiryDate\n",
       "EntryDate                     \n",
       "2015-01-02       5           5"
      ]
     },
     "execution_count": 122,
     "metadata": {},
     "output_type": "execute_result"
    }
   ],
   "source": [
    "debug = True\n",
    "option_days = 21\n",
    "vol_summary = pd.read_csv(\"../data/volatility_summary.csv\", parse_dates=[\"Date\"])\n",
    "sim = BuyWritePortfolioSimulator(vol_summary_df=vol_summary,\n",
    "                                  price_dir=\"../data/stock_prices\",\n",
    "                                  notional_per_trade=10_000,\n",
    "                                  num_positions=5,\n",
    "                                  correlation_threshold = 0.65,\n",
    "                                  option_days=option_days)\n",
    "\n",
    "portfolio_results = sim.run()\n",
    "portfolio_results.to_csv(\"../data/rotating_trade_log.csv\", index=False)\n",
    "portfolio_results[[\"Ticker\", \"EntryDate\", \"ExpiryDate\"]].groupby(\"EntryDate\").count()"
   ]
  },
  {
   "cell_type": "code",
   "execution_count": 121,
   "metadata": {},
   "outputs": [
    {
     "data": {
      "application/vnd.microsoft.datawrangler.viewer.v0+json": {
       "columns": [
        {
         "name": "index",
         "rawType": "int64",
         "type": "integer"
        },
        {
         "name": "Date",
         "rawType": "datetime64[ns]",
         "type": "datetime"
        },
        {
         "name": "RollingVol",
         "rawType": "float64",
         "type": "float"
        },
        {
         "name": "Ticker",
         "rawType": "object",
         "type": "string"
        },
        {
         "name": "Vol_ZScore",
         "rawType": "float64",
         "type": "float"
        }
       ],
       "conversionMethod": "pd.DataFrame",
       "ref": "d8b48980-5931-4d63-a5be-d46c885aa029",
       "rows": [
        [
         "1128463",
         "2024-04-16 00:00:00",
         "0.2940900356073465",
         "ZTS",
         "0.4861272214501762"
        ],
        [
         "1128464",
         "2024-04-17 00:00:00",
         "0.2932866484626786",
         "ZTS",
         "0.4499170114763584"
        ],
        [
         "1128465",
         "2024-04-18 00:00:00",
         "0.2973082551637985",
         "ZTS",
         "0.5018812537472319"
        ],
        [
         "1128466",
         "2024-04-19 00:00:00",
         "0.3170460325341604",
         "ZTS",
         "0.8362477560336117"
        ],
        [
         "1128467",
         "2024-04-22 00:00:00",
         "0.3154516777209744",
         "ZTS",
         "0.7790730077495613"
        ],
        [
         "1128468",
         "2024-04-23 00:00:00",
         "0.3285561817000252",
         "ZTS",
         "0.989835409818721"
        ],
        [
         "1128469",
         "2024-04-24 00:00:00",
         "0.3312080885486108",
         "ZTS",
         "1.008812558579978"
        ],
        [
         "1128470",
         "2024-04-25 00:00:00",
         "0.3301684202598011",
         "ZTS",
         "0.9612130329021036"
        ],
        [
         "1128471",
         "2024-04-26 00:00:00",
         "0.3458488538661492",
         "ZTS",
         "1.2310409594081744"
        ],
        [
         "1128472",
         "2024-04-29 00:00:00",
         "0.347020030570375",
         "ZTS",
         "1.2231771098286337"
        ]
       ],
       "shape": {
        "columns": 4,
        "rows": 10
       }
      },
      "text/html": [
       "<div>\n",
       "<style scoped>\n",
       "    .dataframe tbody tr th:only-of-type {\n",
       "        vertical-align: middle;\n",
       "    }\n",
       "\n",
       "    .dataframe tbody tr th {\n",
       "        vertical-align: top;\n",
       "    }\n",
       "\n",
       "    .dataframe thead th {\n",
       "        text-align: right;\n",
       "    }\n",
       "</style>\n",
       "<table border=\"1\" class=\"dataframe\">\n",
       "  <thead>\n",
       "    <tr style=\"text-align: right;\">\n",
       "      <th></th>\n",
       "      <th>Date</th>\n",
       "      <th>RollingVol</th>\n",
       "      <th>Ticker</th>\n",
       "      <th>Vol_ZScore</th>\n",
       "    </tr>\n",
       "  </thead>\n",
       "  <tbody>\n",
       "    <tr>\n",
       "      <th>1128463</th>\n",
       "      <td>2024-04-16</td>\n",
       "      <td>0.294090</td>\n",
       "      <td>ZTS</td>\n",
       "      <td>0.486127</td>\n",
       "    </tr>\n",
       "    <tr>\n",
       "      <th>1128464</th>\n",
       "      <td>2024-04-17</td>\n",
       "      <td>0.293287</td>\n",
       "      <td>ZTS</td>\n",
       "      <td>0.449917</td>\n",
       "    </tr>\n",
       "    <tr>\n",
       "      <th>1128465</th>\n",
       "      <td>2024-04-18</td>\n",
       "      <td>0.297308</td>\n",
       "      <td>ZTS</td>\n",
       "      <td>0.501881</td>\n",
       "    </tr>\n",
       "    <tr>\n",
       "      <th>1128466</th>\n",
       "      <td>2024-04-19</td>\n",
       "      <td>0.317046</td>\n",
       "      <td>ZTS</td>\n",
       "      <td>0.836248</td>\n",
       "    </tr>\n",
       "    <tr>\n",
       "      <th>1128467</th>\n",
       "      <td>2024-04-22</td>\n",
       "      <td>0.315452</td>\n",
       "      <td>ZTS</td>\n",
       "      <td>0.779073</td>\n",
       "    </tr>\n",
       "    <tr>\n",
       "      <th>1128468</th>\n",
       "      <td>2024-04-23</td>\n",
       "      <td>0.328556</td>\n",
       "      <td>ZTS</td>\n",
       "      <td>0.989835</td>\n",
       "    </tr>\n",
       "    <tr>\n",
       "      <th>1128469</th>\n",
       "      <td>2024-04-24</td>\n",
       "      <td>0.331208</td>\n",
       "      <td>ZTS</td>\n",
       "      <td>1.008813</td>\n",
       "    </tr>\n",
       "    <tr>\n",
       "      <th>1128470</th>\n",
       "      <td>2024-04-25</td>\n",
       "      <td>0.330168</td>\n",
       "      <td>ZTS</td>\n",
       "      <td>0.961213</td>\n",
       "    </tr>\n",
       "    <tr>\n",
       "      <th>1128471</th>\n",
       "      <td>2024-04-26</td>\n",
       "      <td>0.345849</td>\n",
       "      <td>ZTS</td>\n",
       "      <td>1.231041</td>\n",
       "    </tr>\n",
       "    <tr>\n",
       "      <th>1128472</th>\n",
       "      <td>2024-04-29</td>\n",
       "      <td>0.347020</td>\n",
       "      <td>ZTS</td>\n",
       "      <td>1.223177</td>\n",
       "    </tr>\n",
       "  </tbody>\n",
       "</table>\n",
       "</div>"
      ],
      "text/plain": [
       "              Date  RollingVol Ticker  Vol_ZScore\n",
       "1128463 2024-04-16    0.294090    ZTS    0.486127\n",
       "1128464 2024-04-17    0.293287    ZTS    0.449917\n",
       "1128465 2024-04-18    0.297308    ZTS    0.501881\n",
       "1128466 2024-04-19    0.317046    ZTS    0.836248\n",
       "1128467 2024-04-22    0.315452    ZTS    0.779073\n",
       "1128468 2024-04-23    0.328556    ZTS    0.989835\n",
       "1128469 2024-04-24    0.331208    ZTS    1.008813\n",
       "1128470 2024-04-25    0.330168    ZTS    0.961213\n",
       "1128471 2024-04-26    0.345849    ZTS    1.231041\n",
       "1128472 2024-04-29    0.347020    ZTS    1.223177"
      ]
     },
     "execution_count": 121,
     "metadata": {},
     "output_type": "execute_result"
    }
   ],
   "source": [
    "vol_summary[-10:]"
   ]
  },
  {
   "cell_type": "markdown",
   "id": "30442a8e",
   "metadata": {},
   "source": [
    "### 6. 🧪 Backtest Execution"
   ]
  },
  {
   "cell_type": "code",
   "execution_count": 61,
   "metadata": {},
   "outputs": [
    {
     "data": {
      "text/plain": [
       "Year\n",
       "2015    -2279.717733\n",
       "2016    18353.749148\n",
       "2017     7559.500235\n",
       "2018     1160.518059\n",
       "2019    13825.048925\n",
       "2020     9137.033453\n",
       "2021     7888.943769\n",
       "2022     7405.896235\n",
       "2023     7646.723056\n",
       "2024     1297.001148\n",
       "Name: PnL_Total_position, dtype: float64"
      ]
     },
     "metadata": {},
     "output_type": "display_data"
    },
    {
     "data": {
      "text/plain": [
       "np.float64(71994.69629509747)"
      ]
     },
     "metadata": {},
     "output_type": "display_data"
    }
   ],
   "source": [
    "portfolio_results['Year']= portfolio_results['EntryDate'].dt.year\n",
    "display(portfolio_results.groupby('Year')['PnL_Total_position'].sum())\n",
    "display(portfolio_results['PnL_Total_position'].sum())"
   ]
  },
  {
   "cell_type": "code",
   "execution_count": 62,
   "metadata": {},
   "outputs": [
    {
     "data": {
      "text/plain": [
       "Index(['NumberShares', 'EntryDate', 'EntryPrice', 'ExpiryDate', 'ExitPrice',\n",
       "       'SpotPrice_Close', 'Strike', 'Premium', 'Outcome', 'PnL_Call',\n",
       "       'PnL_Stock', 'PnL_Realized', 'PnL_Unrealized', 'PnL_Total',\n",
       "       'PnL_Percent', 'PnL_Call_Position', 'PnL_Stock_Position',\n",
       "       'PnL_Realized_Position', 'PnL_Unrealized_Position',\n",
       "       'PnL_Total_position', 'Ticker', 'Volatility', 'Vol_ZScore',\n",
       "       'MaxCorrelation', 'Sector', 'Year'],\n",
       "      dtype='object')"
      ]
     },
     "execution_count": 62,
     "metadata": {},
     "output_type": "execute_result"
    }
   ],
   "source": [
    "portfolio_results.columns"
   ]
  },
  {
   "cell_type": "markdown",
   "metadata": {},
   "source": [
    "## Visualization of Portfolio Results"
   ]
  },
  {
   "cell_type": "code",
   "execution_count": 63,
   "metadata": {},
   "outputs": [
    {
     "name": "stderr",
     "output_type": "stream",
     "text": [
      "C:\\Users\\glade\\AppData\\Local\\Temp\\ipykernel_45020\\2556533040.py:14: UserWarning: Glyph 128200 (\\N{CHART WITH UPWARDS TREND}) missing from font(s) Arial.\n",
      "  plt.tight_layout()\n",
      "C:\\Users\\glade\\AppData\\Roaming\\Python\\Python312\\site-packages\\IPython\\core\\pylabtools.py:170: UserWarning: Glyph 128200 (\\N{CHART WITH UPWARDS TREND}) missing from font(s) Arial.\n",
      "  fig.canvas.print_figure(bytes_io, **kw)\n"
     ]
    },
    {
     "data": {
      "image/png": "[encoded data removed]",
      "text/plain": [
       "<Figure size 1200x500 with 1 Axes>"
      ]
     },
     "metadata": {},
     "output_type": "display_data"
    },
    {
     "name": "stderr",
     "output_type": "stream",
     "text": [
      "C:\\Users\\glade\\AppData\\Local\\Temp\\ipykernel_45020\\2556533040.py:24: UserWarning: Glyph 128201 (\\N{CHART WITH DOWNWARDS TREND}) missing from font(s) Arial.\n",
      "  plt.tight_layout()\n",
      "C:\\Users\\glade\\AppData\\Roaming\\Python\\Python312\\site-packages\\IPython\\core\\pylabtools.py:170: UserWarning: Glyph 128201 (\\N{CHART WITH DOWNWARDS TREND}) missing from font(s) Arial.\n",
      "  fig.canvas.print_figure(bytes_io, **kw)\n"
     ]
    },
    {
     "data": {
      "image/png": "[encoded data removed]",
      "text/plain": [
       "<Figure size 1000x500 with 1 Axes>"
      ]
     },
     "metadata": {},
     "output_type": "display_data"
    },
    {
     "name": "stderr",
     "output_type": "stream",
     "text": [
      "C:\\Users\\glade\\AppData\\Local\\Temp\\ipykernel_45020\\2556533040.py:35: FutureWarning: \n",
      "\n",
      "Passing `palette` without assigning `hue` is deprecated and will be removed in v0.14.0. Assign the `x` variable to `hue` and set `legend=False` for the same effect.\n",
      "\n",
      "  ax = sns.barplot(x=pnl_by_ticker.index, y=pnl_by_ticker.values, palette=\"viridis\")\n",
      "C:\\Users\\glade\\AppData\\Local\\Temp\\ipykernel_45020\\2556533040.py:56: UserWarning: Glyph 127991 (\\N{LABEL}) missing from font(s) Arial.\n",
      "  plt.tight_layout()\n",
      "C:\\Users\\glade\\AppData\\Local\\Temp\\ipykernel_45020\\2556533040.py:56: UserWarning: Glyph 65039 (\\N{VARIATION SELECTOR-16}) missing from font(s) Arial.\n",
      "  plt.tight_layout()\n",
      "C:\\Users\\glade\\AppData\\Roaming\\Python\\Python312\\site-packages\\IPython\\core\\pylabtools.py:170: UserWarning: Glyph 127991 (\\N{LABEL}) missing from font(s) Arial.\n",
      "  fig.canvas.print_figure(bytes_io, **kw)\n",
      "C:\\Users\\glade\\AppData\\Roaming\\Python\\Python312\\site-packages\\IPython\\core\\pylabtools.py:170: UserWarning: Glyph 65039 (\\N{VARIATION SELECTOR-16}) missing from font(s) Arial.\n",
      "  fig.canvas.print_figure(bytes_io, **kw)\n"
     ]
    },
    {
     "data": {
      "image/png": "[encoded data removed]",
      "text/plain": [
       "<Figure size 1400x600 with 1 Axes>"
      ]
     },
     "metadata": {},
     "output_type": "display_data"
    }
   ],
   "source": [
    "# Ensure date format\n",
    "portfolio_results['ExpiryDate'] = pd.to_datetime(portfolio_results['ExpiryDate'])\n",
    "\n",
    "# === 1. Equity Curve (Total PnL) ===\n",
    "portfolio_results = portfolio_results.sort_values(\"ExpiryDate\")\n",
    "portfolio_results[\"CumulativePnL\"] = portfolio_results[\"PnL_Total_position\"].cumsum()\n",
    "\n",
    "plt.figure(figsize=(12, 5))\n",
    "plt.plot(portfolio_results[\"ExpiryDate\"], portfolio_results[\"CumulativePnL\"], marker=None)\n",
    "plt.title(\"📈 Equity Curve (Cumulative Total PnL)\")\n",
    "plt.xlabel(\"Expiry Date\")\n",
    "plt.ylabel(\"Cumulative PnL ($)\")\n",
    "plt.grid(True)\n",
    "plt.tight_layout()\n",
    "plt.show()\n",
    "\n",
    "# === 2. Histogram of Trade Returns ===\n",
    "plt.figure(figsize=(10, 5))\n",
    "sns.histplot(portfolio_results[\"PnL_Percent\"], bins=50, kde=True, color='skyblue')\n",
    "plt.title(\"📉 Distribution of Trade Returns (%)\")\n",
    "plt.xlabel(\"Return per Trade (%)\")\n",
    "plt.ylabel(\"Frequency\")\n",
    "plt.grid(True)\n",
    "plt.tight_layout()\n",
    "plt.show()\n",
    "\n",
    "# === 3. PnL by Ticker (Total PnL) ===\n",
    "pnl_by_ticker = (\n",
    "    portfolio_results.groupby(\"Ticker\")[\"PnL_Total_position\"]\n",
    "    .sum()\n",
    "    .sort_values(ascending=False)\n",
    ")\n",
    "\n",
    "plt.figure(figsize=(14, 6))\n",
    "ax = sns.barplot(x=pnl_by_ticker.index, y=pnl_by_ticker.values, palette=\"viridis\")\n",
    "\n",
    "# Remove x-tick labels\n",
    "ax.set_xticks([])\n",
    "ax.set_xlabel(\"\")\n",
    "\n",
    "# Add ticker labels on top of bars\n",
    "for bar, ticker in zip(ax.patches, pnl_by_ticker.index):\n",
    "    height = bar.get_height()\n",
    "    ax.text(\n",
    "        bar.get_x() + bar.get_width() / 2,\n",
    "        height + max(pnl_by_ticker.values) * 0.01,  # small offset above bar\n",
    "        ticker,\n",
    "        ha='center',\n",
    "        va='bottom',\n",
    "        fontsize=8,\n",
    "        rotation=90\n",
    "    )\n",
    "\n",
    "ax.set_title(\"🏷️ Total PnL by Ticker\")\n",
    "ax.set_ylabel(\"Total PnL ($)\")\n",
    "plt.tight_layout()\n",
    "plt.show()\n",
    "plt.show()\n"
   ]
  },
  {
   "cell_type": "markdown",
   "metadata": {},
   "source": [
    "### 7. 🎰 Prediction and Machine Learning\n",
    "\n",
    "I trained a Random Forest classifier to predict whether a buy-write trade would be profitable based on trade-level features:\n",
    "- Volatility Z-Score\n",
    "- Realized volatility (forward 21-day)\n",
    "- Implied Volatility proxy (premium / entry price)\n",
    "- 1-month price momentum\n",
    "\n",
    "The model achieved 67% accuracy and was especially effective at identifying profitable trades (recall = 93%). To evaluate its practical usefulness, we compared the return distribution of model-picked trades to randomly selected trades of the same size.\n",
    "\n",
    "The results show the ML model adds value:\n",
    "- **Model Avg Return:** $371 vs **Random:** $124\n",
    "- **Model Sharpe:** 0.80 vs **Random:** 0.17\n",
    "\n",
    "A two-sample t-test confirmed the difference in performance was statistically significant.\n",
    "\n",
    "This demonstrates that ML can enhance trade selection beyond naive volatility screening."
   ]
  },
  {
   "cell_type": "code",
   "execution_count": 71,
   "metadata": {},
   "outputs": [
    {
     "data": {
      "application/vnd.microsoft.datawrangler.viewer.v0+json": {
       "columns": [
        {
         "name": "index",
         "rawType": "int64",
         "type": "integer"
        },
        {
         "name": "Ticker",
         "rawType": "object",
         "type": "string"
        },
        {
         "name": "EntryDate",
         "rawType": "datetime64[ns]",
         "type": "datetime"
        },
        {
         "name": "Vol_ZScore",
         "rawType": "float64",
         "type": "float"
        },
        {
         "name": "Sector",
         "rawType": "object",
         "type": "string"
        },
        {
         "name": "IV_Proxy",
         "rawType": "float64",
         "type": "float"
        },
        {
         "name": "RealizedVol",
         "rawType": "float64",
         "type": "float"
        },
        {
         "name": "Momentum_1M",
         "rawType": "float64",
         "type": "float"
        },
        {
         "name": "PnL_Total_position",
         "rawType": "float64",
         "type": "float"
        },
        {
         "name": "PnL_Label",
         "rawType": "int64",
         "type": "integer"
        }
       ],
       "conversionMethod": "pd.DataFrame",
       "ref": "e1493e02-50fe-487b-8a29-7af5d0ba4627",
       "rows": [
        [
         "0",
         "NWS",
         "2015-05-12 00:00:00",
         "2.333186936029334",
         "Communication Services",
         "0.02301220818203175",
         "0.11545199840012135",
         "-0.0422712322610822",
         "-375.9383519341251",
         "0"
        ],
        [
         "1",
         "IP",
         "2015-05-12 00:00:00",
         "2.2112499712609237",
         "Consumer Cyclical",
         "0.021107365365530584",
         "0.14684706077337922",
         "-0.05236396758719897",
         "176.5862218248382",
         "1"
        ],
        [
         "2",
         "CNC",
         "2015-05-12 00:00:00",
         "2.2095310827767194",
         "Healthcare",
         "0.033610966136934636",
         "0.22382804159698952",
         "-0.03642861502511163",
         "536.1096613693475",
         "1"
        ],
        [
         "3",
         "YUM",
         "2015-05-12 00:00:00",
         "2.170411287075036",
         "Consumer Cyclical",
         "0.02405989515886655",
         "0.2143219600131728",
         "0.13526726124316735",
         "344.5921830913414",
         "1"
        ],
        [
         "4",
         "WYNN",
         "2015-05-12 00:00:00",
         "2.16320411943859",
         "Consumer Cyclical",
         "0.062238766718754154",
         "0.3983201807075817",
         "-0.11647841045165785",
         "-66.68242335350872",
         "0"
        ]
       ],
       "shape": {
        "columns": 9,
        "rows": 5
       }
      },
      "text/html": [
       "<div>\n",
       "<style scoped>\n",
       "    .dataframe tbody tr th:only-of-type {\n",
       "        vertical-align: middle;\n",
       "    }\n",
       "\n",
       "    .dataframe tbody tr th {\n",
       "        vertical-align: top;\n",
       "    }\n",
       "\n",
       "    .dataframe thead th {\n",
       "        text-align: right;\n",
       "    }\n",
       "</style>\n",
       "<table border=\"1\" class=\"dataframe\">\n",
       "  <thead>\n",
       "    <tr style=\"text-align: right;\">\n",
       "      <th></th>\n",
       "      <th>Ticker</th>\n",
       "      <th>EntryDate</th>\n",
       "      <th>Vol_ZScore</th>\n",
       "      <th>Sector</th>\n",
       "      <th>IV_Proxy</th>\n",
       "      <th>RealizedVol</th>\n",
       "      <th>Momentum_1M</th>\n",
       "      <th>PnL_Total_position</th>\n",
       "      <th>PnL_Label</th>\n",
       "    </tr>\n",
       "  </thead>\n",
       "  <tbody>\n",
       "    <tr>\n",
       "      <th>0</th>\n",
       "      <td>NWS</td>\n",
       "      <td>2015-05-12</td>\n",
       "      <td>2.333187</td>\n",
       "      <td>Communication Services</td>\n",
       "      <td>0.023012</td>\n",
       "      <td>0.115452</td>\n",
       "      <td>-0.042271</td>\n",
       "      <td>-375.938352</td>\n",
       "      <td>0</td>\n",
       "    </tr>\n",
       "    <tr>\n",
       "      <th>1</th>\n",
       "      <td>IP</td>\n",
       "      <td>2015-05-12</td>\n",
       "      <td>2.211250</td>\n",
       "      <td>Consumer Cyclical</td>\n",
       "      <td>0.021107</td>\n",
       "      <td>0.146847</td>\n",
       "      <td>-0.052364</td>\n",
       "      <td>176.586222</td>\n",
       "      <td>1</td>\n",
       "    </tr>\n",
       "    <tr>\n",
       "      <th>2</th>\n",
       "      <td>CNC</td>\n",
       "      <td>2015-05-12</td>\n",
       "      <td>2.209531</td>\n",
       "      <td>Healthcare</td>\n",
       "      <td>0.033611</td>\n",
       "      <td>0.223828</td>\n",
       "      <td>-0.036429</td>\n",
       "      <td>536.109661</td>\n",
       "      <td>1</td>\n",
       "    </tr>\n",
       "    <tr>\n",
       "      <th>3</th>\n",
       "      <td>YUM</td>\n",
       "      <td>2015-05-12</td>\n",
       "      <td>2.170411</td>\n",
       "      <td>Consumer Cyclical</td>\n",
       "      <td>0.024060</td>\n",
       "      <td>0.214322</td>\n",
       "      <td>0.135267</td>\n",
       "      <td>344.592183</td>\n",
       "      <td>1</td>\n",
       "    </tr>\n",
       "    <tr>\n",
       "      <th>4</th>\n",
       "      <td>WYNN</td>\n",
       "      <td>2015-05-12</td>\n",
       "      <td>2.163204</td>\n",
       "      <td>Consumer Cyclical</td>\n",
       "      <td>0.062239</td>\n",
       "      <td>0.398320</td>\n",
       "      <td>-0.116478</td>\n",
       "      <td>-66.682423</td>\n",
       "      <td>0</td>\n",
       "    </tr>\n",
       "  </tbody>\n",
       "</table>\n",
       "</div>"
      ],
      "text/plain": [
       "  Ticker  EntryDate  Vol_ZScore                  Sector  IV_Proxy  \\\n",
       "0    NWS 2015-05-12    2.333187  Communication Services  0.023012   \n",
       "1     IP 2015-05-12    2.211250       Consumer Cyclical  0.021107   \n",
       "2    CNC 2015-05-12    2.209531              Healthcare  0.033611   \n",
       "3    YUM 2015-05-12    2.170411       Consumer Cyclical  0.024060   \n",
       "4   WYNN 2015-05-12    2.163204       Consumer Cyclical  0.062239   \n",
       "\n",
       "   RealizedVol  Momentum_1M  PnL_Total_position  PnL_Label  \n",
       "0     0.115452    -0.042271         -375.938352          0  \n",
       "1     0.146847    -0.052364          176.586222          1  \n",
       "2     0.223828    -0.036429          536.109661          1  \n",
       "3     0.214322     0.135267          344.592183          1  \n",
       "4     0.398320    -0.116478          -66.682423          0  "
      ]
     },
     "execution_count": 71,
     "metadata": {},
     "output_type": "execute_result"
    }
   ],
   "source": [
    "feature_rows = []\n",
    "\n",
    "for _, row in portfolio_results.iterrows():\n",
    "    ticker = row[\"Ticker\"]\n",
    "    entry_date = pd.to_datetime(row[\"EntryDate\"])\n",
    "    expiry_date = pd.to_datetime(row[\"ExpiryDate\"])\n",
    "\n",
    "    price_path = os.path.join(DATA_DIR, f\"{ticker}.csv\")\n",
    "    if not os.path.exists(price_path):\n",
    "        continue\n",
    "\n",
    "    try:\n",
    "        df = pd.read_csv(price_path, parse_dates=[\"Date\"], index_col=\"Date\").sort_index()\n",
    "\n",
    "        # Realized Vol: forward 21-day volatility\n",
    "        fwd_prices = df.loc[entry_date:expiry_date][\"Close\"]\n",
    "        fwd_log_returns = np.log(fwd_prices / fwd_prices.shift(1))\n",
    "        realized_vol = fwd_log_returns.std() * np.sqrt(252)\n",
    "\n",
    "        # Momentum_1M: trailing 21-day return\n",
    "        trailing_window = df.loc[:entry_date].iloc[-option_days:][\"Close\"]\n",
    "        if len(trailing_window) >= 2:\n",
    "            momentum = (trailing_window.iloc[-1] / trailing_window.iloc[0]) - 1\n",
    "        else:\n",
    "            momentum = np.nan\n",
    "\n",
    "    except Exception as e:\n",
    "        print(f\"⚠️ Error for {ticker}: {e}\")\n",
    "        realized_vol = np.nan\n",
    "        momentum = np.nan\n",
    "\n",
    "    feature_rows.append({\n",
    "        \"Ticker\": ticker,\n",
    "        \"EntryDate\": entry_date,\n",
    "        \"Vol_ZScore\": row.get(\"Vol_ZScore\"),\n",
    "        \"Sector\": row.get(\"Sector\"),\n",
    "        \"IV_Proxy\": row.get(\"Premium\") / row.get(\"EntryPrice\") if row.get(\"EntryPrice\") else np.nan,\n",
    "        \"RealizedVol\": realized_vol,\n",
    "        \"Momentum_1M\": momentum,\n",
    "        \"PnL_Total_position\": row.get(\"PnL_Total_position\"),\n",
    "        \"PnL_Label\": int(row.get(\"PnL_Total_position\", 0) > 0)\n",
    "    })\n",
    "\n",
    "features_df = pd.DataFrame(feature_rows)\n",
    "features_df.head()\n"
   ]
  },
  {
   "cell_type": "code",
   "execution_count": null,
   "metadata": {},
   "outputs": [
    {
     "name": "stdout",
     "output_type": "stream",
     "text": [
      "📊 Classification Report:\n",
      "               precision    recall  f1-score   support\n",
      "\n",
      "           0       0.65      0.22      0.33        49\n",
      "           1       0.68      0.93      0.78        85\n",
      "\n",
      "    accuracy                           0.67       134\n",
      "   macro avg       0.66      0.58      0.56       134\n",
      "weighted avg       0.66      0.67      0.62       134\n",
      "\n"
     ]
    },
    {
     "name": "stderr",
     "output_type": "stream",
     "text": [
      "C:\\Users\\glade\\AppData\\Local\\Temp\\ipykernel_45020\\2330915773.py:32: UserWarning: Glyph 129504 (\\N{BRAIN}) missing from font(s) Arial.\n",
      "  plt.tight_layout()\n",
      "C:\\Users\\glade\\AppData\\Roaming\\Python\\Python312\\site-packages\\IPython\\core\\pylabtools.py:170: UserWarning: Glyph 129504 (\\N{BRAIN}) missing from font(s) Arial.\n",
      "  fig.canvas.print_figure(bytes_io, **kw)\n"
     ]
    },
    {
     "data": {
      "image/png": "[encoded data removed]",
      "text/plain": [
       "<Figure size 640x480 with 2 Axes>"
      ]
     },
     "metadata": {},
     "output_type": "display_data"
    },
    {
     "name": "stderr",
     "output_type": "stream",
     "text": [
      "C:\\Users\\glade\\AppData\\Local\\Temp\\ipykernel_45020\\2330915773.py:38: UserWarning: Glyph 128200 (\\N{CHART WITH UPWARDS TREND}) missing from font(s) Arial.\n",
      "  plt.tight_layout()\n",
      "C:\\Users\\glade\\AppData\\Roaming\\Python\\Python312\\site-packages\\IPython\\core\\pylabtools.py:170: UserWarning: Glyph 128200 (\\N{CHART WITH UPWARDS TREND}) missing from font(s) Arial.\n",
      "  fig.canvas.print_figure(bytes_io, **kw)\n"
     ]
    },
    {
     "data": {
      "image/png": "[encoded data removed]",
      "text/plain": [
       "<Figure size 640x480 with 1 Axes>"
      ]
     },
     "metadata": {},
     "output_type": "display_data"
    },
    {
     "name": "stderr",
     "output_type": "stream",
     "text": [
      "C:\\Users\\glade\\AppData\\Local\\Temp\\ipykernel_45020\\2330915773.py:46: UserWarning: Glyph 129504 (\\N{BRAIN}) missing from font(s) Arial.\n",
      "  plt.tight_layout()\n",
      "C:\\Users\\glade\\AppData\\Roaming\\Python\\Python312\\site-packages\\IPython\\core\\pylabtools.py:170: UserWarning: Glyph 129504 (\\N{BRAIN}) missing from font(s) Arial.\n",
      "  fig.canvas.print_figure(bytes_io, **kw)\n"
     ]
    },
    {
     "data": {
      "image/png": "[encoded data removed]",
      "text/plain": [
       "<Figure size 640x480 with 1 Axes>"
      ]
     },
     "metadata": {},
     "output_type": "display_data"
    }
   ],
   "source": [
    "from sklearn.ensemble import RandomForestClassifier\n",
    "from sklearn.model_selection import train_test_split\n",
    "from sklearn.metrics import classification_report, confusion_matrix, roc_auc_score, RocCurveDisplay\n",
    "\n",
    "# Drop missing\n",
    "ml_df = features_df.dropna(subset=[\"Vol_ZScore\", \"RealizedVol\", \"IV_Proxy\", \"Momentum_1M\", \"PnL_Label\"])\n",
    "\n",
    "# Define features and target\n",
    "X = ml_df[[\"Vol_ZScore\", \"RealizedVol\", \"IV_Proxy\", \"Momentum_1M\"]]\n",
    "y = ml_df[\"PnL_Label\"]\n",
    "\n",
    "# Train/test split\n",
    "X_train, X_test, y_train, y_test = train_test_split(X, y, test_size=0.25, random_state=42)\n",
    "\n",
    "# Train random forest\n",
    "rf = RandomForestClassifier(n_estimators=100, max_depth=5, random_state=42)\n",
    "rf.fit(X_train, y_train)\n",
    "\n",
    "# Predict\n",
    "y_pred = rf.predict(X_test)\n",
    "y_proba = rf.predict_proba(X_test)[:, 1]\n",
    "\n",
    "# Evaluation\n",
    "print(\"📊 Classification Report:\\n\", classification_report(y_test, y_pred))\n",
    "\n",
    "# Confusion matrix\n",
    "cm = confusion_matrix(y_test, y_pred)\n",
    "sns.heatmap(cm, annot=True, fmt=\"d\", cmap=\"Purples\", xticklabels=[\"Not Profitable\", \"Profitable\"], yticklabels=[\"Not Profitable\", \"Profitable\"])\n",
    "plt.title(\"🧠 Confusion Matrix — Random Forest\")\n",
    "plt.xlabel(\"Predicted\")\n",
    "plt.ylabel(\"Actual\")\n",
    "plt.tight_layout()\n",
    "plt.show()\n",
    "\n",
    "# ROC curve\n",
    "RocCurveDisplay.from_estimator(rf, X_test, y_test)\n",
    "plt.title(\"📈 ROC Curve — Random Forest\")\n",
    "plt.tight_layout()\n",
    "plt.show()\n",
    "\n",
    "# Feature importances\n",
    "importances = pd.Series(rf.feature_importances_, index=X.columns)\n",
    "importances.sort_values().plot(kind=\"barh\", color=\"darkgreen\")\n",
    "plt.title(\"🧠 Feature Importances\")\n",
    "plt.xlabel(\"Importance\")\n",
    "plt.tight_layout()\n",
    "plt.show()\n"
   ]
  },
  {
   "cell_type": "code",
   "execution_count": 73,
   "metadata": {},
   "outputs": [
    {
     "name": "stdout",
     "output_type": "stream",
     "text": [
      "📊 Classification Report:\n",
      "               precision    recall  f1-score   support\n",
      "\n",
      "           0       0.45      0.20      0.28        49\n",
      "           1       0.65      0.86      0.74        85\n",
      "\n",
      "    accuracy                           0.62       134\n",
      "   macro avg       0.55      0.53      0.51       134\n",
      "weighted avg       0.58      0.62      0.57       134\n",
      "\n"
     ]
    },
    {
     "name": "stderr",
     "output_type": "stream",
     "text": [
      "C:\\Users\\glade\\AppData\\Local\\Temp\\ipykernel_45020\\2988861451.py:22: UserWarning: Glyph 129504 (\\N{BRAIN}) missing from font(s) Arial.\n",
      "  plt.tight_layout()\n",
      "C:\\Users\\glade\\AppData\\Roaming\\Python\\Python312\\site-packages\\IPython\\core\\pylabtools.py:170: UserWarning: Glyph 129504 (\\N{BRAIN}) missing from font(s) Arial.\n",
      "  fig.canvas.print_figure(bytes_io, **kw)\n"
     ]
    },
    {
     "data": {
      "image/png": "[encoded data removed]",
      "text/plain": [
       "<Figure size 640x480 with 2 Axes>"
      ]
     },
     "metadata": {},
     "output_type": "display_data"
    },
    {
     "name": "stderr",
     "output_type": "stream",
     "text": [
      "C:\\Users\\glade\\AppData\\Local\\Temp\\ipykernel_45020\\2988861451.py:28: UserWarning: Glyph 128200 (\\N{CHART WITH UPWARDS TREND}) missing from font(s) Arial.\n",
      "  plt.tight_layout()\n",
      "C:\\Users\\glade\\AppData\\Roaming\\Python\\Python312\\site-packages\\IPython\\core\\pylabtools.py:170: UserWarning: Glyph 128200 (\\N{CHART WITH UPWARDS TREND}) missing from font(s) Arial.\n",
      "  fig.canvas.print_figure(bytes_io, **kw)\n"
     ]
    },
    {
     "data": {
      "image/png": "[encoded data removed]",
      "text/plain": [
       "<Figure size 640x480 with 1 Axes>"
      ]
     },
     "metadata": {},
     "output_type": "display_data"
    },
    {
     "name": "stderr",
     "output_type": "stream",
     "text": [
      "C:\\Users\\glade\\AppData\\Local\\Temp\\ipykernel_45020\\2988861451.py:36: UserWarning: Glyph 129504 (\\N{BRAIN}) missing from font(s) Arial.\n",
      "  plt.tight_layout()\n",
      "C:\\Users\\glade\\AppData\\Roaming\\Python\\Python312\\site-packages\\IPython\\core\\pylabtools.py:170: UserWarning: Glyph 129504 (\\N{BRAIN}) missing from font(s) Arial.\n",
      "  fig.canvas.print_figure(bytes_io, **kw)\n"
     ]
    },
    {
     "data": {
      "image/png": "[encoded data removed]",
      "text/plain": [
       "<Figure size 640x480 with 1 Axes>"
      ]
     },
     "metadata": {},
     "output_type": "display_data"
    }
   ],
   "source": [
    "# Re-train with class_weight and more estimators\n",
    "rf = RandomForestClassifier(\n",
    "    n_estimators=200,\n",
    "    max_depth=None,\n",
    "    class_weight=\"balanced\",\n",
    "    random_state=42\n",
    ")\n",
    "rf.fit(X_train, y_train)\n",
    "\n",
    "# Evaluate\n",
    "y_pred = rf.predict(X_test)\n",
    "y_proba = rf.predict_proba(X_test)[:, 1]\n",
    "\n",
    "print(\"📊 Classification Report:\\n\", classification_report(y_test, y_pred))\n",
    "\n",
    "# Confusion matrix\n",
    "cm = confusion_matrix(y_test, y_pred)\n",
    "sns.heatmap(cm, annot=True, fmt=\"d\", cmap=\"Purples\", xticklabels=[\"Not Profitable\", \"Profitable\"], yticklabels=[\"Not Profitable\", \"Profitable\"])\n",
    "plt.title(\"🧠 Confusion Matrix — Tuned Random Forest\")\n",
    "plt.xlabel(\"Predicted\")\n",
    "plt.ylabel(\"Actual\")\n",
    "plt.tight_layout()\n",
    "plt.show()\n",
    "\n",
    "# ROC curve\n",
    "RocCurveDisplay.from_estimator(rf, X_test, y_test)\n",
    "plt.title(\"📈 ROC Curve — Tuned Random Forest\")\n",
    "plt.tight_layout()\n",
    "plt.show()\n",
    "\n",
    "# Feature importances\n",
    "importances = pd.Series(rf.feature_importances_, index=X.columns)\n",
    "importances.sort_values().plot(kind=\"barh\", color=\"darkgreen\")\n",
    "plt.title(\"🧠 Feature Importances\")\n",
    "plt.xlabel(\"Importance\")\n",
    "plt.tight_layout()\n",
    "plt.show()"
   ]
  },
  {
   "cell_type": "code",
   "execution_count": 74,
   "metadata": {},
   "outputs": [
    {
     "name": "stdout",
     "output_type": "stream",
     "text": [
      "📊 T-Test: t-stat = 5.776, p-value = 0.0000\n",
      "📐 Mean Return — Model: $371.34\n",
      "🎲 Mean Return — Random: $124.08\n",
      "📐 Sharpe Ratio — Model: 0.80\n",
      "🎲 Sharpe Ratio — Random: 0.17\n"
     ]
    }
   ],
   "source": [
    "from scipy.stats import ttest_ind\n",
    "\n",
    "# Predict using trained RF model\n",
    "features_df[\"ModelPick\"] = rf.predict(X)\n",
    "\n",
    "# Extract returns\n",
    "model_returns = features_df[features_df[\"ModelPick\"] == 1][\"PnL_Total_position\"]\n",
    "random_returns = features_df[\"PnL_Total_position\"].sample(len(model_returns), random_state=1)\n",
    "\n",
    "# T-test\n",
    "tstat, pval = ttest_ind(model_returns, random_returns, equal_var=False)\n",
    "print(f\"📊 T-Test: t-stat = {tstat:.3f}, p-value = {pval:.4f}\")\n",
    "\n",
    "# Mean returns\n",
    "model_avg = model_returns.mean()\n",
    "random_avg = random_returns.mean()\n",
    "print(f\"📐 Mean Return — Model: ${model_avg:.2f}\")\n",
    "print(f\"🎲 Mean Return — Random: ${random_avg:.2f}\")\n",
    "\n",
    "# Sharpe ratios\n",
    "model_sharpe = model_returns.mean() / model_returns.std()\n",
    "random_sharpe = random_returns.mean() / random_returns.std()\n",
    "print(f\"📐 Sharpe Ratio — Model: {model_sharpe:.2f}\")\n",
    "print(f\"🎲 Sharpe Ratio — Random: {random_sharpe:.2f}\")"
   ]
  },
  {
   "cell_type": "code",
   "execution_count": 75,
   "metadata": {},
   "outputs": [
    {
     "data": {
      "application/vnd.microsoft.datawrangler.viewer.v0+json": {
       "columns": [
        {
         "name": "index",
         "rawType": "int64",
         "type": "integer"
        },
        {
         "name": "Ticker",
         "rawType": "object",
         "type": "string"
        },
        {
         "name": "EntryDate",
         "rawType": "datetime64[ns]",
         "type": "datetime"
        },
        {
         "name": "Vol_ZScore",
         "rawType": "float64",
         "type": "float"
        },
        {
         "name": "Sector",
         "rawType": "object",
         "type": "string"
        },
        {
         "name": "IV_Proxy",
         "rawType": "float64",
         "type": "float"
        },
        {
         "name": "RealizedVol",
         "rawType": "float64",
         "type": "float"
        },
        {
         "name": "Momentum_1M",
         "rawType": "float64",
         "type": "float"
        },
        {
         "name": "PnL_Total_position",
         "rawType": "float64",
         "type": "float"
        },
        {
         "name": "PnL_Label",
         "rawType": "int64",
         "type": "integer"
        },
        {
         "name": "ModelPick",
         "rawType": "int64",
         "type": "integer"
        }
       ],
       "conversionMethod": "pd.DataFrame",
       "ref": "476bf0b7-5b42-4765-bd82-62481218f067",
       "rows": [
        [
         "0",
         "NWS",
         "2015-05-12 00:00:00",
         "2.333186936029334",
         "Communication Services",
         "0.02301220818203175",
         "0.11545199840012135",
         "-0.0422712322610822",
         "-375.9383519341251",
         "0",
         "1"
        ],
        [
         "1",
         "IP",
         "2015-05-12 00:00:00",
         "2.2112499712609237",
         "Consumer Cyclical",
         "0.021107365365530584",
         "0.14684706077337922",
         "-0.05236396758719897",
         "176.5862218248382",
         "1",
         "1"
        ],
        [
         "2",
         "CNC",
         "2015-05-12 00:00:00",
         "2.2095310827767194",
         "Healthcare",
         "0.033610966136934636",
         "0.22382804159698952",
         "-0.03642861502511163",
         "536.1096613693475",
         "1",
         "1"
        ],
        [
         "3",
         "YUM",
         "2015-05-12 00:00:00",
         "2.170411287075036",
         "Consumer Cyclical",
         "0.02405989515886655",
         "0.2143219600131728",
         "0.13526726124316735",
         "344.5921830913414",
         "1",
         "1"
        ],
        [
         "4",
         "WYNN",
         "2015-05-12 00:00:00",
         "2.16320411943859",
         "Consumer Cyclical",
         "0.062238766718754154",
         "0.3983201807075817",
         "-0.11647841045165785",
         "-66.68242335350872",
         "0",
         "0"
        ],
        [
         "5",
         "BAX",
         "2015-06-11 00:00:00",
         "3.860836307441454",
         "Healthcare",
         "0.013202990192298421",
         "0.20414995781973777",
         "0.010184534210452734",
         "272.9025780825437",
         "1",
         "1"
        ],
        [
         "6",
         "YUM",
         "2015-06-11 00:00:00",
         "0.7511607405318627",
         "Consumer Cyclical",
         "0.02388027508536037",
         "0.2377127503783943",
         "0.015906440227792418",
         "214.71634209213852",
         "1",
         "0"
        ],
        [
         "7",
         "WYNN",
         "2015-06-11 00:00:00",
         "-0.5780885115735106",
         "Consumer Cyclical",
         "0.037642150896456734",
         "0.4781744549124287",
         "-0.05875450792543402",
         "576.4215089645678",
         "1",
         "1"
        ],
        [
         "8",
         "NWS",
         "2015-06-11 00:00:00",
         "0.9933712309793558",
         "Communication Services",
         "0.021702089648962874",
         "0.254833637705673",
         "-0.05562891780554802",
         "34.69019500357549",
         "1",
         "1"
        ],
        [
         "9",
         "IP",
         "2015-06-11 00:00:00",
         "0.226089493557996",
         "Consumer Cyclical",
         "0.01671694656301544",
         "0.19207169113368325",
         "-0.011791364233788015",
         "-560.2837645438096",
         "0",
         "1"
        ],
        [
         "10",
         "NWS",
         "2015-07-13 00:00:00",
         "0.0436683193537607",
         "Communication Services",
         "0.0176241947118747",
         "0.1922849698576687",
         "-0.012694110907387812",
         "-9.471860779974428",
         "0",
         "1"
        ],
        [
         "11",
         "IP",
         "2015-07-13 00:00:00",
         "-0.7764438084471745",
         "Consumer Cyclical",
         "0.012593864942087253",
         "0.24414672006150653",
         "-0.06549402432939633",
         "15.063071815262868",
         "1",
         "1"
        ],
        [
         "12",
         "YUM",
         "2015-07-13 00:00:00",
         "-0.5107613640678522",
         "Consumer Cyclical",
         "0.016407910386821843",
         "0.2355088539219711",
         "0.0",
         "-625.7353107200091",
         "0",
         "0"
        ],
        [
         "13",
         "BAX",
         "2015-07-13 00:00:00",
         "2.170952566672788",
         "Healthcare",
         "0.017511388329160056",
         "0.22959800783568898",
         "0.014087267615956023",
         "375.1138832916005",
         "1",
         "1"
        ],
        [
         "14",
         "LVS",
         "2015-07-13 00:00:00",
         "2.6572833386956813",
         "Consumer Cyclical",
         "0.03881444324020442",
         "0.27776589183703504",
         "0.10908667905646663",
         "-113.3402593742458",
         "0",
         "0"
        ],
        [
         "15",
         "MOS",
         "2015-08-11 00:00:00",
         "3.411898620871209",
         "Basic Materials",
         "0.015704510556348555",
         "0.3588610051505055",
         "-0.04111057887025238",
         "-785.3675920769095",
         "0",
         "0"
        ],
        [
         "16",
         "LVS",
         "2015-08-11 00:00:00",
         "0.6532289340477005",
         "Consumer Cyclical",
         "0.03395077584559747",
         "0.3570196398913334",
         "-0.02001075100533023",
         "-1099.0477122137147",
         "0",
         "0"
        ],
        [
         "17",
         "NWS",
         "2015-08-11 00:00:00",
         "-0.8895786893410091",
         "Communication Services",
         "0.01508506668784205",
         "0.4762209828058864",
         "-0.019971667485746303",
         "-278.5526480378389",
         "0",
         "0"
        ],
        [
         "18",
         "IP",
         "2015-08-11 00:00:00",
         "0.851753345214468",
         "Consumer Cyclical",
         "0.019172157157725588",
         "0.36811069422224246",
         "-0.010052247267949399",
         "-885.7295929722313",
         "0",
         "0"
        ],
        [
         "19",
         "YUM",
         "2015-08-11 00:00:00",
         "0.3773831326935709",
         "Consumer Cyclical",
         "0.02058703680730292",
         "0.41818452231931913",
         "-0.08779208844267117",
         "-229.8473832536363",
         "0",
         "0"
        ],
        [
         "20",
         "NWS",
         "2015-09-10 00:00:00",
         "2.0727238365558844",
         "Communication Services",
         "0.0398491343641219",
         "0.24901393030460708",
         "-0.0505415958345663",
         "598.4913436412195",
         "1",
         "1"
        ],
        [
         "21",
         "IP",
         "2015-09-10 00:00:00",
         "1.5394092881913508",
         "Consumer Cyclical",
         "0.028524050973767798",
         "0.27348720341635446",
         "-0.11304329088977105",
         "485.2405097376782",
         "1",
         "1"
        ],
        [
         "22",
         "YUM",
         "2015-09-10 00:00:00",
         "1.929233715505542",
         "Consumer Cyclical",
         "0.035374881560812664",
         "0.8014998856696899",
         "-0.009667763005519858",
         "-854.0124871817577",
         "0",
         "0"
        ],
        [
         "23",
         "LVS",
         "2015-09-10 00:00:00",
         "0.0697274974439281",
         "Consumer Cyclical",
         "0.03205964926959584",
         "0.5935565887656127",
         "-0.1297679421666469",
         "520.5964926959593",
         "1",
         "1"
        ],
        [
         "24",
         "MOS",
         "2015-09-10 00:00:00",
         "2.0969458837753594",
         "Basic Materials",
         "0.0304333821159997",
         "0.46914852356035064",
         "-0.0880015499513529",
         "-1094.9060760404293",
         "0",
         "0"
        ],
        [
         "25",
         "YUM",
         "2015-10-09 00:00:00",
         "3.4083989698202606",
         "Consumer Cyclical",
         "0.06464498397905286",
         "0.25391774311625265",
         "-0.13729575994171528",
         "533.5072891576383",
         "1",
         "1"
        ],
        [
         "26",
         "MOS",
         "2015-10-09 00:00:00",
         "1.3100497697634348",
         "Basic Materials",
         "0.03942825233889142",
         "0.49443938153116446",
         "-0.13311174773197498",
         "14.08609032624679",
         "1",
         "1"
        ],
        [
         "27",
         "SMCI",
         "2015-10-09 00:00:00",
         "3.2419734339997754",
         "Technology",
         "0.07418053440070355",
         "0.5265958284226488",
         "-0.008843010149656605",
         "941.8053440070358",
         "1",
         "1"
        ],
        [
         "28",
         "WYNN",
         "2015-10-09 00:00:00",
         "2.8822689331006126",
         "Consumer Cyclical",
         "0.09307270758173222",
         "0.5913720570014965",
         "0.11340807842783995",
         "30.683991237200324",
         "1",
         "1"
        ],
        [
         "29",
         "LVS",
         "2015-10-09 00:00:00",
         "2.578425735862923",
         "Consumer Cyclical",
         "0.053398549279105104",
         "0.41941748107658483",
         "0.015992701531801767",
         "455.22545540310864",
         "1",
         "1"
        ],
        [
         "30",
         "EQT",
         "2015-11-09 00:00:00",
         "1.6578371685445534",
         "Energy",
         "0.040865871917166174",
         "0.302953962392614",
         "-0.10325339876768569",
         "-1829.2304902021415",
         "0",
         "1"
        ],
        [
         "31",
         "WYNN",
         "2015-11-09 00:00:00",
         "1.0103879666259326",
         "Consumer Cyclical",
         "0.0924044134274062",
         "0.6444226755476942",
         "-0.03632453238877942",
         "1124.0441342740628",
         "1",
         "1"
        ],
        [
         "32",
         "LVS",
         "2015-11-09 00:00:00",
         "1.1955206877046856",
         "Consumer Cyclical",
         "0.055772617449477445",
         "0.22531381001174272",
         "0.01040547978161177",
         "-66.60303432144379",
         "0",
         "0"
        ],
        [
         "33",
         "YUM",
         "2015-11-09 00:00:00",
         "1.175623865697986",
         "Consumer Cyclical",
         "0.0641942915283495",
         "0.2767907917015958",
         "-0.01952905205460198",
         "841.9429152834947",
         "1",
         "1"
        ],
        [
         "34",
         "MOS",
         "2015-11-09 00:00:00",
         "0.9976207373370124",
         "Basic Materials",
         "0.04438719256948513",
         "0.393189113704172",
         "-0.013300921492546136",
         "-24.758810227343744",
         "0",
         "0"
        ],
        [
         "35",
         "MOS",
         "2015-12-09 00:00:00",
         "1.0752363991008138",
         "Basic Materials",
         "0.044696468066527634",
         "0.49870503221674295",
         "-0.0204538012799228",
         "-1835.783271888075",
         "0",
         "0"
        ],
        [
         "36",
         "LVS",
         "2015-12-09 00:00:00",
         "-1.5554824709313428",
         "Consumer Cyclical",
         "0.02549436673339608",
         "0.48286595105606156",
         "-0.06882587434024223",
         "-681.9925649290701",
         "0",
         "0"
        ],
        [
         "37",
         "EQT",
         "2015-12-09 00:00:00",
         "-1.360992796791215",
         "Energy",
         "0.027345236825352403",
         "0.5048903272640638",
         "-0.22413773131718062",
         "428.04200328006146",
         "1",
         "1"
        ],
        [
         "38",
         "NRG",
         "2015-12-09 00:00:00",
         "3.5378456385835286",
         "Utilities",
         "0.08721459521219524",
         "0.8128894353170626",
         "-0.22312223015448263",
         "568.827911737981",
         "1",
         "1"
        ],
        [
         "39",
         "CBOE",
         "2015-12-09 00:00:00",
         "3.30434378685382",
         "Financial Services",
         "0.020605276522545103",
         "0.1898292815022615",
         "-0.0766434889626908",
         "48.87677486361892",
         "1",
         "1"
        ],
        [
         "40",
         "MOS",
         "2016-01-11 00:00:00",
         "2.2179448745185697",
         "Basic Materials",
         "0.04923462002790743",
         "0.6249154859227469",
         "-0.2085135361692868",
         "332.6831340146787",
         "1",
         "1"
        ],
        [
         "41",
         "LVS",
         "2016-01-11 00:00:00",
         "0.2367471267639396",
         "Consumer Cyclical",
         "0.04058665305167549",
         "0.47371479451828935",
         "-0.0746357899645862",
         "605.866530516755",
         "1",
         "1"
        ],
        [
         "42",
         "EQT",
         "2016-01-11 00:00:00",
         "1.6254941314207574",
         "Energy",
         "0.04482981076620966",
         "0.5185923062464176",
         "0.004203972952023127",
         "648.2981076620969",
         "1",
         "1"
        ],
        [
         "43",
         "NRG",
         "2016-01-11 00:00:00",
         "1.5960152810866786",
         "Utilities",
         "0.1066859350804675",
         "0.6791431323600938",
         "-0.022922647064052004",
         "1266.8593508046756",
         "1",
         "1"
        ],
        [
         "44",
         "CBOE",
         "2016-01-11 00:00:00",
         "1.2560151581723096",
         "Financial Services",
         "0.020225527036463388",
         "0.3089398559356446",
         "-0.019531813276861154",
         "-14.345569817748716",
         "0",
         "0"
        ],
        [
         "45",
         "HSIC",
         "2016-02-10 00:00:00",
         "3.55648370421542",
         "Healthcare",
         "0.02595380470638194",
         "0.16106781274134524",
         "0.07033115934664824",
         "459.53804706381936",
         "1",
         "1"
        ],
        [
         "46",
         "WAB",
         "2016-02-10 00:00:00",
         "5.303316540395114",
         "Industrials",
         "0.03620757695369441",
         "0.30152513559683053",
         "0.0356325576431189",
         "562.075769536944",
         "1",
         "0"
        ],
        [
         "47",
         "DOC",
         "2016-02-10 00:00:00",
         "4.638290659599468",
         "Real Estate",
         "0.05961695054188865",
         "0.3055896560610331",
         "-0.24982861013483715",
         "796.1695054188863",
         "1",
         "1"
        ],
        [
         "48",
         "MOS",
         "2016-02-10 00:00:00",
         "1.9187958648337071",
         "Basic Materials",
         "0.05939609468192191",
         "0.6156735102858792",
         "-0.04641680082961519",
         "793.9609468192187",
         "1",
         "1"
        ],
        [
         "49",
         "CBOE",
         "2016-02-10 00:00:00",
         "1.5555510981868177",
         "Financial Services",
         "0.023140534081826186",
         "0.1834753136597939",
         "-0.027961236347083807",
         "431.4053408182622",
         "1",
         "1"
        ]
       ],
       "shape": {
        "columns": 10,
        "rows": 535
       }
      },
      "text/html": [
       "<div>\n",
       "<style scoped>\n",
       "    .dataframe tbody tr th:only-of-type {\n",
       "        vertical-align: middle;\n",
       "    }\n",
       "\n",
       "    .dataframe tbody tr th {\n",
       "        vertical-align: top;\n",
       "    }\n",
       "\n",
       "    .dataframe thead th {\n",
       "        text-align: right;\n",
       "    }\n",
       "</style>\n",
       "<table border=\"1\" class=\"dataframe\">\n",
       "  <thead>\n",
       "    <tr style=\"text-align: right;\">\n",
       "      <th></th>\n",
       "      <th>Ticker</th>\n",
       "      <th>EntryDate</th>\n",
       "      <th>Vol_ZScore</th>\n",
       "      <th>Sector</th>\n",
       "      <th>IV_Proxy</th>\n",
       "      <th>RealizedVol</th>\n",
       "      <th>Momentum_1M</th>\n",
       "      <th>PnL_Total_position</th>\n",
       "      <th>PnL_Label</th>\n",
       "      <th>ModelPick</th>\n",
       "    </tr>\n",
       "  </thead>\n",
       "  <tbody>\n",
       "    <tr>\n",
       "      <th>0</th>\n",
       "      <td>NWS</td>\n",
       "      <td>2015-05-12</td>\n",
       "      <td>2.333187</td>\n",
       "      <td>Communication Services</td>\n",
       "      <td>0.023012</td>\n",
       "      <td>0.115452</td>\n",
       "      <td>-0.042271</td>\n",
       "      <td>-375.938352</td>\n",
       "      <td>0</td>\n",
       "      <td>1</td>\n",
       "    </tr>\n",
       "    <tr>\n",
       "      <th>1</th>\n",
       "      <td>IP</td>\n",
       "      <td>2015-05-12</td>\n",
       "      <td>2.211250</td>\n",
       "      <td>Consumer Cyclical</td>\n",
       "      <td>0.021107</td>\n",
       "      <td>0.146847</td>\n",
       "      <td>-0.052364</td>\n",
       "      <td>176.586222</td>\n",
       "      <td>1</td>\n",
       "      <td>1</td>\n",
       "    </tr>\n",
       "    <tr>\n",
       "      <th>2</th>\n",
       "      <td>CNC</td>\n",
       "      <td>2015-05-12</td>\n",
       "      <td>2.209531</td>\n",
       "      <td>Healthcare</td>\n",
       "      <td>0.033611</td>\n",
       "      <td>0.223828</td>\n",
       "      <td>-0.036429</td>\n",
       "      <td>536.109661</td>\n",
       "      <td>1</td>\n",
       "      <td>1</td>\n",
       "    </tr>\n",
       "    <tr>\n",
       "      <th>3</th>\n",
       "      <td>YUM</td>\n",
       "      <td>2015-05-12</td>\n",
       "      <td>2.170411</td>\n",
       "      <td>Consumer Cyclical</td>\n",
       "      <td>0.024060</td>\n",
       "      <td>0.214322</td>\n",
       "      <td>0.135267</td>\n",
       "      <td>344.592183</td>\n",
       "      <td>1</td>\n",
       "      <td>1</td>\n",
       "    </tr>\n",
       "    <tr>\n",
       "      <th>4</th>\n",
       "      <td>WYNN</td>\n",
       "      <td>2015-05-12</td>\n",
       "      <td>2.163204</td>\n",
       "      <td>Consumer Cyclical</td>\n",
       "      <td>0.062239</td>\n",
       "      <td>0.398320</td>\n",
       "      <td>-0.116478</td>\n",
       "      <td>-66.682423</td>\n",
       "      <td>0</td>\n",
       "      <td>0</td>\n",
       "    </tr>\n",
       "    <tr>\n",
       "      <th>...</th>\n",
       "      <td>...</td>\n",
       "      <td>...</td>\n",
       "      <td>...</td>\n",
       "      <td>...</td>\n",
       "      <td>...</td>\n",
       "      <td>...</td>\n",
       "      <td>...</td>\n",
       "      <td>...</td>\n",
       "      <td>...</td>\n",
       "      <td>...</td>\n",
       "    </tr>\n",
       "    <tr>\n",
       "      <th>530</th>\n",
       "      <td>AKAM</td>\n",
       "      <td>2024-03-15</td>\n",
       "      <td>1.346614</td>\n",
       "      <td>Technology</td>\n",
       "      <td>0.027031</td>\n",
       "      <td>0.183431</td>\n",
       "      <td>-0.038720</td>\n",
       "      <td>-281.669525</td>\n",
       "      <td>0</td>\n",
       "      <td>1</td>\n",
       "    </tr>\n",
       "    <tr>\n",
       "      <th>531</th>\n",
       "      <td>DLTR</td>\n",
       "      <td>2024-03-15</td>\n",
       "      <td>4.041708</td>\n",
       "      <td>Consumer Defensive</td>\n",
       "      <td>0.046264</td>\n",
       "      <td>0.272425</td>\n",
       "      <td>-0.103623</td>\n",
       "      <td>198.942468</td>\n",
       "      <td>1</td>\n",
       "      <td>1</td>\n",
       "    </tr>\n",
       "    <tr>\n",
       "      <th>532</th>\n",
       "      <td>INCY</td>\n",
       "      <td>2024-03-15</td>\n",
       "      <td>-0.536326</td>\n",
       "      <td>Healthcare</td>\n",
       "      <td>0.022466</td>\n",
       "      <td>0.151184</td>\n",
       "      <td>-0.010175</td>\n",
       "      <td>-657.638030</td>\n",
       "      <td>0</td>\n",
       "      <td>0</td>\n",
       "    </tr>\n",
       "    <tr>\n",
       "      <th>533</th>\n",
       "      <td>BA</td>\n",
       "      <td>2024-03-15</td>\n",
       "      <td>-1.385382</td>\n",
       "      <td>Industrials</td>\n",
       "      <td>0.018012</td>\n",
       "      <td>0.252753</td>\n",
       "      <td>-0.111041</td>\n",
       "      <td>-476.212048</td>\n",
       "      <td>0</td>\n",
       "      <td>0</td>\n",
       "    </tr>\n",
       "    <tr>\n",
       "      <th>534</th>\n",
       "      <td>LUV</td>\n",
       "      <td>2024-03-15</td>\n",
       "      <td>3.027258</td>\n",
       "      <td>Industrials</td>\n",
       "      <td>0.051651</td>\n",
       "      <td>0.285347</td>\n",
       "      <td>-0.166899</td>\n",
       "      <td>410.685021</td>\n",
       "      <td>1</td>\n",
       "      <td>1</td>\n",
       "    </tr>\n",
       "  </tbody>\n",
       "</table>\n",
       "<p>535 rows × 10 columns</p>\n",
       "</div>"
      ],
      "text/plain": [
       "    Ticker  EntryDate  Vol_ZScore                  Sector  IV_Proxy  \\\n",
       "0      NWS 2015-05-12    2.333187  Communication Services  0.023012   \n",
       "1       IP 2015-05-12    2.211250       Consumer Cyclical  0.021107   \n",
       "2      CNC 2015-05-12    2.209531              Healthcare  0.033611   \n",
       "3      YUM 2015-05-12    2.170411       Consumer Cyclical  0.024060   \n",
       "4     WYNN 2015-05-12    2.163204       Consumer Cyclical  0.062239   \n",
       "..     ...        ...         ...                     ...       ...   \n",
       "530   AKAM 2024-03-15    1.346614              Technology  0.027031   \n",
       "531   DLTR 2024-03-15    4.041708      Consumer Defensive  0.046264   \n",
       "532   INCY 2024-03-15   -0.536326              Healthcare  0.022466   \n",
       "533     BA 2024-03-15   -1.385382             Industrials  0.018012   \n",
       "534    LUV 2024-03-15    3.027258             Industrials  0.051651   \n",
       "\n",
       "     RealizedVol  Momentum_1M  PnL_Total_position  PnL_Label  ModelPick  \n",
       "0       0.115452    -0.042271         -375.938352          0          1  \n",
       "1       0.146847    -0.052364          176.586222          1          1  \n",
       "2       0.223828    -0.036429          536.109661          1          1  \n",
       "3       0.214322     0.135267          344.592183          1          1  \n",
       "4       0.398320    -0.116478          -66.682423          0          0  \n",
       "..           ...          ...                 ...        ...        ...  \n",
       "530     0.183431    -0.038720         -281.669525          0          1  \n",
       "531     0.272425    -0.103623          198.942468          1          1  \n",
       "532     0.151184    -0.010175         -657.638030          0          0  \n",
       "533     0.252753    -0.111041         -476.212048          0          0  \n",
       "534     0.285347    -0.166899          410.685021          1          1  \n",
       "\n",
       "[535 rows x 10 columns]"
      ]
     },
     "execution_count": 75,
     "metadata": {},
     "output_type": "execute_result"
    }
   ],
   "source": [
    "features_df"
   ]
  }
 ],
 "metadata": {
  "kernelspec": {
   "display_name": "Python 3",
   "language": "python",
   "name": "python3"
  },
  "language_info": {
   "codemirror_mode": {
    "name": "ipython",
    "version": 3
   },
   "file_extension": ".py",
   "mimetype": "text/x-python",
   "name": "python",
   "nbconvert_exporter": "python",
   "pygments_lexer": "ipython3",
   "version": "3.12.1"
  }
 },
 "nbformat": 4,
 "nbformat_minor": 2
}
