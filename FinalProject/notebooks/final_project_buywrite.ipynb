{
 "cells": [
  {
   "cell_type": "code",
   "execution_count": 129,
   "metadata": {},
   "outputs": [],
   "source": [
    "# Core imports\n",
    "import os, sys, shutil\n",
    "import json\n",
    "import pandas as pd\n",
    "import numpy as np\n",
    "import matplotlib.pyplot as plt\n",
    "import seaborn as sns\n",
    "import yfinance as yf\n",
    "import datetime, time\n",
    "import seaborn as sns\n",
    "from datetime import datetime\n",
    "from collections import defaultdict\n",
    "\n",
    "\n",
    "\n",
    "from scipy.stats import norm\n",
    "\n",
    "# Basic settings\n",
    "%matplotlib inline\n",
    "sns.set(style=\"whitegrid\")\n",
    "\n",
    "# Project Dates\n",
    "START_DATE = '2015-01-01'\n",
    "END_DATE = '2025-04-30'\n",
    "\n",
    "# Risk-free rate assumption\n",
    "RISK_FREE_RATE = 0.02  # 2% annualized"
   ]
  },
  {
   "cell_type": "code",
   "execution_count": 16,
   "metadata": {},
   "outputs": [
    {
     "name": "stdout",
     "output_type": "stream",
     "text": [
      "['MMM', 'AOS', 'ABT', 'ABBV', 'ACN', 'ADBE', 'AMD', 'AES', 'AFL', 'A']\n",
      "Saved 503 tickers to ../data/sp500_tickers.csv\n"
     ]
    }
   ],
   "source": [
    "# Pull table from Wikipedia\n",
    "url = \"https://en.wikipedia.org/wiki/List_of_S%26P_500_companies\"\n",
    "tables = pd.read_html(url)\n",
    "\n",
    "# The first table contains the S&P 500 constituents\n",
    "sp500_table = tables[0]\n",
    "\n",
    "# Extract the 'Symbol' column\n",
    "sp500_tickers = sp500_table['Symbol'].tolist()\n",
    "\n",
    "# Some symbols have dots instead of dashes (e.g., BRK.B should be BRK-B for Yahoo)\n",
    "sp500_tickers = [ticker.replace('.', '-') for ticker in sp500_tickers]\n",
    "\n",
    "# Print first 10 tickers to check\n",
    "print(sp500_tickers[:10])\n",
    "\n",
    "# Save to CSV (optional but recommended)\n",
    "ticker_list_path = \"../data/sp500_tickers.csv\"\n",
    "pd.DataFrame(sp500_tickers, columns=[\"Ticker\"]).to_csv(ticker_list_path, index=False)\n",
    "\n",
    "print(f\"Saved {len(sp500_tickers)} tickers to {ticker_list_path}\")"
   ]
  },
  {
   "cell_type": "code",
   "execution_count": 15,
   "metadata": {},
   "outputs": [
    {
     "name": "stdout",
     "output_type": "stream",
     "text": [
      "Length of S&P500 Ticker list: 503\n"
     ]
    },
    {
     "data": {
      "text/plain": [
       "['SJM', 'DGX', 'IP', 'BIIB', 'EXPE']"
      ]
     },
     "execution_count": 15,
     "metadata": {},
     "output_type": "execute_result"
    }
   ],
   "source": [
    "print(f\"Length of S&P500 Ticker list: {len(sp500_tickers)}\")\n",
    "import random\n",
    "random.sample(sp500_tickers, 5)"
   ]
  },
  {
   "cell_type": "code",
   "execution_count": 23,
   "metadata": {},
   "outputs": [
    {
     "data": {
      "text/plain": [
       "'../data/stock_prices'"
      ]
     },
     "execution_count": 23,
     "metadata": {},
     "output_type": "execute_result"
    }
   ],
   "source": [
    "DATA_DIR"
   ]
  },
  {
   "cell_type": "markdown",
   "metadata": {},
   "source": [
    "## Batch Stock Downloader"
   ]
  },
  {
   "cell_type": "code",
   "execution_count": 128,
   "metadata": {},
   "outputs": [
    {
     "name": "stdout",
     "output_type": "stream",
     "text": [
      "🧹 Cleared old data from ../data/stock_prices\n",
      "\n",
      "📦 Pulling batch 1: ['MMM', 'AOS', 'ABT', 'ABBV', 'ACN', 'ADBE', 'AMD', 'AES', 'AFL', 'A', 'APD', 'ABNB', 'AKAM', 'ALB', 'ARE', 'ALGN', 'ALLE', 'LNT', 'ALL', 'GOOGL']\n"
     ]
    },
    {
     "name": "stderr",
     "output_type": "stream",
     "text": [
      "[*********************100%***********************]  20 of 20 completed\n"
     ]
    },
    {
     "name": "stdout",
     "output_type": "stream",
     "text": [
      "✅ Saved MMM\n",
      "✅ Saved AOS\n",
      "✅ Saved ABT\n",
      "✅ Saved ABBV\n",
      "✅ Saved ACN\n",
      "✅ Saved ADBE\n",
      "✅ Saved AMD\n",
      "✅ Saved AES\n",
      "✅ Saved AFL\n",
      "✅ Saved A\n",
      "✅ Saved APD\n",
      "✅ Saved ABNB\n",
      "✅ Saved AKAM\n",
      "✅ Saved ALB\n",
      "✅ Saved ARE\n",
      "✅ Saved ALGN\n",
      "✅ Saved ALLE\n",
      "✅ Saved LNT\n",
      "✅ Saved ALL\n",
      "✅ Saved GOOGL\n",
      "\n",
      "📦 Pulling batch 2: ['GOOG', 'MO', 'AMZN', 'AMCR', 'AEE', 'AEP', 'AXP', 'AIG', 'AMT', 'AWK', 'AMP', 'AME', 'AMGN', 'APH', 'ADI', 'ANSS', 'AON', 'APA', 'APO', 'AAPL']\n"
     ]
    },
    {
     "name": "stderr",
     "output_type": "stream",
     "text": [
      "[*********************100%***********************]  20 of 20 completed\n"
     ]
    },
    {
     "name": "stdout",
     "output_type": "stream",
     "text": [
      "✅ Saved GOOG\n",
      "✅ Saved MO\n",
      "✅ Saved AMZN\n",
      "✅ Saved AMCR\n",
      "✅ Saved AEE\n",
      "✅ Saved AEP\n",
      "✅ Saved AXP\n",
      "✅ Saved AIG\n",
      "✅ Saved AMT\n",
      "✅ Saved AWK\n",
      "✅ Saved AMP\n",
      "✅ Saved AME\n",
      "✅ Saved AMGN\n",
      "✅ Saved APH\n",
      "✅ Saved ADI\n",
      "✅ Saved ANSS\n",
      "✅ Saved AON\n",
      "✅ Saved APA\n",
      "✅ Saved APO\n",
      "✅ Saved AAPL\n",
      "\n",
      "📦 Pulling batch 3: ['AMAT', 'APTV', 'ACGL', 'ADM', 'ANET', 'AJG', 'AIZ', 'T', 'ATO', 'ADSK', 'ADP', 'AZO', 'AVB', 'AVY', 'AXON', 'BKR', 'BALL', 'BAC', 'BAX', 'BDX']\n"
     ]
    },
    {
     "name": "stderr",
     "output_type": "stream",
     "text": [
      "[*********************100%***********************]  20 of 20 completed\n"
     ]
    },
    {
     "name": "stdout",
     "output_type": "stream",
     "text": [
      "✅ Saved AMAT\n",
      "✅ Saved APTV\n",
      "✅ Saved ACGL\n",
      "✅ Saved ADM\n",
      "✅ Saved ANET\n",
      "✅ Saved AJG\n",
      "✅ Saved AIZ\n",
      "✅ Saved T\n",
      "✅ Saved ATO\n",
      "✅ Saved ADSK\n",
      "✅ Saved ADP\n",
      "✅ Saved AZO\n",
      "✅ Saved AVB\n",
      "✅ Saved AVY\n",
      "✅ Saved AXON\n",
      "✅ Saved BKR\n",
      "✅ Saved BALL\n",
      "✅ Saved BAC\n",
      "✅ Saved BAX\n",
      "✅ Saved BDX\n"
     ]
    },
    {
     "name": "stderr",
     "output_type": "stream",
     "text": [
      "[                       0%                       ]"
     ]
    },
    {
     "name": "stdout",
     "output_type": "stream",
     "text": [
      "\n",
      "📦 Pulling batch 4: ['BRK-B', 'BBY', 'TECH', 'BIIB', 'BLK', 'BX', 'BK', 'BA', 'BKNG', 'BSX', 'BMY', 'AVGO', 'BR', 'BRO', 'BF-B', 'BLDR', 'BG', 'BXP', 'CHRW', 'CDNS']\n"
     ]
    },
    {
     "name": "stderr",
     "output_type": "stream",
     "text": [
      "[*********************100%***********************]  20 of 20 completed\n"
     ]
    },
    {
     "name": "stdout",
     "output_type": "stream",
     "text": [
      "✅ Saved BRK-B\n",
      "✅ Saved BBY\n",
      "✅ Saved TECH\n",
      "✅ Saved BIIB\n",
      "✅ Saved BLK\n",
      "✅ Saved BX\n",
      "✅ Saved BK\n",
      "✅ Saved BA\n",
      "✅ Saved BKNG\n",
      "✅ Saved BSX\n",
      "✅ Saved BMY\n",
      "✅ Saved AVGO\n",
      "✅ Saved BR\n",
      "✅ Saved BRO\n",
      "✅ Saved BF-B\n",
      "✅ Saved BLDR\n",
      "✅ Saved BG\n",
      "✅ Saved BXP\n",
      "✅ Saved CHRW\n",
      "✅ Saved CDNS\n"
     ]
    },
    {
     "name": "stderr",
     "output_type": "stream",
     "text": [
      "[*****                 10%                       ]  2 of 20 completed"
     ]
    },
    {
     "name": "stdout",
     "output_type": "stream",
     "text": [
      "\n",
      "📦 Pulling batch 5: ['CZR', 'CPT', 'CPB', 'COF', 'CAH', 'KMX', 'CCL', 'CARR', 'CAT', 'CBOE', 'CBRE', 'CDW', 'COR', 'CNC', 'CNP', 'CF', 'CRL', 'SCHW', 'CHTR', 'CVX']\n"
     ]
    },
    {
     "name": "stderr",
     "output_type": "stream",
     "text": [
      "[*********************100%***********************]  20 of 20 completed\n"
     ]
    },
    {
     "name": "stdout",
     "output_type": "stream",
     "text": [
      "✅ Saved CZR\n",
      "✅ Saved CPT\n",
      "✅ Saved CPB\n",
      "✅ Saved COF\n",
      "✅ Saved CAH\n",
      "✅ Saved KMX\n",
      "✅ Saved CCL\n",
      "✅ Saved CARR\n",
      "✅ Saved CAT\n",
      "✅ Saved CBOE\n",
      "✅ Saved CBRE\n",
      "✅ Saved CDW\n",
      "✅ Saved COR\n",
      "✅ Saved CNC\n",
      "✅ Saved CNP\n",
      "✅ Saved CF\n",
      "✅ Saved CRL\n",
      "✅ Saved SCHW\n",
      "✅ Saved CHTR\n",
      "✅ Saved CVX\n",
      "\n",
      "📦 Pulling batch 6: ['CMG', 'CB', 'CHD', 'CI', 'CINF', 'CTAS', 'CSCO', 'C', 'CFG', 'CLX', 'CME', 'CMS', 'KO', 'CTSH', 'CL', 'CMCSA', 'CAG', 'COP', 'ED', 'STZ']\n"
     ]
    },
    {
     "name": "stderr",
     "output_type": "stream",
     "text": [
      "[*********************100%***********************]  20 of 20 completed\n"
     ]
    },
    {
     "name": "stdout",
     "output_type": "stream",
     "text": [
      "✅ Saved CMG\n",
      "✅ Saved CB\n",
      "✅ Saved CHD\n",
      "✅ Saved CI\n",
      "✅ Saved CINF\n",
      "✅ Saved CTAS\n",
      "✅ Saved CSCO\n",
      "✅ Saved C\n",
      "✅ Saved CFG\n",
      "✅ Saved CLX\n",
      "✅ Saved CME\n",
      "✅ Saved CMS\n",
      "✅ Saved KO\n",
      "✅ Saved CTSH\n",
      "✅ Saved CL\n",
      "✅ Saved CMCSA\n",
      "✅ Saved CAG\n",
      "✅ Saved COP\n",
      "✅ Saved ED\n",
      "✅ Saved STZ\n",
      "\n",
      "📦 Pulling batch 7: ['CEG', 'COO', 'CPRT', 'GLW', 'CPAY', 'CTVA', 'CSGP', 'COST', 'CTRA', 'CRWD', 'CCI', 'CSX', 'CMI', 'CVS', 'DHR', 'DRI', 'DVA', 'DAY', 'DECK', 'DE']\n"
     ]
    },
    {
     "name": "stderr",
     "output_type": "stream",
     "text": [
      "[*********************100%***********************]  20 of 20 completed\n"
     ]
    },
    {
     "name": "stdout",
     "output_type": "stream",
     "text": [
      "✅ Saved CEG\n",
      "✅ Saved COO\n",
      "✅ Saved CPRT\n",
      "✅ Saved GLW\n",
      "✅ Saved CPAY\n",
      "✅ Saved CTVA\n",
      "✅ Saved CSGP\n",
      "✅ Saved COST\n",
      "✅ Saved CTRA\n",
      "✅ Saved CRWD\n",
      "✅ Saved CCI\n",
      "✅ Saved CSX\n",
      "✅ Saved CMI\n",
      "✅ Saved CVS\n",
      "✅ Saved DHR\n",
      "✅ Saved DRI\n",
      "✅ Saved DVA\n",
      "✅ Saved DAY\n",
      "✅ Saved DECK\n",
      "✅ Saved DE\n"
     ]
    },
    {
     "name": "stderr",
     "output_type": "stream",
     "text": [
      "[                       0%                       ]"
     ]
    },
    {
     "name": "stdout",
     "output_type": "stream",
     "text": [
      "\n",
      "📦 Pulling batch 8: ['DELL', 'DAL', 'DVN', 'DXCM', 'FANG', 'DLR', 'DFS', 'DG', 'DLTR', 'D', 'DPZ', 'DASH', 'DOV', 'DOW', 'DHI', 'DTE', 'DUK', 'DD', 'EMN', 'ETN']\n"
     ]
    },
    {
     "name": "stderr",
     "output_type": "stream",
     "text": [
      "[*********************100%***********************]  20 of 20 completed\n"
     ]
    },
    {
     "name": "stdout",
     "output_type": "stream",
     "text": [
      "✅ Saved DELL\n",
      "✅ Saved DAL\n",
      "✅ Saved DVN\n",
      "✅ Saved DXCM\n",
      "✅ Saved FANG\n",
      "✅ Saved DLR\n",
      "✅ Saved DFS\n",
      "✅ Saved DG\n",
      "✅ Saved DLTR\n",
      "✅ Saved D\n",
      "✅ Saved DPZ\n",
      "✅ Saved DASH\n",
      "✅ Saved DOV\n",
      "✅ Saved DOW\n",
      "✅ Saved DHI\n",
      "✅ Saved DTE\n",
      "✅ Saved DUK\n",
      "✅ Saved DD\n",
      "✅ Saved EMN\n",
      "✅ Saved ETN\n"
     ]
    },
    {
     "name": "stderr",
     "output_type": "stream",
     "text": [
      "[                       0%                       ]"
     ]
    },
    {
     "name": "stdout",
     "output_type": "stream",
     "text": [
      "\n",
      "📦 Pulling batch 9: ['EBAY', 'ECL', 'EIX', 'EW', 'EA', 'ELV', 'EMR', 'ENPH', 'ETR', 'EOG', 'EPAM', 'EQT', 'EFX', 'EQIX', 'EQR', 'ERIE', 'ESS', 'EL', 'EG', 'EVRG']\n"
     ]
    },
    {
     "name": "stderr",
     "output_type": "stream",
     "text": [
      "[*********************100%***********************]  20 of 20 completed\n"
     ]
    },
    {
     "name": "stdout",
     "output_type": "stream",
     "text": [
      "✅ Saved EBAY\n",
      "✅ Saved ECL\n",
      "✅ Saved EIX\n",
      "✅ Saved EW\n",
      "✅ Saved EA\n",
      "✅ Saved ELV\n",
      "✅ Saved EMR\n",
      "✅ Saved ENPH\n",
      "✅ Saved ETR\n",
      "✅ Saved EOG\n",
      "✅ Saved EPAM\n",
      "✅ Saved EQT\n",
      "✅ Saved EFX\n",
      "✅ Saved EQIX\n",
      "✅ Saved EQR\n",
      "✅ Saved ERIE\n",
      "✅ Saved ESS\n",
      "✅ Saved EL\n",
      "✅ Saved EG\n",
      "✅ Saved EVRG\n",
      "\n",
      "📦 Pulling batch 10: ['ES', 'EXC', 'EXE', 'EXPE', 'EXPD', 'EXR', 'XOM', 'FFIV', 'FDS', 'FICO', 'FAST', 'FRT', 'FDX', 'FIS', 'FITB', 'FSLR', 'FE', 'FI', 'F', 'FTNT']\n"
     ]
    },
    {
     "name": "stderr",
     "output_type": "stream",
     "text": [
      "[*********************100%***********************]  20 of 20 completed\n"
     ]
    },
    {
     "name": "stdout",
     "output_type": "stream",
     "text": [
      "✅ Saved ES\n",
      "✅ Saved EXC\n",
      "✅ Saved EXE\n",
      "✅ Saved EXPE\n",
      "✅ Saved EXPD\n",
      "✅ Saved EXR\n",
      "✅ Saved XOM\n",
      "✅ Saved FFIV\n",
      "✅ Saved FDS\n",
      "✅ Saved FICO\n",
      "✅ Saved FAST\n",
      "✅ Saved FRT\n",
      "✅ Saved FDX\n",
      "✅ Saved FIS\n",
      "✅ Saved FITB\n",
      "✅ Saved FSLR\n",
      "✅ Saved FE\n",
      "✅ Saved FI\n",
      "✅ Saved F\n",
      "✅ Saved FTNT\n"
     ]
    },
    {
     "name": "stderr",
     "output_type": "stream",
     "text": [
      "[*****                 10%                       ]  2 of 20 completed"
     ]
    },
    {
     "name": "stdout",
     "output_type": "stream",
     "text": [
      "\n",
      "📦 Pulling batch 11: ['FTV', 'FOXA', 'FOX', 'BEN', 'FCX', 'GRMN', 'IT', 'GE', 'GEHC', 'GEV', 'GEN', 'GNRC', 'GD', 'GIS', 'GM', 'GPC', 'GILD', 'GPN', 'GL', 'GDDY']\n"
     ]
    },
    {
     "name": "stderr",
     "output_type": "stream",
     "text": [
      "[*********************100%***********************]  20 of 20 completed\n"
     ]
    },
    {
     "name": "stdout",
     "output_type": "stream",
     "text": [
      "✅ Saved FTV\n",
      "✅ Saved FOXA\n",
      "✅ Saved FOX\n",
      "✅ Saved BEN\n",
      "✅ Saved FCX\n",
      "✅ Saved GRMN\n",
      "✅ Saved IT\n",
      "✅ Saved GE\n",
      "✅ Saved GEHC\n",
      "✅ Saved GEV\n",
      "✅ Saved GEN\n",
      "✅ Saved GNRC\n",
      "✅ Saved GD\n",
      "✅ Saved GIS\n",
      "✅ Saved GM\n",
      "✅ Saved GPC\n",
      "✅ Saved GILD\n",
      "✅ Saved GPN\n",
      "✅ Saved GL\n",
      "✅ Saved GDDY\n",
      "\n",
      "📦 Pulling batch 12: ['GS', 'HAL', 'HIG', 'HAS', 'HCA', 'DOC', 'HSIC', 'HSY', 'HES', 'HPE', 'HLT', 'HOLX', 'HD', 'HON', 'HRL', 'HST', 'HWM', 'HPQ', 'HUBB', 'HUM']\n"
     ]
    },
    {
     "name": "stderr",
     "output_type": "stream",
     "text": [
      "[*********************100%***********************]  20 of 20 completed\n"
     ]
    },
    {
     "name": "stdout",
     "output_type": "stream",
     "text": [
      "✅ Saved GS\n",
      "✅ Saved HAL\n",
      "✅ Saved HIG\n",
      "✅ Saved HAS\n",
      "✅ Saved HCA\n",
      "✅ Saved DOC\n",
      "✅ Saved HSIC\n",
      "✅ Saved HSY\n",
      "✅ Saved HES\n",
      "✅ Saved HPE\n",
      "✅ Saved HLT\n",
      "✅ Saved HOLX\n",
      "✅ Saved HD\n",
      "✅ Saved HON\n",
      "✅ Saved HRL\n",
      "✅ Saved HST\n",
      "✅ Saved HWM\n",
      "✅ Saved HPQ\n",
      "✅ Saved HUBB\n",
      "✅ Saved HUM\n",
      "\n",
      "📦 Pulling batch 13: ['HBAN', 'HII', 'IBM', 'IEX', 'IDXX', 'ITW', 'INCY', 'IR', 'PODD', 'INTC', 'ICE', 'IFF', 'IP', 'IPG', 'INTU', 'ISRG', 'IVZ', 'INVH', 'IQV', 'IRM']\n"
     ]
    },
    {
     "name": "stderr",
     "output_type": "stream",
     "text": [
      "[*********************100%***********************]  20 of 20 completed\n"
     ]
    },
    {
     "name": "stdout",
     "output_type": "stream",
     "text": [
      "✅ Saved HBAN\n",
      "✅ Saved HII\n",
      "✅ Saved IBM\n",
      "✅ Saved IEX\n",
      "✅ Saved IDXX\n",
      "✅ Saved ITW\n",
      "✅ Saved INCY\n",
      "✅ Saved IR\n",
      "✅ Saved PODD\n",
      "✅ Saved INTC\n",
      "✅ Saved ICE\n",
      "✅ Saved IFF\n",
      "✅ Saved IP\n",
      "✅ Saved IPG\n",
      "✅ Saved INTU\n",
      "✅ Saved ISRG\n",
      "✅ Saved IVZ\n",
      "✅ Saved INVH\n",
      "✅ Saved IQV\n",
      "✅ Saved IRM\n",
      "\n",
      "📦 Pulling batch 14: ['JBHT', 'JBL', 'JKHY', 'J', 'JNJ', 'JCI', 'JPM', 'JNPR', 'K', 'KVUE', 'KDP', 'KEY', 'KEYS', 'KMB', 'KIM', 'KMI', 'KKR', 'KLAC', 'KHC', 'KR']\n"
     ]
    },
    {
     "name": "stderr",
     "output_type": "stream",
     "text": [
      "[*********************100%***********************]  20 of 20 completed\n"
     ]
    },
    {
     "name": "stdout",
     "output_type": "stream",
     "text": [
      "✅ Saved JBHT\n",
      "✅ Saved JBL\n",
      "✅ Saved JKHY\n",
      "✅ Saved J\n",
      "✅ Saved JNJ\n",
      "✅ Saved JCI\n",
      "✅ Saved JPM\n",
      "✅ Saved JNPR\n",
      "✅ Saved K\n",
      "✅ Saved KVUE\n",
      "✅ Saved KDP\n",
      "✅ Saved KEY\n",
      "✅ Saved KEYS\n",
      "✅ Saved KMB\n",
      "✅ Saved KIM\n",
      "✅ Saved KMI\n",
      "✅ Saved KKR\n",
      "✅ Saved KLAC\n",
      "✅ Saved KHC\n",
      "✅ Saved KR\n",
      "\n",
      "📦 Pulling batch 15: ['LHX', 'LH', 'LRCX', 'LW', 'LVS', 'LDOS', 'LEN', 'LII', 'LLY', 'LIN', 'LYV', 'LKQ', 'LMT', 'L', 'LOW', 'LULU', 'LYB', 'MTB', 'MPC', 'MKTX']\n"
     ]
    },
    {
     "name": "stderr",
     "output_type": "stream",
     "text": [
      "[*********************100%***********************]  20 of 20 completed\n"
     ]
    },
    {
     "name": "stdout",
     "output_type": "stream",
     "text": [
      "✅ Saved LHX\n",
      "✅ Saved LH\n",
      "✅ Saved LRCX\n",
      "✅ Saved LW\n",
      "✅ Saved LVS\n",
      "✅ Saved LDOS\n",
      "✅ Saved LEN\n",
      "✅ Saved LII\n",
      "✅ Saved LLY\n",
      "✅ Saved LIN\n",
      "✅ Saved LYV\n",
      "✅ Saved LKQ\n",
      "✅ Saved LMT\n",
      "✅ Saved L\n",
      "✅ Saved LOW\n",
      "✅ Saved LULU\n",
      "✅ Saved LYB\n",
      "✅ Saved MTB\n",
      "✅ Saved MPC\n",
      "✅ Saved MKTX\n",
      "\n",
      "📦 Pulling batch 16: ['MAR', 'MMC', 'MLM', 'MAS', 'MA', 'MTCH', 'MKC', 'MCD', 'MCK', 'MDT', 'MRK', 'META', 'MET', 'MTD', 'MGM', 'MCHP', 'MU', 'MSFT', 'MAA', 'MRNA']\n"
     ]
    },
    {
     "name": "stderr",
     "output_type": "stream",
     "text": [
      "[*********************100%***********************]  20 of 20 completed\n"
     ]
    },
    {
     "name": "stdout",
     "output_type": "stream",
     "text": [
      "✅ Saved MAR\n",
      "✅ Saved MMC\n",
      "✅ Saved MLM\n",
      "✅ Saved MAS\n",
      "✅ Saved MA\n",
      "✅ Saved MTCH\n",
      "✅ Saved MKC\n",
      "✅ Saved MCD\n",
      "✅ Saved MCK\n",
      "✅ Saved MDT\n",
      "✅ Saved MRK\n",
      "✅ Saved META\n",
      "✅ Saved MET\n",
      "✅ Saved MTD\n",
      "✅ Saved MGM\n",
      "✅ Saved MCHP\n",
      "✅ Saved MU\n",
      "✅ Saved MSFT\n",
      "✅ Saved MAA\n",
      "✅ Saved MRNA\n",
      "\n",
      "📦 Pulling batch 17: ['MHK', 'MOH', 'TAP', 'MDLZ', 'MPWR', 'MNST', 'MCO', 'MS', 'MOS', 'MSI', 'MSCI', 'NDAQ', 'NTAP', 'NFLX', 'NEM', 'NWSA', 'NWS', 'NEE', 'NKE', 'NI']\n"
     ]
    },
    {
     "name": "stderr",
     "output_type": "stream",
     "text": [
      "[*********************100%***********************]  20 of 20 completed\n"
     ]
    },
    {
     "name": "stdout",
     "output_type": "stream",
     "text": [
      "✅ Saved MHK\n",
      "✅ Saved MOH\n",
      "✅ Saved TAP\n",
      "✅ Saved MDLZ\n",
      "✅ Saved MPWR\n",
      "✅ Saved MNST\n",
      "✅ Saved MCO\n",
      "✅ Saved MS\n",
      "✅ Saved MOS\n",
      "✅ Saved MSI\n",
      "✅ Saved MSCI\n",
      "✅ Saved NDAQ\n",
      "✅ Saved NTAP\n",
      "✅ Saved NFLX\n",
      "✅ Saved NEM\n",
      "✅ Saved NWSA\n",
      "✅ Saved NWS\n",
      "✅ Saved NEE\n",
      "✅ Saved NKE\n",
      "✅ Saved NI\n",
      "\n",
      "📦 Pulling batch 18: ['NDSN', 'NSC', 'NTRS', 'NOC', 'NCLH', 'NRG', 'NUE', 'NVDA', 'NVR', 'NXPI', 'ORLY', 'OXY', 'ODFL', 'OMC', 'ON', 'OKE', 'ORCL', 'OTIS', 'PCAR', 'PKG']\n"
     ]
    },
    {
     "name": "stderr",
     "output_type": "stream",
     "text": [
      "[*********************100%***********************]  20 of 20 completed\n"
     ]
    },
    {
     "name": "stdout",
     "output_type": "stream",
     "text": [
      "✅ Saved NDSN\n",
      "✅ Saved NSC\n",
      "✅ Saved NTRS\n",
      "✅ Saved NOC\n",
      "✅ Saved NCLH\n",
      "✅ Saved NRG\n",
      "✅ Saved NUE\n",
      "✅ Saved NVDA\n",
      "✅ Saved NVR\n",
      "✅ Saved NXPI\n",
      "✅ Saved ORLY\n",
      "✅ Saved OXY\n",
      "✅ Saved ODFL\n",
      "✅ Saved OMC\n",
      "✅ Saved ON\n",
      "✅ Saved OKE\n",
      "✅ Saved ORCL\n",
      "✅ Saved OTIS\n",
      "✅ Saved PCAR\n",
      "✅ Saved PKG\n",
      "\n",
      "📦 Pulling batch 19: ['PLTR', 'PANW', 'PARA', 'PH', 'PAYX', 'PAYC', 'PYPL', 'PNR', 'PEP', 'PFE', 'PCG', 'PM', 'PSX', 'PNW', 'PNC', 'POOL', 'PPG', 'PPL', 'PFG', 'PG']\n"
     ]
    },
    {
     "name": "stderr",
     "output_type": "stream",
     "text": [
      "[*********************100%***********************]  20 of 20 completed\n"
     ]
    },
    {
     "name": "stdout",
     "output_type": "stream",
     "text": [
      "✅ Saved PLTR\n",
      "✅ Saved PANW\n",
      "✅ Saved PARA\n",
      "✅ Saved PH\n",
      "✅ Saved PAYX\n",
      "✅ Saved PAYC\n",
      "✅ Saved PYPL\n",
      "✅ Saved PNR\n",
      "✅ Saved PEP\n",
      "✅ Saved PFE\n",
      "✅ Saved PCG\n",
      "✅ Saved PM\n",
      "✅ Saved PSX\n",
      "✅ Saved PNW\n",
      "✅ Saved PNC\n",
      "✅ Saved POOL\n",
      "✅ Saved PPG\n",
      "✅ Saved PPL\n",
      "✅ Saved PFG\n",
      "✅ Saved PG\n",
      "\n",
      "📦 Pulling batch 20: ['PGR', 'PLD', 'PRU', 'PEG', 'PTC', 'PSA', 'PHM', 'PWR', 'QCOM', 'DGX', 'RL', 'RJF', 'RTX', 'O', 'REG', 'REGN', 'RF', 'RSG', 'RMD', 'RVTY']\n"
     ]
    },
    {
     "name": "stderr",
     "output_type": "stream",
     "text": [
      "[*********************100%***********************]  20 of 20 completed\n"
     ]
    },
    {
     "name": "stdout",
     "output_type": "stream",
     "text": [
      "✅ Saved PGR\n",
      "✅ Saved PLD\n",
      "✅ Saved PRU\n",
      "✅ Saved PEG\n",
      "✅ Saved PTC\n",
      "✅ Saved PSA\n",
      "✅ Saved PHM\n",
      "✅ Saved PWR\n",
      "✅ Saved QCOM\n",
      "✅ Saved DGX\n",
      "✅ Saved RL\n",
      "✅ Saved RJF\n",
      "✅ Saved RTX\n",
      "✅ Saved O\n",
      "✅ Saved REG\n",
      "✅ Saved REGN\n",
      "✅ Saved RF\n",
      "✅ Saved RSG\n",
      "✅ Saved RMD\n",
      "✅ Saved RVTY\n"
     ]
    },
    {
     "name": "stderr",
     "output_type": "stream",
     "text": [
      "[                       0%                       ]"
     ]
    },
    {
     "name": "stdout",
     "output_type": "stream",
     "text": [
      "\n",
      "📦 Pulling batch 21: ['ROK', 'ROL', 'ROP', 'ROST', 'RCL', 'SPGI', 'CRM', 'SBAC', 'SLB', 'STX', 'SRE', 'NOW', 'SHW', 'SPG', 'SWKS', 'SJM', 'SW', 'SNA', 'SOLV', 'SO']\n"
     ]
    },
    {
     "name": "stderr",
     "output_type": "stream",
     "text": [
      "[*********************100%***********************]  20 of 20 completed\n",
      "\n",
      "1 Failed download:\n",
      "['SW']: YFPricesMissingError('possibly delisted; no price data found  (1d 2015-01-01 -> 2024-04-30) (Yahoo error = \"Data doesn\\'t exist for startDate = 1420088400, endDate = 1714449600\")')\n"
     ]
    },
    {
     "name": "stdout",
     "output_type": "stream",
     "text": [
      "✅ Saved ROK\n",
      "✅ Saved ROL\n",
      "✅ Saved ROP\n",
      "✅ Saved ROST\n",
      "✅ Saved RCL\n",
      "✅ Saved SPGI\n",
      "✅ Saved CRM\n",
      "✅ Saved SBAC\n",
      "✅ Saved SLB\n",
      "✅ Saved STX\n",
      "✅ Saved SRE\n",
      "✅ Saved NOW\n",
      "✅ Saved SHW\n",
      "✅ Saved SPG\n",
      "✅ Saved SWKS\n",
      "✅ Saved SJM\n",
      "⚠️ SW returned an empty DataFrame.\n",
      "✅ Saved SNA\n",
      "✅ Saved SOLV\n",
      "✅ Saved SO\n"
     ]
    },
    {
     "name": "stderr",
     "output_type": "stream",
     "text": [
      "[                       0%                       ]"
     ]
    },
    {
     "name": "stdout",
     "output_type": "stream",
     "text": [
      "\n",
      "📦 Pulling batch 22: ['LUV', 'SWK', 'SBUX', 'STT', 'STLD', 'STE', 'SYK', 'SMCI', 'SYF', 'SNPS', 'SYY', 'TMUS', 'TROW', 'TTWO', 'TPR', 'TRGP', 'TGT', 'TEL', 'TDY', 'TER']\n"
     ]
    },
    {
     "name": "stderr",
     "output_type": "stream",
     "text": [
      "[*********************100%***********************]  20 of 20 completed\n"
     ]
    },
    {
     "name": "stdout",
     "output_type": "stream",
     "text": [
      "✅ Saved LUV\n",
      "✅ Saved SWK\n",
      "✅ Saved SBUX\n",
      "✅ Saved STT\n",
      "✅ Saved STLD\n",
      "✅ Saved STE\n",
      "✅ Saved SYK\n",
      "✅ Saved SMCI\n",
      "✅ Saved SYF\n",
      "✅ Saved SNPS\n",
      "✅ Saved SYY\n",
      "✅ Saved TMUS\n",
      "✅ Saved TROW\n",
      "✅ Saved TTWO\n",
      "✅ Saved TPR\n",
      "✅ Saved TRGP\n",
      "✅ Saved TGT\n",
      "✅ Saved TEL\n",
      "✅ Saved TDY\n",
      "✅ Saved TER\n"
     ]
    },
    {
     "name": "stderr",
     "output_type": "stream",
     "text": [
      "[                       0%                       ]"
     ]
    },
    {
     "name": "stdout",
     "output_type": "stream",
     "text": [
      "\n",
      "📦 Pulling batch 23: ['TSLA', 'TXN', 'TPL', 'TXT', 'TMO', 'TJX', 'TKO', 'TSCO', 'TT', 'TDG', 'TRV', 'TRMB', 'TFC', 'TYL', 'TSN', 'USB', 'UBER', 'UDR', 'ULTA', 'UNP']\n"
     ]
    },
    {
     "name": "stderr",
     "output_type": "stream",
     "text": [
      "[*********************100%***********************]  20 of 20 completed\n"
     ]
    },
    {
     "name": "stdout",
     "output_type": "stream",
     "text": [
      "✅ Saved TSLA\n",
      "✅ Saved TXN\n",
      "✅ Saved TPL\n",
      "✅ Saved TXT\n",
      "✅ Saved TMO\n",
      "✅ Saved TJX\n",
      "✅ Saved TKO\n",
      "✅ Saved TSCO\n",
      "✅ Saved TT\n",
      "✅ Saved TDG\n",
      "✅ Saved TRV\n",
      "✅ Saved TRMB\n",
      "✅ Saved TFC\n",
      "✅ Saved TYL\n",
      "✅ Saved TSN\n",
      "✅ Saved USB\n",
      "✅ Saved UBER\n",
      "✅ Saved UDR\n",
      "✅ Saved ULTA\n",
      "✅ Saved UNP\n"
     ]
    },
    {
     "name": "stderr",
     "output_type": "stream",
     "text": [
      "[*****                 10%                       ]  2 of 20 completed"
     ]
    },
    {
     "name": "stdout",
     "output_type": "stream",
     "text": [
      "\n",
      "📦 Pulling batch 24: ['UAL', 'UPS', 'URI', 'UNH', 'UHS', 'VLO', 'VTR', 'VLTO', 'VRSN', 'VRSK', 'VZ', 'VRTX', 'VTRS', 'VICI', 'V', 'VST', 'VMC', 'WRB', 'GWW', 'WAB']\n"
     ]
    },
    {
     "name": "stderr",
     "output_type": "stream",
     "text": [
      "[*********************100%***********************]  20 of 20 completed\n"
     ]
    },
    {
     "name": "stdout",
     "output_type": "stream",
     "text": [
      "✅ Saved UAL\n",
      "✅ Saved UPS\n",
      "✅ Saved URI\n",
      "✅ Saved UNH\n",
      "✅ Saved UHS\n",
      "✅ Saved VLO\n",
      "✅ Saved VTR\n",
      "✅ Saved VLTO\n",
      "✅ Saved VRSN\n",
      "✅ Saved VRSK\n",
      "✅ Saved VZ\n",
      "✅ Saved VRTX\n",
      "✅ Saved VTRS\n",
      "✅ Saved VICI\n",
      "✅ Saved V\n",
      "✅ Saved VST\n",
      "✅ Saved VMC\n",
      "✅ Saved WRB\n",
      "✅ Saved GWW\n",
      "✅ Saved WAB\n",
      "\n",
      "📦 Pulling batch 25: ['WBA', 'WMT', 'DIS', 'WBD', 'WM', 'WAT', 'WEC', 'WFC', 'WELL', 'WST', 'WDC', 'WY', 'WSM', 'WMB', 'WTW', 'WDAY', 'WYNN', 'XEL', 'XYL', 'YUM']\n"
     ]
    },
    {
     "name": "stderr",
     "output_type": "stream",
     "text": [
      "[*********************100%***********************]  20 of 20 completed\n"
     ]
    },
    {
     "name": "stdout",
     "output_type": "stream",
     "text": [
      "✅ Saved WBA\n",
      "✅ Saved WMT\n",
      "✅ Saved DIS\n",
      "✅ Saved WBD\n",
      "✅ Saved WM\n",
      "✅ Saved WAT\n",
      "✅ Saved WEC\n",
      "✅ Saved WFC\n",
      "✅ Saved WELL\n",
      "✅ Saved WST\n",
      "✅ Saved WDC\n",
      "✅ Saved WY\n",
      "✅ Saved WSM\n",
      "✅ Saved WMB\n",
      "✅ Saved WTW\n",
      "✅ Saved WDAY\n",
      "✅ Saved WYNN\n",
      "✅ Saved XEL\n",
      "✅ Saved XYL\n",
      "✅ Saved YUM\n"
     ]
    },
    {
     "name": "stderr",
     "output_type": "stream",
     "text": [
      "[                       0%                       ]"
     ]
    },
    {
     "name": "stdout",
     "output_type": "stream",
     "text": [
      "\n",
      "📦 Pulling batch 26: ['ZBRA', 'ZBH', 'ZTS']\n"
     ]
    },
    {
     "name": "stderr",
     "output_type": "stream",
     "text": [
      "[*********************100%***********************]  3 of 3 completed\n"
     ]
    },
    {
     "name": "stdout",
     "output_type": "stream",
     "text": [
      "✅ Saved ZBRA\n",
      "✅ Saved ZBH\n",
      "✅ Saved ZTS\n",
      "\n",
      "✅ Done downloading prices and sectors!\n"
     ]
    }
   ],
   "source": [
    "def download_sp500_with_sectors(ticker_csv_path=\"../data/sp500_tickers.csv\",\n",
    "                                 data_dir=\"../data/stock_prices\",\n",
    "                                 sector_output_path=\"../data/sector_map.json\",\n",
    "                                 missing_log_path=\"../data/missing_tickers.txt\",\n",
    "                                 start_date=\"2015-01-01\",\n",
    "                                 end_date=\"2024-04-30\",\n",
    "                                 batch_size=20,\n",
    "                                 wait_time=5):\n",
    "    \"\"\"\n",
    "    Downloads historical stock prices and sector info for tickers in sp500_tickers.csv.\n",
    "    Saves each ticker's price data to CSV and writes sector info to JSON.\n",
    "    \"\"\"\n",
    "\n",
    "    # Clean output directory\n",
    "    if os.path.exists(data_dir):\n",
    "        confirm = input(f\"⚠️ WARNING: This will delete ALL existing files in {data_dir}. Continue? (yes/no): \").lower()\n",
    "        if confirm != \"yes\":\n",
    "            raise SystemExit(\"❌ Aborting to protect existing files.\")\n",
    "        shutil.rmtree(data_dir)\n",
    "        print(f\"🧹 Cleared old data from {data_dir}\")\n",
    "\n",
    "    os.makedirs(data_dir, exist_ok=True)\n",
    "\n",
    "    # Load tickers\n",
    "    sp500_tickers = pd.read_csv(ticker_csv_path)['Ticker'].tolist()\n",
    "\n",
    "    # Sector map & missing ticker log\n",
    "    sector_map = {}\n",
    "    missing_log = open(missing_log_path, \"w\")\n",
    "\n",
    "    # Download data in batches\n",
    "    for i in range(0, len(sp500_tickers), batch_size):\n",
    "        batch = sp500_tickers[i:i + batch_size]\n",
    "        print(f\"\\n📦 Pulling batch {i // batch_size + 1}: {batch}\")\n",
    "\n",
    "        try:\n",
    "            data = yf.download(batch, start=start_date, end=end_date, group_by='ticker', threads=True)\n",
    "        except Exception as e:\n",
    "            print(f\"❌ Error pulling batch: {e}\")\n",
    "            continue\n",
    "\n",
    "        for ticker in batch:\n",
    "            try:\n",
    "                if ticker not in data.columns.levels[0]:\n",
    "                    print(f\"❌ No data for {ticker}, skipping.\")\n",
    "                    missing_log.write(ticker + \"\\n\")\n",
    "                    continue\n",
    "\n",
    "                df = data[ticker].dropna()\n",
    "                if df.empty:\n",
    "                    print(f\"⚠️ {ticker} returned an empty DataFrame.\")\n",
    "                    missing_log.write(ticker + \"\\n\")\n",
    "                    continue\n",
    "\n",
    "                df.to_csv(os.path.join(data_dir, f\"{ticker}.csv\"))\n",
    "                print(f\"✅ Saved {ticker}\")\n",
    "\n",
    "                # Grab sector info\n",
    "                try:\n",
    "                    info = yf.Ticker(ticker).info\n",
    "                    sector = info.get(\"sector\", \"Unknown\")\n",
    "                    sector_map[ticker] = sector\n",
    "                except Exception as e:\n",
    "                    print(f\"⚠️ Could not fetch sector for {ticker}: {e}\")\n",
    "                    sector_map[ticker] = \"Unknown\"\n",
    "\n",
    "                time.sleep(0.2)  # Gentle delay\n",
    "            except Exception as e:\n",
    "                print(f\"❌ Error saving {ticker}: {e}\")\n",
    "\n",
    "        time.sleep(wait_time)\n",
    "\n",
    "    # Wrap-up\n",
    "    missing_log.close()\n",
    "    with open(sector_output_path, \"w\") as f:\n",
    "        json.dump(sector_map, f, indent=2)\n",
    "    print(\"\\n✅ Done downloading prices and sectors!\")\n",
    "\n",
    "download_sp500_with_sectors()"
   ]
  },
  {
   "cell_type": "code",
   "execution_count": 29,
   "metadata": {},
   "outputs": [
    {
     "name": "stdout",
     "output_type": "stream",
     "text": [
      "✅ Downloaded 502 out of 503 tickers successfully.\n",
      "❌ Missing 1 tickers.\n",
      "Missing tickers: ['SW']\n"
     ]
    }
   ],
   "source": [
    "\n",
    "# Get list of saved files\n",
    "saved_files = os.listdir(DATA_DIR)\n",
    "saved_tickers = [filename.replace('.csv', '') for filename in saved_files if filename.endswith('.csv')]\n",
    "\n",
    "# Compare to your master list\n",
    "expected_tickers = pd.read_csv(\"../data/sp500_tickers.csv\")['Ticker'].tolist()\n",
    "\n",
    "# Find missing tickers\n",
    "missing_tickers = set(expected_tickers) - set(saved_tickers)\n",
    "\n",
    "# Print report\n",
    "print(f\"✅ Downloaded {len(saved_tickers)} out of {len(expected_tickers)} tickers successfully.\")\n",
    "print(f\"❌ Missing {len(missing_tickers)} tickers.\")\n",
    "\n",
    "if missing_tickers:\n",
    "    print(f\"Missing tickers: {sorted(missing_tickers)}\")\n",
    "else:\n",
    "    print(\"🎉 No missing tickers! Full success.\")"
   ]
  },
  {
   "cell_type": "markdown",
   "metadata": {},
   "source": [
    "## Rolling Volatility Calculator"
   ]
  },
  {
   "cell_type": "code",
   "execution_count": 30,
   "metadata": {},
   "outputs": [],
   "source": [
    "vol_list = []\n",
    "\n",
    "for file in os.listdir(DATA_DIR):\n",
    "    if not file.endswith(\".csv\"):\n",
    "        continue\n",
    "\n",
    "    ticker = file.replace(\".csv\", \"\")\n",
    "    path = os.path.join(DATA_DIR, file)\n",
    "\n",
    "    try:\n",
    "        df = pd.read_csv(path, parse_dates=[\"Date\"], index_col=\"Date\")\n",
    "\n",
    "        # Calculate daily log returns\n",
    "        df[\"LogReturn\"] = np.log(df[\"Close\"] / df[\"Close\"].shift(1))\n",
    "\n",
    "        # 30-day rolling volatility (annualized)\n",
    "        df[\"RollingVol\"] = df[\"LogReturn\"].rolling(window=30).std() * np.sqrt(252)\n",
    "\n",
    "        # Drop NaNs, keep only necessary columns\n",
    "        temp = df[[\"RollingVol\"]].dropna().copy()\n",
    "        temp[\"Ticker\"] = ticker\n",
    "        temp.reset_index(inplace=True)\n",
    "\n",
    "        vol_list.append(temp)\n",
    "\n",
    "    except Exception as e:\n",
    "        print(f\"⚠️ Error processing {ticker}: {e}\")\n"
   ]
  },
  {
   "cell_type": "markdown",
   "metadata": {},
   "source": [
    "## Volatility Summary"
   ]
  },
  {
   "cell_type": "code",
   "execution_count": 31,
   "metadata": {},
   "outputs": [
    {
     "name": "stdout",
     "output_type": "stream",
     "text": [
      "✅ Saved volatility summary.\n",
      "        Date  RollingVol Ticker\n",
      "0 2015-02-17    0.268314      A\n",
      "1 2015-02-18    0.271522      A\n",
      "2 2015-02-19    0.268680      A\n",
      "3 2015-02-20    0.271508      A\n",
      "4 2015-02-23    0.259109      A\n"
     ]
    }
   ],
   "source": [
    "# Combine into single DataFrame\n",
    "vol_df = pd.concat(vol_list, ignore_index=True)\n",
    "\n",
    "# Save for screening later\n",
    "vol_df.to_csv(\"../data/volatility_summary.csv\", index=False)\n",
    "\n",
    "print(\"✅ Saved volatility summary.\")\n",
    "print(vol_df.head())\n"
   ]
  },
  {
   "cell_type": "markdown",
   "metadata": {},
   "source": [
    "### Check"
   ]
  },
  {
   "cell_type": "code",
   "execution_count": 45,
   "metadata": {},
   "outputs": [
    {
     "name": "stdout",
     "output_type": "stream",
     "text": [
      "#Test 1 - File exists\n",
      "\n",
      "#Test 2 - Inspection\n",
      "Shape of file: (1128473, 3)\n"
     ]
    },
    {
     "data": {
      "text/html": [
       "<div>\n",
       "<style scoped>\n",
       "    .dataframe tbody tr th:only-of-type {\n",
       "        vertical-align: middle;\n",
       "    }\n",
       "\n",
       "    .dataframe tbody tr th {\n",
       "        vertical-align: top;\n",
       "    }\n",
       "\n",
       "    .dataframe thead th {\n",
       "        text-align: right;\n",
       "    }\n",
       "</style>\n",
       "<table border=\"1\" class=\"dataframe\">\n",
       "  <thead>\n",
       "    <tr style=\"text-align: right;\">\n",
       "      <th></th>\n",
       "      <th>Date</th>\n",
       "      <th>RollingVol</th>\n",
       "      <th>Ticker</th>\n",
       "    </tr>\n",
       "  </thead>\n",
       "  <tbody>\n",
       "    <tr>\n",
       "      <th>0</th>\n",
       "      <td>2015-02-17</td>\n",
       "      <td>0.268314</td>\n",
       "      <td>A</td>\n",
       "    </tr>\n",
       "    <tr>\n",
       "      <th>1</th>\n",
       "      <td>2015-02-18</td>\n",
       "      <td>0.271522</td>\n",
       "      <td>A</td>\n",
       "    </tr>\n",
       "    <tr>\n",
       "      <th>2</th>\n",
       "      <td>2015-02-19</td>\n",
       "      <td>0.268680</td>\n",
       "      <td>A</td>\n",
       "    </tr>\n",
       "    <tr>\n",
       "      <th>3</th>\n",
       "      <td>2015-02-20</td>\n",
       "      <td>0.271508</td>\n",
       "      <td>A</td>\n",
       "    </tr>\n",
       "    <tr>\n",
       "      <th>4</th>\n",
       "      <td>2015-02-23</td>\n",
       "      <td>0.259109</td>\n",
       "      <td>A</td>\n",
       "    </tr>\n",
       "  </tbody>\n",
       "</table>\n",
       "</div>"
      ],
      "text/plain": [
       "         Date  RollingVol Ticker\n",
       "0  2015-02-17    0.268314      A\n",
       "1  2015-02-18    0.271522      A\n",
       "2  2015-02-19    0.268680      A\n",
       "3  2015-02-20    0.271508      A\n",
       "4  2015-02-23    0.259109      A"
      ]
     },
     "metadata": {},
     "output_type": "display_data"
    },
    {
     "name": "stdout",
     "output_type": "stream",
     "text": [
      "\n",
      "#Test 3 - Corrupt rows:\n",
      "NaNs:\n",
      "Date          0\n",
      "RollingVol    0\n",
      "Ticker        0\n",
      "dtype: int64\n",
      "\n",
      "#Test 4 - Sanity check on Rolling vols\n"
     ]
    },
    {
     "data": {
      "text/plain": [
       "count    1.128473e+06\n",
       "mean     2.831796e-01\n",
       "std      1.679164e-01\n",
       "min      0.000000e+00\n",
       "25%      1.831784e-01\n",
       "50%      2.438964e-01\n",
       "75%      3.290698e-01\n",
       "max      3.180735e+00\n",
       "Name: RollingVol, dtype: float64"
      ]
     },
     "metadata": {},
     "output_type": "display_data"
    },
    {
     "name": "stdout",
     "output_type": "stream",
     "text": [
      "\n",
      "#Test 5 - spot Check\n"
     ]
    },
    {
     "data": {
      "text/html": [
       "<div>\n",
       "<style scoped>\n",
       "    .dataframe tbody tr th:only-of-type {\n",
       "        vertical-align: middle;\n",
       "    }\n",
       "\n",
       "    .dataframe tbody tr th {\n",
       "        vertical-align: top;\n",
       "    }\n",
       "\n",
       "    .dataframe thead th {\n",
       "        text-align: right;\n",
       "    }\n",
       "</style>\n",
       "<table border=\"1\" class=\"dataframe\">\n",
       "  <thead>\n",
       "    <tr style=\"text-align: right;\">\n",
       "      <th></th>\n",
       "      <th>Date</th>\n",
       "      <th>RollingVol</th>\n",
       "      <th>Ticker</th>\n",
       "    </tr>\n",
       "  </thead>\n",
       "  <tbody>\n",
       "    <tr>\n",
       "      <th>924524</th>\n",
       "      <td>2024-04-23</td>\n",
       "      <td>1.047789</td>\n",
       "      <td>SMCI</td>\n",
       "    </tr>\n",
       "    <tr>\n",
       "      <th>924525</th>\n",
       "      <td>2024-04-24</td>\n",
       "      <td>1.016075</td>\n",
       "      <td>SMCI</td>\n",
       "    </tr>\n",
       "    <tr>\n",
       "      <th>924526</th>\n",
       "      <td>2024-04-25</td>\n",
       "      <td>1.024313</td>\n",
       "      <td>SMCI</td>\n",
       "    </tr>\n",
       "    <tr>\n",
       "      <th>924527</th>\n",
       "      <td>2024-04-26</td>\n",
       "      <td>1.057123</td>\n",
       "      <td>SMCI</td>\n",
       "    </tr>\n",
       "    <tr>\n",
       "      <th>924528</th>\n",
       "      <td>2024-04-29</td>\n",
       "      <td>1.056050</td>\n",
       "      <td>SMCI</td>\n",
       "    </tr>\n",
       "  </tbody>\n",
       "</table>\n",
       "</div>"
      ],
      "text/plain": [
       "              Date  RollingVol Ticker\n",
       "924524  2024-04-23    1.047789   SMCI\n",
       "924525  2024-04-24    1.016075   SMCI\n",
       "924526  2024-04-25    1.024313   SMCI\n",
       "924527  2024-04-26    1.057123   SMCI\n",
       "924528  2024-04-29    1.056050   SMCI"
      ]
     },
     "metadata": {},
     "output_type": "display_data"
    },
    {
     "name": "stdout",
     "output_type": "stream",
     "text": [
      "\n",
      "#Test 6 - Number of Uniques\n"
     ]
    },
    {
     "data": {
      "text/plain": [
       "500"
      ]
     },
     "metadata": {},
     "output_type": "display_data"
    }
   ],
   "source": [
    "VOL_FILEPATH = \"../data/volatility_summary.csv\"\n",
    "print(\"#Test 1 - File exists\")\n",
    "assert os.path.exists(VOL_FILEPATH)\n",
    "\n",
    "print(\"\\n#Test 2 - Inspection\")\n",
    "vol_df = pd.read_csv(VOL_FILEPATH)\n",
    "print(f\"Shape of file: {vol_df.shape}\")\n",
    "display(vol_df.head())\n",
    "\n",
    "print(\"\\n#Test 3 - Corrupt rows:\")\n",
    "print(f\"NaNs:\\n{vol_df.isna().sum()}\")\n",
    "\n",
    "print(\"\\n#Test 4 - Sanity check on Rolling vols\")\n",
    "display(vol_df[\"RollingVol\"].describe())\n",
    "\n",
    "print(\"\\n#Test 5 - spot Check\")\n",
    "display(vol_df[vol_df[\"Ticker\"] == \"SMCI\"].tail())\n",
    "\n",
    "print(\"\\n#Test 6 - Number of Uniques\")\n",
    "display(vol_df[\"Ticker\"].nunique())\n",
    "\n"
   ]
  },
  {
   "cell_type": "code",
   "execution_count": 52,
   "metadata": {},
   "outputs": [
    {
     "data": {
      "text/html": [
       "<div>\n",
       "<style scoped>\n",
       "    .dataframe tbody tr th:only-of-type {\n",
       "        vertical-align: middle;\n",
       "    }\n",
       "\n",
       "    .dataframe tbody tr th {\n",
       "        vertical-align: top;\n",
       "    }\n",
       "\n",
       "    .dataframe thead th {\n",
       "        text-align: right;\n",
       "    }\n",
       "</style>\n",
       "<table border=\"1\" class=\"dataframe\">\n",
       "  <thead>\n",
       "    <tr style=\"text-align: right;\">\n",
       "      <th></th>\n",
       "      <th>Date</th>\n",
       "      <th>RollingVol</th>\n",
       "      <th>Ticker</th>\n",
       "    </tr>\n",
       "  </thead>\n",
       "  <tbody>\n",
       "    <tr>\n",
       "      <th>0</th>\n",
       "      <td>2015-02-17</td>\n",
       "      <td>0.268314</td>\n",
       "      <td>A</td>\n",
       "    </tr>\n",
       "    <tr>\n",
       "      <th>1</th>\n",
       "      <td>2015-02-18</td>\n",
       "      <td>0.271522</td>\n",
       "      <td>A</td>\n",
       "    </tr>\n",
       "    <tr>\n",
       "      <th>2</th>\n",
       "      <td>2015-02-19</td>\n",
       "      <td>0.268680</td>\n",
       "      <td>A</td>\n",
       "    </tr>\n",
       "    <tr>\n",
       "      <th>3</th>\n",
       "      <td>2015-02-20</td>\n",
       "      <td>0.271508</td>\n",
       "      <td>A</td>\n",
       "    </tr>\n",
       "    <tr>\n",
       "      <th>4</th>\n",
       "      <td>2015-02-23</td>\n",
       "      <td>0.259109</td>\n",
       "      <td>A</td>\n",
       "    </tr>\n",
       "  </tbody>\n",
       "</table>\n",
       "</div>"
      ],
      "text/plain": [
       "        Date  RollingVol Ticker\n",
       "0 2015-02-17    0.268314      A\n",
       "1 2015-02-18    0.271522      A\n",
       "2 2015-02-19    0.268680      A\n",
       "3 2015-02-20    0.271508      A\n",
       "4 2015-02-23    0.259109      A"
      ]
     },
     "execution_count": 52,
     "metadata": {},
     "output_type": "execute_result"
    }
   ],
   "source": [
    "# Load rolling volatility summary\n",
    "vol_df = pd.read_csv(\"../data/volatility_summary.csv\")\n",
    "vol_df[\"Date\"] = pd.to_datetime(vol_df[\"Date\"])\n",
    "\n",
    "# Preview\n",
    "vol_df.head()"
   ]
  },
  {
   "cell_type": "markdown",
   "metadata": {},
   "source": [
    "### Latest Vol"
   ]
  },
  {
   "cell_type": "code",
   "execution_count": 54,
   "metadata": {},
   "outputs": [
    {
     "name": "stdout",
     "output_type": "stream",
     "text": [
      "Retrieved latest vol for 500 tickers.\n"
     ]
    },
    {
     "data": {
      "text/html": [
       "<div>\n",
       "<style scoped>\n",
       "    .dataframe tbody tr th:only-of-type {\n",
       "        vertical-align: middle;\n",
       "    }\n",
       "\n",
       "    .dataframe tbody tr th {\n",
       "        vertical-align: top;\n",
       "    }\n",
       "\n",
       "    .dataframe thead th {\n",
       "        text-align: right;\n",
       "    }\n",
       "</style>\n",
       "<table border=\"1\" class=\"dataframe\">\n",
       "  <thead>\n",
       "    <tr style=\"text-align: right;\">\n",
       "      <th></th>\n",
       "      <th>Date</th>\n",
       "      <th>RollingVol</th>\n",
       "      <th>Ticker</th>\n",
       "    </tr>\n",
       "  </thead>\n",
       "  <tbody>\n",
       "    <tr>\n",
       "      <th>1082152</th>\n",
       "      <td>2024-04-29</td>\n",
       "      <td>0.141732</td>\n",
       "      <td>WDAY</td>\n",
       "    </tr>\n",
       "    <tr>\n",
       "      <th>817248</th>\n",
       "      <td>2024-04-29</td>\n",
       "      <td>0.192365</td>\n",
       "      <td>PCG</td>\n",
       "    </tr>\n",
       "    <tr>\n",
       "      <th>7767</th>\n",
       "      <td>2024-04-29</td>\n",
       "      <td>0.260405</td>\n",
       "      <td>ABNB</td>\n",
       "    </tr>\n",
       "    <tr>\n",
       "      <th>451146</th>\n",
       "      <td>2024-04-29</td>\n",
       "      <td>0.155377</td>\n",
       "      <td>GILD</td>\n",
       "    </tr>\n",
       "    <tr>\n",
       "      <th>65667</th>\n",
       "      <td>2024-04-29</td>\n",
       "      <td>0.190422</td>\n",
       "      <td>AMGN</td>\n",
       "    </tr>\n",
       "  </tbody>\n",
       "</table>\n",
       "</div>"
      ],
      "text/plain": [
       "              Date  RollingVol Ticker\n",
       "1082152 2024-04-29    0.141732   WDAY\n",
       "817248  2024-04-29    0.192365    PCG\n",
       "7767    2024-04-29    0.260405   ABNB\n",
       "451146  2024-04-29    0.155377   GILD\n",
       "65667   2024-04-29    0.190422   AMGN"
      ]
     },
     "execution_count": 54,
     "metadata": {},
     "output_type": "execute_result"
    }
   ],
   "source": [
    "# Get the latest date for each ticker\n",
    "latest_vol = vol_df.sort_values(\"Date\").groupby(\"Ticker\").tail(1)\n",
    "# Sanity check\n",
    "print(f\"Retrieved latest vol for {latest_vol.shape[0]} tickers.\")\n",
    "latest_vol.head()"
   ]
  },
  {
   "cell_type": "markdown",
   "metadata": {},
   "source": [
    "### Selection"
   ]
  },
  {
   "cell_type": "code",
   "execution_count": 56,
   "metadata": {},
   "outputs": [
    {
     "name": "stdout",
     "output_type": "stream",
     "text": [
      "Selected top 50 most volatile stocks.\n"
     ]
    },
    {
     "data": {
      "text/html": [
       "<div>\n",
       "<style scoped>\n",
       "    .dataframe tbody tr th:only-of-type {\n",
       "        vertical-align: middle;\n",
       "    }\n",
       "\n",
       "    .dataframe tbody tr th {\n",
       "        vertical-align: top;\n",
       "    }\n",
       "\n",
       "    .dataframe thead th {\n",
       "        text-align: right;\n",
       "    }\n",
       "</style>\n",
       "<table border=\"1\" class=\"dataframe\">\n",
       "  <thead>\n",
       "    <tr style=\"text-align: right;\">\n",
       "      <th></th>\n",
       "      <th>Date</th>\n",
       "      <th>RollingVol</th>\n",
       "      <th>Ticker</th>\n",
       "    </tr>\n",
       "  </thead>\n",
       "  <tbody>\n",
       "    <tr>\n",
       "      <th>455778</th>\n",
       "      <td>2024-04-29</td>\n",
       "      <td>2.357481</td>\n",
       "      <td>GL</td>\n",
       "    </tr>\n",
       "    <tr>\n",
       "      <th>924528</th>\n",
       "      <td>2024-04-29</td>\n",
       "      <td>1.056050</td>\n",
       "      <td>SMCI</td>\n",
       "    </tr>\n",
       "    <tr>\n",
       "      <th>807984</th>\n",
       "      <td>2024-04-29</td>\n",
       "      <td>0.857265</td>\n",
       "      <td>PARA</td>\n",
       "    </tr>\n",
       "    <tr>\n",
       "      <th>1010220</th>\n",
       "      <td>2024-04-29</td>\n",
       "      <td>0.705467</td>\n",
       "      <td>TSLA</td>\n",
       "    </tr>\n",
       "    <tr>\n",
       "      <th>652797</th>\n",
       "      <td>2024-04-29</td>\n",
       "      <td>0.675051</td>\n",
       "      <td>LW</td>\n",
       "    </tr>\n",
       "  </tbody>\n",
       "</table>\n",
       "</div>"
      ],
      "text/plain": [
       "              Date  RollingVol Ticker\n",
       "455778  2024-04-29    2.357481     GL\n",
       "924528  2024-04-29    1.056050   SMCI\n",
       "807984  2024-04-29    0.857265   PARA\n",
       "1010220 2024-04-29    0.705467   TSLA\n",
       "652797  2024-04-29    0.675051     LW"
      ]
     },
     "metadata": {},
     "output_type": "display_data"
    },
    {
     "name": "stdout",
     "output_type": "stream",
     "text": [
      "✅ Saved top 10% high-volatility tickers to high_vol_stocks.csv\n"
     ]
    }
   ],
   "source": [
    "## TODO: we will change this to Vol Breakouts...\n",
    "\n",
    "top_10pct = latest_vol.sort_values(\"RollingVol\", ascending=False)\n",
    "cutoff = int(0.10 * len(top_10pct))\n",
    "\n",
    "top_vol_stocks = top_10pct.head(cutoff)\n",
    "print(f\"Selected top {cutoff} most volatile stocks.\")\n",
    "display(top_vol_stocks.head())\n",
    "\n",
    "top_vol_stocks[[\"Ticker\", \"Date\", \"RollingVol\"]].to_csv(\n",
    "    \"../data/high_vol_stocks.csv\", index=False\n",
    ")\n",
    "\n",
    "print(\"✅ Saved top 10% high-volatility tickers to high_vol_stocks.csv\")"
   ]
  },
  {
   "cell_type": "markdown",
   "metadata": {},
   "source": [
    "## Visualisations"
   ]
  },
  {
   "cell_type": "code",
   "execution_count": null,
   "metadata": {},
   "outputs": [
    {
     "data": {
      "image/png": "[encoded data removed]",
      "text/plain": [
       "<Figure size 1000x600 with 1 Axes>"
      ]
     },
     "metadata": {},
     "output_type": "display_data"
    }
   ],
   "source": [
    "\n",
    "\n",
    "plt.figure(figsize=(10, 6))\n",
    "sns.histplot(latest_vol[\"RollingVol\"], bins=50, kde=True)\n",
    "plt.title(\"Distribution of Latest 30-Day Rolling Volatility\")\n",
    "plt.xlabel(\"Annualized Volatility\")\n",
    "plt.ylabel(\"Number of Stocks\")\n",
    "plt.grid(True)\n",
    "plt.show()\n"
   ]
  },
  {
   "cell_type": "code",
   "execution_count": null,
   "metadata": {},
   "outputs": [],
   "source": []
  },
  {
   "cell_type": "code",
   "execution_count": 48,
   "metadata": {},
   "outputs": [
    {
     "data": {
      "image/png": "[encoded data removed]",
      "text/plain": [
       "<Figure size 800x500 with 1 Axes>"
      ]
     },
     "metadata": {},
     "output_type": "display_data"
    }
   ],
   "source": [
    "plt.figure(figsize=(8, 5))\n",
    "sns.boxplot(x=latest_vol[\"RollingVol\"])\n",
    "plt.title(\"Boxplot of Latest 30-Day Rolling Volatility\")\n",
    "plt.xlabel(\"Annualized Volatility\")\n",
    "plt.grid(True)\n",
    "plt.show()"
   ]
  },
  {
   "cell_type": "code",
   "execution_count": 49,
   "metadata": {},
   "outputs": [
    {
     "data": {
      "image/png": "[encoded data removed]",
      "text/plain": [
       "<Figure size 1200x600 with 1 Axes>"
      ]
     },
     "metadata": {},
     "output_type": "display_data"
    }
   ],
   "source": [
    "ticker = \"AAPL\"\n",
    "df_plot = vol_df[vol_df[\"Ticker\"] == ticker]\n",
    "\n",
    "plt.figure(figsize=(12, 6))\n",
    "plt.plot(df_plot[\"Date\"], df_plot[\"RollingVol\"])\n",
    "plt.title(f\"30-Day Rolling Volatility Over Time for {ticker}\")\n",
    "plt.ylabel(\"Annualized Volatility\")\n",
    "plt.xlabel(\"Date\")\n",
    "plt.grid(True)\n",
    "plt.tight_layout()\n",
    "plt.show()"
   ]
  },
  {
   "cell_type": "code",
   "execution_count": 51,
   "metadata": {},
   "outputs": [
    {
     "name": "stderr",
     "output_type": "stream",
     "text": [
      "C:\\Users\\glade\\AppData\\Local\\Temp\\ipykernel_22312\\2904340361.py:4: FutureWarning: \n",
      "\n",
      "Passing `palette` without assigning `hue` is deprecated and will be removed in v0.14.0. Assign the `y` variable to `hue` and set `legend=False` for the same effect.\n",
      "\n",
      "  sns.barplot(data=top_25, x=\"RollingVol\", y=\"Ticker\", palette=\"rocket\")\n"
     ]
    },
    {
     "data": {
      "image/png": "[encoded data removed]",
      "text/plain": [
       "<Figure size 1000x600 with 1 Axes>"
      ]
     },
     "metadata": {},
     "output_type": "display_data"
    }
   ],
   "source": [
    "top_25 = latest_vol.sort_values(\"RollingVol\", ascending=False).head(25)\n",
    "\n",
    "plt.figure(figsize=(10, 6))\n",
    "sns.barplot(data=top_25, x=\"RollingVol\", y=\"Ticker\", palette=\"rocket\")\n",
    "plt.title(\"Top 25 Stocks by Latest 30-Day Volatility\")\n",
    "plt.xlabel(\"Annualized Volatility\")\n",
    "plt.ylabel(\"Ticker\")\n",
    "plt.grid(True)\n",
    "plt.tight_layout()\n",
    "plt.show()"
   ]
  },
  {
   "cell_type": "code",
   "execution_count": null,
   "metadata": {},
   "outputs": [],
   "source": []
  },
  {
   "cell_type": "markdown",
   "metadata": {},
   "source": [
    "## Load High Vol Stocks"
   ]
  },
  {
   "cell_type": "code",
   "execution_count": 57,
   "metadata": {},
   "outputs": [
    {
     "name": "stdout",
     "output_type": "stream",
     "text": [
      "Simulating for: GL\n"
     ]
    },
    {
     "data": {
      "text/html": [
       "<div>\n",
       "<style scoped>\n",
       "    .dataframe tbody tr th:only-of-type {\n",
       "        vertical-align: middle;\n",
       "    }\n",
       "\n",
       "    .dataframe tbody tr th {\n",
       "        vertical-align: top;\n",
       "    }\n",
       "\n",
       "    .dataframe thead th {\n",
       "        text-align: right;\n",
       "    }\n",
       "</style>\n",
       "<table border=\"1\" class=\"dataframe\">\n",
       "  <thead>\n",
       "    <tr style=\"text-align: right;\">\n",
       "      <th></th>\n",
       "      <th>Close</th>\n",
       "    </tr>\n",
       "    <tr>\n",
       "      <th>Date</th>\n",
       "      <th></th>\n",
       "    </tr>\n",
       "  </thead>\n",
       "  <tbody>\n",
       "    <tr>\n",
       "      <th>2015-01-02</th>\n",
       "      <td>49.653324</td>\n",
       "    </tr>\n",
       "    <tr>\n",
       "      <th>2015-01-05</th>\n",
       "      <td>48.764046</td>\n",
       "    </tr>\n",
       "    <tr>\n",
       "      <th>2015-01-06</th>\n",
       "      <td>48.103958</td>\n",
       "    </tr>\n",
       "    <tr>\n",
       "      <th>2015-01-07</th>\n",
       "      <td>48.158966</td>\n",
       "    </tr>\n",
       "    <tr>\n",
       "      <th>2015-01-08</th>\n",
       "      <td>48.901569</td>\n",
       "    </tr>\n",
       "  </tbody>\n",
       "</table>\n",
       "</div>"
      ],
      "text/plain": [
       "                Close\n",
       "Date                 \n",
       "2015-01-02  49.653324\n",
       "2015-01-05  48.764046\n",
       "2015-01-06  48.103958\n",
       "2015-01-07  48.158966\n",
       "2015-01-08  48.901569"
      ]
     },
     "execution_count": 57,
     "metadata": {},
     "output_type": "execute_result"
    }
   ],
   "source": [
    "import pandas as pd\n",
    "import os\n",
    "\n",
    "# Load screened high-vol stocks\n",
    "high_vol = pd.read_csv(\"../data/high_vol_stocks.csv\")\n",
    "\n",
    "# Pick one ticker to test\n",
    "ticker = high_vol[\"Ticker\"].iloc[0]\n",
    "print(f\"Simulating for: {ticker}\")\n",
    "\n",
    "# Load that stock's price data\n",
    "price_path = f\"../data/stock_prices/{ticker}.csv\"\n",
    "df = pd.read_csv(price_path, parse_dates=[\"Date\"])\n",
    "df = df.sort_values(\"Date\").set_index(\"Date\")\n",
    "\n",
    "df = df[[\"Close\"]]  # Keep it simple\n",
    "df.head()\n"
   ]
  },
  {
   "cell_type": "markdown",
   "metadata": {},
   "source": [
    "## Black Scholes"
   ]
  },
  {
   "cell_type": "code",
   "execution_count": 74,
   "metadata": {},
   "outputs": [],
   "source": [
    "from scipy.stats import norm\n",
    "import numpy as np\n",
    "\n",
    "def black_scholes_call_price(S, K, T, r, sigma):\n",
    "    \"\"\"\n",
    "    Black-Scholes formula for a European call option.\n",
    "\n",
    "    Parameters:\n",
    "    - S: Spot price (entry price of the stock)\n",
    "    - K: Strike price (OTM call)\n",
    "    - T: Time to maturity (in years)\n",
    "    - r: Risk-free rate (e.g., 0.02)\n",
    "    - sigma: Volatility (annualized)\n",
    "\n",
    "    Returns:\n",
    "    - Call option price (fair value)\n",
    "    \"\"\"\n",
    "    if T <= 0 or sigma <= 0:\n",
    "        return 0.0  # Handle edge cases\n",
    "    \n",
    "    d1 = (np.log(S / K) + (r + 0.5 * sigma**2) * T) / (sigma * np.sqrt(T))\n",
    "    d2 = d1 - sigma * np.sqrt(T)\n",
    "\n",
    "    call_price = S * norm.cdf(d1) - K * np.exp(-r * T) * norm.cdf(d2)\n",
    "    return call_price\n"
   ]
  },
  {
   "cell_type": "markdown",
   "metadata": {},
   "source": [
    "## Simulation"
   ]
  },
  {
   "cell_type": "code",
   "execution_count": 114,
   "metadata": {},
   "outputs": [],
   "source": [
    "def simulate_buy_write(df, notional, call_otm_pct=0.02, option_days=21,vol_lookback_days=30):\n",
    "    \"\"\"\n",
    "    Simulates a buy-write strategy on a single stock DataFrame.\n",
    "    \n",
    "    Parameters:\n",
    "    - df: DataFrame with Date index and a 'Close' column\n",
    "    - call_otm_pct: Percentage above spot to set the strike price\n",
    "    - option_days: Holding period in trading days (approx 21 for 1 month)\n",
    "\n",
    "    Returns:\n",
    "    - DataFrame of trade-level results\n",
    "    \"\"\"\n",
    "\n",
    "    trades = []\n",
    "\n",
    "    df = df.sort_index()  # Ensure date order\n",
    "    returns = df[\"Close\"].pct_change().rolling(vol_lookback_days).std() * np.sqrt(252)\n",
    "\n",
    "    valid_start = vol_lookback_days + 1\n",
    "    i = valid_start\n",
    "    while i < len(df) - option_days:\n",
    "        \n",
    "        # Parameters\n",
    "        T = option_days / 252\n",
    "        r = 0.02  # risk-free rate\n",
    "        sigma = returns.iloc[i]  # historical vol proxy\n",
    "\n",
    "        entry_date = df.index[i]\n",
    "        expiry_date = df.index[i + option_days]\n",
    "\n",
    "        entry_price = df[\"Close\"].iloc[i]\n",
    "        spot_price_close = df[\"Close\"].iloc[i + option_days]\n",
    "        strike = entry_price * (1 + call_otm_pct)\n",
    "\n",
    "        # Defensive handling\n",
    "        if np.isnan(sigma) or sigma <= 0:\n",
    "            premium = 0.0\n",
    "        else:\n",
    "            premium = black_scholes_call_price(entry_price, strike, T, r, sigma)\n",
    "        \n",
    "        if spot_price_close > strike:\n",
    "            # Option is in the money, stock is called away at strike\n",
    "            exit_price = strike\n",
    "            outcome = \"Called\"\n",
    "            pnl_stock = strike - entry_price\n",
    "            pnl_unrealized = 0\n",
    "            pnl_realized = pnl_stock + premium\n",
    "        else:\n",
    "            # Option expires OTM, you keep the stock\n",
    "            exit_price = spot_price_close\n",
    "            outcome = \"Not Called\"\n",
    "            pnl_stock = spot_price_close - entry_price\n",
    "            pnl_unrealized = pnl_stock\n",
    "            pnl_realized = premium\n",
    "\n",
    "        pnl_call = premium\n",
    "        pnl_total = pnl_call + pnl_stock\n",
    "        pnl_percent = pnl_total / notional\n",
    "        quantity = notional / entry_price\n",
    "\n",
    "        trades.append({\n",
    "            \"NumberShares\":quantity,\n",
    "            \"EntryDate\": entry_date,\n",
    "            \"EntryPrice\": entry_price,\n",
    "            \"ExpiryDate\": expiry_date,\n",
    "            \"ExitPrice\": exit_price,  # Actual exit execution price\n",
    "            \"SpotPrice_Close\": spot_price_close,\n",
    "            \"Strike\": strike,\n",
    "            \"Premium\": premium,\n",
    "            \"Outcome\": outcome,\n",
    "            \"PnL_Call\": pnl_call,\n",
    "            \"PnL_Stock\": pnl_stock,\n",
    "            \"PnL_Realized\": pnl_realized,\n",
    "            \"PnL_Unrealized\": pnl_unrealized,\n",
    "            \"PnL_Total\": pnl_total,\n",
    "            \"PnL_Percent\": pnl_percent,\n",
    "            \"PnL_Call_Position\": pnl_call * quantity,\n",
    "            \"PnL_Stock_Position\": pnl_stock * quantity,\n",
    "            \"PnL_Realized_Position\": pnl_realized * quantity,\n",
    "            \"PnL_Unrealized_Position\": pnl_unrealized * quantity,\n",
    "            \"PnL_Total_position\": pnl_total * quantity,\n",
    "        })\n",
    "\n",
    "        i += option_days  # Move to next round\n",
    "\n",
    "    return pd.DataFrame(trades)\n"
   ]
  },
  {
   "cell_type": "code",
   "execution_count": 115,
   "metadata": {},
   "outputs": [
    {
     "data": {
      "text/html": [
       "<div>\n",
       "<style scoped>\n",
       "    .dataframe tbody tr th:only-of-type {\n",
       "        vertical-align: middle;\n",
       "    }\n",
       "\n",
       "    .dataframe tbody tr th {\n",
       "        vertical-align: top;\n",
       "    }\n",
       "\n",
       "    .dataframe thead th {\n",
       "        text-align: right;\n",
       "    }\n",
       "</style>\n",
       "<table border=\"1\" class=\"dataframe\">\n",
       "  <thead>\n",
       "    <tr style=\"text-align: right;\">\n",
       "      <th></th>\n",
       "      <th>NumberShares</th>\n",
       "      <th>EntryDate</th>\n",
       "      <th>EntryPrice</th>\n",
       "      <th>ExpiryDate</th>\n",
       "      <th>ExitPrice</th>\n",
       "      <th>SpotPrice_Close</th>\n",
       "      <th>Strike</th>\n",
       "      <th>Premium</th>\n",
       "      <th>Outcome</th>\n",
       "      <th>PnL_Call</th>\n",
       "      <th>PnL_Stock</th>\n",
       "      <th>PnL_Realized</th>\n",
       "      <th>PnL_Unrealized</th>\n",
       "      <th>PnL_Total</th>\n",
       "      <th>PnL_Percent</th>\n",
       "      <th>PnL_Call_Position</th>\n",
       "      <th>PnL_Stock_Position</th>\n",
       "      <th>PnL_Realized_Position</th>\n",
       "      <th>PnL_Unrealized_Position</th>\n",
       "      <th>PnL_Total_position</th>\n",
       "    </tr>\n",
       "  </thead>\n",
       "  <tbody>\n",
       "    <tr>\n",
       "      <th>0</th>\n",
       "      <td>203.008199</td>\n",
       "      <td>2015-02-18</td>\n",
       "      <td>49.259094</td>\n",
       "      <td>2015-03-19</td>\n",
       "      <td>50.244276</td>\n",
       "      <td>50.331749</td>\n",
       "      <td>50.244276</td>\n",
       "      <td>0.615658</td>\n",
       "      <td>Called</td>\n",
       "      <td>0.615658</td>\n",
       "      <td>0.985182</td>\n",
       "      <td>1.600840</td>\n",
       "      <td>0.000000</td>\n",
       "      <td>1.600840</td>\n",
       "      <td>0.000160</td>\n",
       "      <td>124.983623</td>\n",
       "      <td>200.000000</td>\n",
       "      <td>324.983623</td>\n",
       "      <td>0.000000</td>\n",
       "      <td>324.983623</td>\n",
       "    </tr>\n",
       "    <tr>\n",
       "      <th>1</th>\n",
       "      <td>198.681751</td>\n",
       "      <td>2015-03-19</td>\n",
       "      <td>50.331749</td>\n",
       "      <td>2015-04-20</td>\n",
       "      <td>51.338384</td>\n",
       "      <td>52.072613</td>\n",
       "      <td>51.338384</td>\n",
       "      <td>0.358550</td>\n",
       "      <td>Called</td>\n",
       "      <td>0.358550</td>\n",
       "      <td>1.006635</td>\n",
       "      <td>1.365185</td>\n",
       "      <td>0.000000</td>\n",
       "      <td>1.365185</td>\n",
       "      <td>0.000137</td>\n",
       "      <td>71.237437</td>\n",
       "      <td>200.000000</td>\n",
       "      <td>271.237437</td>\n",
       "      <td>0.000000</td>\n",
       "      <td>271.237437</td>\n",
       "    </tr>\n",
       "    <tr>\n",
       "      <th>2</th>\n",
       "      <td>192.039528</td>\n",
       "      <td>2015-04-20</td>\n",
       "      <td>52.072613</td>\n",
       "      <td>2015-05-19</td>\n",
       "      <td>52.991642</td>\n",
       "      <td>52.991642</td>\n",
       "      <td>53.114065</td>\n",
       "      <td>0.344876</td>\n",
       "      <td>Not Called</td>\n",
       "      <td>0.344876</td>\n",
       "      <td>0.919029</td>\n",
       "      <td>0.344876</td>\n",
       "      <td>0.919029</td>\n",
       "      <td>1.263905</td>\n",
       "      <td>0.000126</td>\n",
       "      <td>66.229759</td>\n",
       "      <td>176.489941</td>\n",
       "      <td>66.229759</td>\n",
       "      <td>176.489941</td>\n",
       "      <td>242.719700</td>\n",
       "    </tr>\n",
       "    <tr>\n",
       "      <th>3</th>\n",
       "      <td>188.709004</td>\n",
       "      <td>2015-05-19</td>\n",
       "      <td>52.991642</td>\n",
       "      <td>2015-06-18</td>\n",
       "      <td>54.051475</td>\n",
       "      <td>54.168011</td>\n",
       "      <td>54.051475</td>\n",
       "      <td>0.196697</td>\n",
       "      <td>Called</td>\n",
       "      <td>0.196697</td>\n",
       "      <td>1.059833</td>\n",
       "      <td>1.256530</td>\n",
       "      <td>0.000000</td>\n",
       "      <td>1.256530</td>\n",
       "      <td>0.000126</td>\n",
       "      <td>37.118478</td>\n",
       "      <td>200.000000</td>\n",
       "      <td>237.118478</td>\n",
       "      <td>0.000000</td>\n",
       "      <td>237.118478</td>\n",
       "    </tr>\n",
       "    <tr>\n",
       "      <th>4</th>\n",
       "      <td>184.610804</td>\n",
       "      <td>2015-06-18</td>\n",
       "      <td>54.168011</td>\n",
       "      <td>2015-07-20</td>\n",
       "      <td>55.251371</td>\n",
       "      <td>55.621258</td>\n",
       "      <td>55.251371</td>\n",
       "      <td>0.220724</td>\n",
       "      <td>Called</td>\n",
       "      <td>0.220724</td>\n",
       "      <td>1.083360</td>\n",
       "      <td>1.304084</td>\n",
       "      <td>0.000000</td>\n",
       "      <td>1.304084</td>\n",
       "      <td>0.000130</td>\n",
       "      <td>40.748060</td>\n",
       "      <td>200.000000</td>\n",
       "      <td>240.748060</td>\n",
       "      <td>0.000000</td>\n",
       "      <td>240.748060</td>\n",
       "    </tr>\n",
       "  </tbody>\n",
       "</table>\n",
       "</div>"
      ],
      "text/plain": [
       "   NumberShares  EntryDate  EntryPrice ExpiryDate  ExitPrice  SpotPrice_Close  \\\n",
       "0    203.008199 2015-02-18   49.259094 2015-03-19  50.244276        50.331749   \n",
       "1    198.681751 2015-03-19   50.331749 2015-04-20  51.338384        52.072613   \n",
       "2    192.039528 2015-04-20   52.072613 2015-05-19  52.991642        52.991642   \n",
       "3    188.709004 2015-05-19   52.991642 2015-06-18  54.051475        54.168011   \n",
       "4    184.610804 2015-06-18   54.168011 2015-07-20  55.251371        55.621258   \n",
       "\n",
       "      Strike   Premium     Outcome  PnL_Call  PnL_Stock  PnL_Realized  \\\n",
       "0  50.244276  0.615658      Called  0.615658   0.985182      1.600840   \n",
       "1  51.338384  0.358550      Called  0.358550   1.006635      1.365185   \n",
       "2  53.114065  0.344876  Not Called  0.344876   0.919029      0.344876   \n",
       "3  54.051475  0.196697      Called  0.196697   1.059833      1.256530   \n",
       "4  55.251371  0.220724      Called  0.220724   1.083360      1.304084   \n",
       "\n",
       "   PnL_Unrealized  PnL_Total  PnL_Percent  PnL_Call_Position  \\\n",
       "0        0.000000   1.600840     0.000160         124.983623   \n",
       "1        0.000000   1.365185     0.000137          71.237437   \n",
       "2        0.919029   1.263905     0.000126          66.229759   \n",
       "3        0.000000   1.256530     0.000126          37.118478   \n",
       "4        0.000000   1.304084     0.000130          40.748060   \n",
       "\n",
       "   PnL_Stock_Position  PnL_Realized_Position  PnL_Unrealized_Position  \\\n",
       "0          200.000000             324.983623                 0.000000   \n",
       "1          200.000000             271.237437                 0.000000   \n",
       "2          176.489941              66.229759               176.489941   \n",
       "3          200.000000             237.118478                 0.000000   \n",
       "4          200.000000             240.748060                 0.000000   \n",
       "\n",
       "   PnL_Total_position  \n",
       "0          324.983623  \n",
       "1          271.237437  \n",
       "2          242.719700  \n",
       "3          237.118478  \n",
       "4          240.748060  "
      ]
     },
     "execution_count": 115,
     "metadata": {},
     "output_type": "execute_result"
    }
   ],
   "source": [
    "results = simulate_buy_write(df,notional=10_000)\n",
    "results.head()"
   ]
  },
  {
   "cell_type": "markdown",
   "metadata": {},
   "source": [
    "## Simulation Loop"
   ]
  },
  {
   "cell_type": "code",
   "execution_count": 116,
   "metadata": {},
   "outputs": [],
   "source": [
    "import os\n",
    "import pandas as pd\n",
    "\n",
    "def run_simulations_on_ticker_list(ticker_list, price_dir, output_path, simulation_func):\n",
    "    \"\"\"\n",
    "    Runs a buy-write simulation across a list of tickers and writes combined results.\n",
    "\n",
    "    Parameters:\n",
    "    - ticker_list: List of tickers\n",
    "    - price_dir: Path to folder with individual .csv price files\n",
    "    - output_path: Where to save combined trade log\n",
    "    - simulation_func: The buy-write simulation function to use\n",
    "    \"\"\"\n",
    "\n",
    "    all_trades = []\n",
    "\n",
    "    for ticker in ticker_list:\n",
    "        file_path = os.path.join(price_dir, f\"{ticker}.csv\")\n",
    "        if not os.path.exists(file_path):\n",
    "            print(f\"⚠️ File not found: {file_path}\")\n",
    "            continue\n",
    "\n",
    "        try:\n",
    "            df = pd.read_csv(file_path, parse_dates=[\"Date\"], index_col=\"Date\")\n",
    "            df = df.sort_index()\n",
    "            trades = simulation_func(df)\n",
    "            trades[\"Ticker\"] = ticker\n",
    "            all_trades.append(trades)\n",
    "\n",
    "        except Exception as e:\n",
    "            print(f\"❌ Error processing {ticker}: {e}\")\n",
    "            continue\n",
    "\n",
    "    # Combine and save\n",
    "    combined = pd.concat(all_trades, ignore_index=True)\n",
    "    combined.to_csv(output_path, index=False)\n",
    "    print(f\"✅ Saved combined trade log to: {output_path}\")\n",
    "    return combined\n"
   ]
  },
  {
   "cell_type": "code",
   "execution_count": 117,
   "metadata": {},
   "outputs": [
    {
     "name": "stdout",
     "output_type": "stream",
     "text": [
      "❌ Error processing GL: simulate_buy_write() missing 1 required positional argument: 'notional'\n",
      "❌ Error processing SMCI: simulate_buy_write() missing 1 required positional argument: 'notional'\n",
      "❌ Error processing PARA: simulate_buy_write() missing 1 required positional argument: 'notional'\n",
      "❌ Error processing TSLA: simulate_buy_write() missing 1 required positional argument: 'notional'\n",
      "❌ Error processing LW: simulate_buy_write() missing 1 required positional argument: 'notional'\n",
      "❌ Error processing UAL: simulate_buy_write() missing 1 required positional argument: 'notional'\n",
      "❌ Error processing RMD: simulate_buy_write() missing 1 required positional argument: 'notional'\n",
      "❌ Error processing ENPH: simulate_buy_write() missing 1 required positional argument: 'notional'\n",
      "❌ Error processing MU: simulate_buy_write() missing 1 required positional argument: 'notional'\n",
      "❌ Error processing LULU: simulate_buy_write() missing 1 required positional argument: 'notional'\n",
      "❌ Error processing ALB: simulate_buy_write() missing 1 required positional argument: 'notional'\n",
      "❌ Error processing ULTA: simulate_buy_write() missing 1 required positional argument: 'notional'\n",
      "❌ Error processing NVDA: simulate_buy_write() missing 1 required positional argument: 'notional'\n",
      "❌ Error processing LKQ: simulate_buy_write() missing 1 required positional argument: 'notional'\n",
      "❌ Error processing VST: simulate_buy_write() missing 1 required positional argument: 'notional'\n",
      "❌ Error processing ODFL: simulate_buy_write() missing 1 required positional argument: 'notional'\n",
      "❌ Error processing MSCI: simulate_buy_write() missing 1 required positional argument: 'notional'\n",
      "❌ Error processing IP: simulate_buy_write() missing 1 required positional argument: 'notional'\n",
      "❌ Error processing ANET: simulate_buy_write() missing 1 required positional argument: 'notional'\n",
      "❌ Error processing NCLH: simulate_buy_write() missing 1 required positional argument: 'notional'\n",
      "❌ Error processing DELL: simulate_buy_write() missing 1 required positional argument: 'notional'\n",
      "❌ Error processing HUM: simulate_buy_write() missing 1 required positional argument: 'notional'\n",
      "❌ Error processing TER: simulate_buy_write() missing 1 required positional argument: 'notional'\n",
      "❌ Error processing INTC: simulate_buy_write() missing 1 required positional argument: 'notional'\n",
      "❌ Error processing AMD: simulate_buy_write() missing 1 required positional argument: 'notional'\n",
      "❌ Error processing NEM: simulate_buy_write() missing 1 required positional argument: 'notional'\n",
      "❌ Error processing DXCM: simulate_buy_write() missing 1 required positional argument: 'notional'\n",
      "❌ Error processing WBA: simulate_buy_write() missing 1 required positional argument: 'notional'\n",
      "❌ Error processing META: simulate_buy_write() missing 1 required positional argument: 'notional'\n",
      "❌ Error processing GE: simulate_buy_write() missing 1 required positional argument: 'notional'\n",
      "❌ Error processing ON: simulate_buy_write() missing 1 required positional argument: 'notional'\n",
      "❌ Error processing BXP: simulate_buy_write() missing 1 required positional argument: 'notional'\n",
      "❌ Error processing KMX: simulate_buy_write() missing 1 required positional argument: 'notional'\n",
      "❌ Error processing HAS: simulate_buy_write() missing 1 required positional argument: 'notional'\n",
      "❌ Error processing CSGP: simulate_buy_write() missing 1 required positional argument: 'notional'\n",
      "❌ Error processing NFLX: simulate_buy_write() missing 1 required positional argument: 'notional'\n",
      "❌ Error processing TDY: simulate_buy_write() missing 1 required positional argument: 'notional'\n",
      "❌ Error processing MPWR: simulate_buy_write() missing 1 required positional argument: 'notional'\n",
      "❌ Error processing MRNA: simulate_buy_write() missing 1 required positional argument: 'notional'\n",
      "❌ Error processing WDC: simulate_buy_write() missing 1 required positional argument: 'notional'\n",
      "❌ Error processing AVGO: simulate_buy_write() missing 1 required positional argument: 'notional'\n",
      "❌ Error processing GOOGL: simulate_buy_write() missing 1 required positional argument: 'notional'\n",
      "❌ Error processing CZR: simulate_buy_write() missing 1 required positional argument: 'notional'\n",
      "❌ Error processing FSLR: simulate_buy_write() missing 1 required positional argument: 'notional'\n",
      "❌ Error processing EL: simulate_buy_write() missing 1 required positional argument: 'notional'\n",
      "❌ Error processing F: simulate_buy_write() missing 1 required positional argument: 'notional'\n",
      "❌ Error processing DECK: simulate_buy_write() missing 1 required positional argument: 'notional'\n",
      "❌ Error processing GOOG: simulate_buy_write() missing 1 required positional argument: 'notional'\n",
      "❌ Error processing EFX: simulate_buy_write() missing 1 required positional argument: 'notional'\n",
      "❌ Error processing AES: simulate_buy_write() missing 1 required positional argument: 'notional'\n"
     ]
    },
    {
     "ename": "ValueError",
     "evalue": "No objects to concatenate",
     "output_type": "error",
     "traceback": [
      "\u001b[1;31m---------------------------------------------------------------------------\u001b[0m",
      "\u001b[1;31mValueError\u001b[0m                                Traceback (most recent call last)",
      "Cell \u001b[1;32mIn[117], line 6\u001b[0m\n\u001b[0;32m      3\u001b[0m top_tickers \u001b[38;5;241m=\u001b[39m tickers_df[\u001b[38;5;124m\"\u001b[39m\u001b[38;5;124mTicker\u001b[39m\u001b[38;5;124m\"\u001b[39m]\u001b[38;5;241m.\u001b[39munique()\u001b[38;5;241m.\u001b[39mtolist()\n\u001b[0;32m      5\u001b[0m \u001b[38;5;66;03m# Run the simulation across all tickers\u001b[39;00m\n\u001b[1;32m----> 6\u001b[0m trade_log \u001b[38;5;241m=\u001b[39m \u001b[43mrun_simulations_on_ticker_list\u001b[49m\u001b[43m(\u001b[49m\n\u001b[0;32m      7\u001b[0m \u001b[43m    \u001b[49m\u001b[43mticker_list\u001b[49m\u001b[38;5;241;43m=\u001b[39;49m\u001b[43mtop_tickers\u001b[49m\u001b[43m,\u001b[49m\n\u001b[0;32m      8\u001b[0m \u001b[43m    \u001b[49m\u001b[43mprice_dir\u001b[49m\u001b[38;5;241;43m=\u001b[39;49m\u001b[38;5;124;43m\"\u001b[39;49m\u001b[38;5;124;43m../data/stock_prices\u001b[39;49m\u001b[38;5;124;43m\"\u001b[39;49m\u001b[43m,\u001b[49m\n\u001b[0;32m      9\u001b[0m \u001b[43m    \u001b[49m\u001b[43moutput_path\u001b[49m\u001b[38;5;241;43m=\u001b[39;49m\u001b[38;5;124;43m\"\u001b[39;49m\u001b[38;5;124;43m../data/trade_log.csv\u001b[39;49m\u001b[38;5;124;43m\"\u001b[39;49m\u001b[43m,\u001b[49m\n\u001b[0;32m     10\u001b[0m \u001b[43m    \u001b[49m\u001b[43msimulation_func\u001b[49m\u001b[38;5;241;43m=\u001b[39;49m\u001b[43msimulate_buy_write\u001b[49m\n\u001b[0;32m     11\u001b[0m \u001b[43m)\u001b[49m\n",
      "Cell \u001b[1;32mIn[116], line 35\u001b[0m, in \u001b[0;36mrun_simulations_on_ticker_list\u001b[1;34m(ticker_list, price_dir, output_path, simulation_func)\u001b[0m\n\u001b[0;32m     32\u001b[0m         \u001b[38;5;28;01mcontinue\u001b[39;00m\n\u001b[0;32m     34\u001b[0m \u001b[38;5;66;03m# Combine and save\u001b[39;00m\n\u001b[1;32m---> 35\u001b[0m combined \u001b[38;5;241m=\u001b[39m \u001b[43mpd\u001b[49m\u001b[38;5;241;43m.\u001b[39;49m\u001b[43mconcat\u001b[49m\u001b[43m(\u001b[49m\u001b[43mall_trades\u001b[49m\u001b[43m,\u001b[49m\u001b[43m \u001b[49m\u001b[43mignore_index\u001b[49m\u001b[38;5;241;43m=\u001b[39;49m\u001b[38;5;28;43;01mTrue\u001b[39;49;00m\u001b[43m)\u001b[49m\n\u001b[0;32m     36\u001b[0m combined\u001b[38;5;241m.\u001b[39mto_csv(output_path, index\u001b[38;5;241m=\u001b[39m\u001b[38;5;28;01mFalse\u001b[39;00m)\n\u001b[0;32m     37\u001b[0m \u001b[38;5;28mprint\u001b[39m(\u001b[38;5;124mf\u001b[39m\u001b[38;5;124m\"\u001b[39m\u001b[38;5;124m✅ Saved combined trade log to: \u001b[39m\u001b[38;5;132;01m{\u001b[39;00moutput_path\u001b[38;5;132;01m}\u001b[39;00m\u001b[38;5;124m\"\u001b[39m)\n",
      "File \u001b[1;32mc:\\Users\\glade\\anaconda3\\envs\\BuyWriteProject\\lib\\site-packages\\pandas\\core\\reshape\\concat.py:382\u001b[0m, in \u001b[0;36mconcat\u001b[1;34m(objs, axis, join, ignore_index, keys, levels, names, verify_integrity, sort, copy)\u001b[0m\n\u001b[0;32m    379\u001b[0m \u001b[38;5;28;01melif\u001b[39;00m copy \u001b[38;5;129;01mand\u001b[39;00m using_copy_on_write():\n\u001b[0;32m    380\u001b[0m     copy \u001b[38;5;241m=\u001b[39m \u001b[38;5;28;01mFalse\u001b[39;00m\n\u001b[1;32m--> 382\u001b[0m op \u001b[38;5;241m=\u001b[39m \u001b[43m_Concatenator\u001b[49m\u001b[43m(\u001b[49m\n\u001b[0;32m    383\u001b[0m \u001b[43m    \u001b[49m\u001b[43mobjs\u001b[49m\u001b[43m,\u001b[49m\n\u001b[0;32m    384\u001b[0m \u001b[43m    \u001b[49m\u001b[43maxis\u001b[49m\u001b[38;5;241;43m=\u001b[39;49m\u001b[43maxis\u001b[49m\u001b[43m,\u001b[49m\n\u001b[0;32m    385\u001b[0m \u001b[43m    \u001b[49m\u001b[43mignore_index\u001b[49m\u001b[38;5;241;43m=\u001b[39;49m\u001b[43mignore_index\u001b[49m\u001b[43m,\u001b[49m\n\u001b[0;32m    386\u001b[0m \u001b[43m    \u001b[49m\u001b[43mjoin\u001b[49m\u001b[38;5;241;43m=\u001b[39;49m\u001b[43mjoin\u001b[49m\u001b[43m,\u001b[49m\n\u001b[0;32m    387\u001b[0m \u001b[43m    \u001b[49m\u001b[43mkeys\u001b[49m\u001b[38;5;241;43m=\u001b[39;49m\u001b[43mkeys\u001b[49m\u001b[43m,\u001b[49m\n\u001b[0;32m    388\u001b[0m \u001b[43m    \u001b[49m\u001b[43mlevels\u001b[49m\u001b[38;5;241;43m=\u001b[39;49m\u001b[43mlevels\u001b[49m\u001b[43m,\u001b[49m\n\u001b[0;32m    389\u001b[0m \u001b[43m    \u001b[49m\u001b[43mnames\u001b[49m\u001b[38;5;241;43m=\u001b[39;49m\u001b[43mnames\u001b[49m\u001b[43m,\u001b[49m\n\u001b[0;32m    390\u001b[0m \u001b[43m    \u001b[49m\u001b[43mverify_integrity\u001b[49m\u001b[38;5;241;43m=\u001b[39;49m\u001b[43mverify_integrity\u001b[49m\u001b[43m,\u001b[49m\n\u001b[0;32m    391\u001b[0m \u001b[43m    \u001b[49m\u001b[43mcopy\u001b[49m\u001b[38;5;241;43m=\u001b[39;49m\u001b[43mcopy\u001b[49m\u001b[43m,\u001b[49m\n\u001b[0;32m    392\u001b[0m \u001b[43m    \u001b[49m\u001b[43msort\u001b[49m\u001b[38;5;241;43m=\u001b[39;49m\u001b[43msort\u001b[49m\u001b[43m,\u001b[49m\n\u001b[0;32m    393\u001b[0m \u001b[43m\u001b[49m\u001b[43m)\u001b[49m\n\u001b[0;32m    395\u001b[0m \u001b[38;5;28;01mreturn\u001b[39;00m op\u001b[38;5;241m.\u001b[39mget_result()\n",
      "File \u001b[1;32mc:\\Users\\glade\\anaconda3\\envs\\BuyWriteProject\\lib\\site-packages\\pandas\\core\\reshape\\concat.py:445\u001b[0m, in \u001b[0;36m_Concatenator.__init__\u001b[1;34m(self, objs, axis, join, keys, levels, names, ignore_index, verify_integrity, copy, sort)\u001b[0m\n\u001b[0;32m    442\u001b[0m \u001b[38;5;28mself\u001b[39m\u001b[38;5;241m.\u001b[39mverify_integrity \u001b[38;5;241m=\u001b[39m verify_integrity\n\u001b[0;32m    443\u001b[0m \u001b[38;5;28mself\u001b[39m\u001b[38;5;241m.\u001b[39mcopy \u001b[38;5;241m=\u001b[39m copy\n\u001b[1;32m--> 445\u001b[0m objs, keys \u001b[38;5;241m=\u001b[39m \u001b[38;5;28;43mself\u001b[39;49m\u001b[38;5;241;43m.\u001b[39;49m\u001b[43m_clean_keys_and_objs\u001b[49m\u001b[43m(\u001b[49m\u001b[43mobjs\u001b[49m\u001b[43m,\u001b[49m\u001b[43m \u001b[49m\u001b[43mkeys\u001b[49m\u001b[43m)\u001b[49m\n\u001b[0;32m    447\u001b[0m \u001b[38;5;66;03m# figure out what our result ndim is going to be\u001b[39;00m\n\u001b[0;32m    448\u001b[0m ndims \u001b[38;5;241m=\u001b[39m \u001b[38;5;28mself\u001b[39m\u001b[38;5;241m.\u001b[39m_get_ndims(objs)\n",
      "File \u001b[1;32mc:\\Users\\glade\\anaconda3\\envs\\BuyWriteProject\\lib\\site-packages\\pandas\\core\\reshape\\concat.py:507\u001b[0m, in \u001b[0;36m_Concatenator._clean_keys_and_objs\u001b[1;34m(self, objs, keys)\u001b[0m\n\u001b[0;32m    504\u001b[0m     objs_list \u001b[38;5;241m=\u001b[39m \u001b[38;5;28mlist\u001b[39m(objs)\n\u001b[0;32m    506\u001b[0m \u001b[38;5;28;01mif\u001b[39;00m \u001b[38;5;28mlen\u001b[39m(objs_list) \u001b[38;5;241m==\u001b[39m \u001b[38;5;241m0\u001b[39m:\n\u001b[1;32m--> 507\u001b[0m     \u001b[38;5;28;01mraise\u001b[39;00m \u001b[38;5;167;01mValueError\u001b[39;00m(\u001b[38;5;124m\"\u001b[39m\u001b[38;5;124mNo objects to concatenate\u001b[39m\u001b[38;5;124m\"\u001b[39m)\n\u001b[0;32m    509\u001b[0m \u001b[38;5;28;01mif\u001b[39;00m keys \u001b[38;5;129;01mis\u001b[39;00m \u001b[38;5;28;01mNone\u001b[39;00m:\n\u001b[0;32m    510\u001b[0m     objs_list \u001b[38;5;241m=\u001b[39m \u001b[38;5;28mlist\u001b[39m(com\u001b[38;5;241m.\u001b[39mnot_none(\u001b[38;5;241m*\u001b[39mobjs_list))\n",
      "\u001b[1;31mValueError\u001b[0m: No objects to concatenate"
     ]
    }
   ],
   "source": [
    "# Load your top-vol ticker list\n",
    "tickers_df = pd.read_csv(\"../data/high_vol_stocks.csv\")\n",
    "top_tickers = tickers_df[\"Ticker\"].unique().tolist()\n",
    "\n",
    "# Run the simulation across all tickers\n",
    "trade_log = run_simulations_on_ticker_list(\n",
    "    ticker_list=top_tickers,\n",
    "    price_dir=\"../data/stock_prices\",\n",
    "    output_path=\"../data/trade_log.csv\",\n",
    "    simulation_func=simulate_buy_write\n",
    ")"
   ]
  },
  {
   "cell_type": "code",
   "execution_count": null,
   "metadata": {},
   "outputs": [
    {
     "data": {
      "image/png": "[encoded data removed]",
      "text/plain": [
       "<Figure size 1200x600 with 1 Axes>"
      ]
     },
     "metadata": {},
     "output_type": "display_data"
    }
   ],
   "source": [
    "# Sort and group by date\n",
    "daily_pnl = trade_log.groupby(\"ExpiryDate\")[\"PnL_Total\"].sum().cumsum()\n",
    "\n",
    "plt.figure(figsize=(12, 6))\n",
    "plt.plot(daily_pnl.index, daily_pnl.values, linewidth=2)\n",
    "plt.title(\"Cumulative Strategy PnL Over Time\")\n",
    "plt.ylabel(\"Cumulative PnL\")\n",
    "plt.xlabel(\"Date\")\n",
    "plt.grid(True)\n",
    "plt.tight_layout()\n",
    "plt.show()\n"
   ]
  },
  {
   "cell_type": "markdown",
   "metadata": {},
   "source": [
    "# Portfolio Simulator Class"
   ]
  },
  {
   "cell_type": "code",
   "execution_count": null,
   "metadata": {},
   "outputs": [],
   "source": [
    "class BuyWritePortfolioSimulator:\n",
    "    def __init__(self, \n",
    "                 vol_summary_df,       # Full volatility summary (w/ vol breakouts)\n",
    "                 price_dir,            # Path to stock price files\n",
    "                 notional_per_trade=10000,\n",
    "                 num_positions=5,\n",
    "                 option_days=21,\n",
    "                 sector_limit=3):\n",
    "        \n",
    "        os.makedirs(\"../logs\", exist_ok=True)\n",
    "        timestamp = datetime.now().strftime(\"%Y%m%d_%H%M%S\")\n",
    "        self.log_file_path = f\"../logs/buywrite_log_{timestamp}.txt\"\n",
    "\n",
    "        with open(\"../data/sector_map.json\") as f:\n",
    "            self.ticker_sector_map = json.load(f)\n",
    "\n",
    "        \n",
    "        self.vol_summary_df = vol_summary_df.copy()\n",
    "        self.price_dir = price_dir\n",
    "        self.notional = notional_per_trade\n",
    "        self.num_positions = num_positions\n",
    "        self.option_days = option_days\n",
    "        self.sector_limit = sector_limit\n",
    "        self.summary_log = []\n",
    "        self.active_positions = []  # list of dicts for each open position\n",
    "        self.trade_log = []         # stores all completed trades\n",
    "        self.date_index = sorted(vol_summary_df[\"Date\"].unique())\n",
    "        \n",
    "    def _screen_high_vol(self, current_date, exclude_tickers=None):\n",
    "        \"\"\"\n",
    "        Return ranked list of high-vol tickers on a given date,\n",
    "        excluding any that would violate the sector cap.\n",
    "        \"\"\"\n",
    "        df = self.vol_summary_df\n",
    "        exclude = set(exclude_tickers or [])\n",
    "\n",
    "        # Count existing sector allocations\n",
    "        sector_counts = defaultdict(int)\n",
    "        for pos in self.active_positions:\n",
    "            ticker = pos[\"Ticker\"]\n",
    "            sector = self.ticker_sector_map.get(ticker, \"Unknown\")\n",
    "            sector_counts[sector] += 1\n",
    "\n",
    "        # Screen candidates by volatility\n",
    "        day_data = df[df[\"Date\"] == current_date]\n",
    "        tickers_ranked = (\n",
    "            day_data[~day_data[\"Ticker\"].isin(exclude)]\n",
    "            .sort_values(\"RollingVol\", ascending=False)[\"Ticker\"]\n",
    "            .tolist()\n",
    "        )\n",
    "\n",
    "        selected = []\n",
    "        for ticker in tickers_ranked:\n",
    "            sector = self.ticker_sector_map.get(ticker, \"Unknown\")\n",
    "            if sector_counts[sector] < self.sector_limit:\n",
    "                selected.append(ticker)\n",
    "                sector_counts[sector] += 1\n",
    "            if len(selected) >= self.num_positions:\n",
    "                break\n",
    "\n",
    "        return selected\n",
    "\n",
    "    def _load_price_data(self, ticker):\n",
    "        \"\"\"Loads the price CSV for a given ticker.\"\"\"\n",
    "        try:\n",
    "            df = pd.read_csv(f\"{self.price_dir}/{ticker}.csv\", parse_dates=[\"Date\"])\n",
    "            df = df.set_index(\"Date\").sort_index()\n",
    "            return df\n",
    "        except Exception as e:\n",
    "            print(f\"❌ Failed to load data for {ticker}: {e}\")\n",
    "            return None\n",
    "\n",
    "    def _enter_position(self, ticker, entry_date):\n",
    "        \"\"\"Simulate a new buy-write position on entry_date for a given ticker.\"\"\"\n",
    "        df = self._load_price_data(ticker)\n",
    "        if df is None or entry_date not in df.index:\n",
    "            return None\n",
    "\n",
    "        # Slice from entry date forward\n",
    "        sub_df = df[df.index >= entry_date].copy()\n",
    "        if len(sub_df) < self.option_days:\n",
    "            return None  # Not enough data to simulate a round\n",
    "\n",
    "        # Run simulation for this trade window\n",
    "        trade_df = simulate_buy_write(sub_df, \n",
    "                                    notional=self.notional, \n",
    "                                    option_days=self.option_days)\n",
    "\n",
    "        if trade_df.empty:\n",
    "            return None\n",
    "\n",
    "        # Keep only the first trade (single 1-month round)\n",
    "        trade = trade_df.iloc[0].to_dict()\n",
    "        trade[\"Ticker\"] = ticker\n",
    "        self.active_positions.append(trade)\n",
    "\n",
    "        \n",
    "    def _roll_or_replace(self, expiry_date):\n",
    "        \"\"\"Manage expiring positions: roll or replace.\"\"\"\n",
    "        new_positions = []\n",
    "        exited = []\n",
    "        rolled = []\n",
    "        replaced = []\n",
    "        new_buys = []\n",
    "        pnl_this_round = 0.0\n",
    "\n",
    "        for pos in self.active_positions:\n",
    "            if pd.to_datetime(pos[\"ExpiryDate\"]) != expiry_date:\n",
    "                new_positions.append(pos)\n",
    "                continue\n",
    "\n",
    "            self.trade_log.append(pos)\n",
    "            pnl_this_round += pos[\"PnL_Total_position\"]\n",
    "            exited.append(pos[\"Ticker\"])\n",
    "\n",
    "            if pos[\"Outcome\"] == \"Called\":\n",
    "                replaced.append(pos[\"Ticker\"])\n",
    "            else:\n",
    "                # Roll same stock forward\n",
    "                rolled.append(pos[\"Ticker\"])\n",
    "                self._enter_position(pos[\"Ticker\"], expiry_date)\n",
    "\n",
    "        self.active_positions = new_positions\n",
    "\n",
    "        # Fill vacant slots with new names\n",
    "        used_tickers = {pos[\"Ticker\"] for pos in self.active_positions}\n",
    "        candidates = self._screen_high_vol(expiry_date, exclude_tickers=used_tickers)\n",
    "\n",
    "        for ticker in candidates:\n",
    "            if len(self.active_positions) >= self.num_positions:\n",
    "                break\n",
    "            self._enter_position(ticker, expiry_date)\n",
    "            new_buys.append(ticker)\n",
    "\n",
    "        # 📝 One log entry per expiry\n",
    "        from datetime import datetime\n",
    "        summary_lines = []\n",
    "        summary_lines.append(f\"[{datetime.now().strftime('%Y-%m-%d %H:%M:%S')}] 📆 Expiry Date: {expiry_date.date()}\")\n",
    "\n",
    "        if rolled:\n",
    "            summary_lines.append(\"🔁 Rolled Positions:\")\n",
    "            for ticker in rolled:\n",
    "                try:\n",
    "                    shares = next(p for p in self.active_positions if p[\"Ticker\"] == ticker)[\"NumberShares\"]\n",
    "                    summary_lines.append(f\"   - {ticker}: {shares:.4f} shares\")\n",
    "                except StopIteration:\n",
    "                    summary_lines.append(f\"   - {ticker}: N/A\")\n",
    "\n",
    "        if replaced:\n",
    "            summary_lines.append(\"✅ Called Away (Exited): \" + \", \".join(replaced))\n",
    "\n",
    "        if new_buys:\n",
    "            summary_lines.append(\"🛒 New Positions:\")\n",
    "            for ticker in new_buys:\n",
    "                try:\n",
    "                    shares = next(p for p in self.active_positions if p[\"Ticker\"] == ticker)[\"NumberShares\"]\n",
    "                    summary_lines.append(f\"   - {ticker}: {shares:.4f} shares\")\n",
    "                except StopIteration:\n",
    "                    summary_lines.append(f\"   - {ticker}: N/A\")\n",
    "\n",
    "        summary_lines.append(f\"💰 Period PnL: ${pnl_this_round:,.2f}\")\n",
    "        summary_lines.append(\"─\" * 60)\n",
    "        summary_lines.append(f\"🏛 Sector Mix: {dict(sector_counts)}\")\n",
    "\n",
    "        # Write to log file\n",
    "        with open(self.log_file_path, \"a\") as f:\n",
    "            f.write(\"\\n\".join(summary_lines) + \"\\n\\n\")\n",
    "\n",
    "                    \n",
    "    def run(self):\n",
    "        \"\"\"Run the simulation from start to finish, stepping only on expiry dates.\"\"\"\n",
    "        # Initialize first portfolio\n",
    "        first_valid_date = self.date_index[0]\n",
    "        starting_tickers = self._screen_high_vol(first_valid_date)[:self.num_positions]\n",
    "        for ticker in starting_tickers:\n",
    "            self._enter_position(ticker, first_valid_date)\n",
    "\n",
    "        # Keep track of upcoming expiry dates from active positions\n",
    "        expiry_schedule = sorted({pd.to_datetime(p[\"ExpiryDate\"]) for p in self.active_positions})\n",
    "\n",
    "        while expiry_schedule:\n",
    "            next_expiry = expiry_schedule.pop(0)\n",
    "\n",
    "            self._roll_or_replace(next_expiry)\n",
    "\n",
    "            # Add new expiry dates from updated active positions\n",
    "            new_expiries = {pd.to_datetime(p[\"ExpiryDate\"]) for p in self.active_positions}\n",
    "            expiry_schedule = sorted(set(expiry_schedule).union(new_expiries))\n",
    "\n",
    "        return pd.DataFrame(self.trade_log)\n",
    "\n"
   ]
  },
  {
   "cell_type": "markdown",
   "metadata": {},
   "source": [
    "### Portfolio Run"
   ]
  },
  {
   "cell_type": "code",
   "execution_count": 126,
   "metadata": {},
   "outputs": [],
   "source": [
    "vol_summary = pd.read_csv(\"../data/volatility_summary.csv\", parse_dates=[\"Date\"])\n",
    "sim = BuyWritePortfolioSimulator(vol_summary_df=vol_summary,\n",
    "                                  price_dir=\"../data/stock_prices\",\n",
    "                                  notional_per_trade=10_000,\n",
    "                                  num_positions=5)\n",
    "\n",
    "portfolio_results = sim.run()\n",
    "portfolio_results.to_csv(\"../data/rotating_trade_log.csv\", index=False)\n"
   ]
  }
 ],
 "metadata": {
  "kernelspec": {
   "display_name": "BuyWriteProject",
   "language": "python",
   "name": "python3"
  },
  "language_info": {
   "codemirror_mode": {
    "name": "ipython",
    "version": 3
   },
   "file_extension": ".py",
   "mimetype": "text/x-python",
   "name": "python",
   "nbconvert_exporter": "python",
   "pygments_lexer": "ipython3",
   "version": "3.10.16"
  }
 },
 "nbformat": 4,
 "nbformat_minor": 2
}
